{
 "cells": [
  {
   "cell_type": "markdown",
   "source": [
    "**Zadanie 1**  \n",
    "Zbiór (niemały) logów z różnych systemów do wykorzystania w badaniach. Zwróć uwagę na licencję i cytowanie w razie wykorzystania zbioru.\n",
    "\n",
    "Link: https://github.com/logpai/loghub\n",
    "\n",
    "W przykładzie poniżej zostanie wykorzystany log serwera Apache ze strony wymienionej wyżej.\n",
    "Link do pliku sample: https://github.com/logpai/loghub/blob/master/Apache/Apache_2k.log\n",
    "\n",
    "**Zastanów się i spróbuj przerobić to rozwiązanie tak, aby możliwe było użycie wywołań dask delayed w celu zrównoleglenia części funkcji, np. parsowanie danych w celu pobrania wartości kolumn niezależnie (tylko jednej na raz). \n",
    "Dane końcowe możesz zapisać do dask DataFrame, a następnie do plików parquet.**\n",
    "\n",
    "Aby zyskać równie jakieś porównanie między wersją sekwencyjną a zrównolegloną, dodaj odpowiednio dużo danych ze zbiorów podlinkowanych powyżej oraz zmierz czas obu rozwiązań.\n",
    "\n",
    "W procesie poszukiwania dobrego rozwiązania z użyciem dask delayed pomocny może być poradnik z dobrymi praktykami dla tej części biblioteki dask: https://docs.dask.org/en/latest/delayed-best-practices.html"
   ],
   "metadata": {
    "collapsed": false
   },
   "id": "19af884bfea04a0b"
  },
  {
   "cell_type": "code",
   "outputs": [
    {
     "name": "stderr",
     "output_type": "stream",
     "text": [
      "D:\\Program\\anaconda3\\envs\\aaaaaaa\\Lib\\site-packages\\distributed\\node.py:187: UserWarning: Port 8787 is already in use.\n",
      "Perhaps you already have a cluster running?\n",
      "Hosting the HTTP server on port 58278 instead\n",
      "  warnings.warn(\n"
     ]
    },
    {
     "data": {
      "text/plain": "<Client: 'tcp://127.0.0.1:58279' processes=4 threads=12, memory=15.78 GiB>",
      "text/html": "<div>\n    <div style=\"width: 24px; height: 24px; background-color: #e1e1e1; border: 3px solid #9D9D9D; border-radius: 5px; position: absolute;\"> </div>\n    <div style=\"margin-left: 48px;\">\n        <h3 style=\"margin-bottom: 0px;\">Client</h3>\n        <p style=\"color: #9D9D9D; margin-bottom: 0px;\">Client-aa346d8e-90ae-11ef-8aac-088fc30cd710</p>\n        <table style=\"width: 100%; text-align: left;\">\n\n        <tr>\n        \n            <td style=\"text-align: left;\"><strong>Connection method:</strong> Cluster object</td>\n            <td style=\"text-align: left;\"><strong>Cluster type:</strong> distributed.LocalCluster</td>\n        \n        </tr>\n\n        \n            <tr>\n                <td style=\"text-align: left;\">\n                    <strong>Dashboard: </strong> <a href=\"http://127.0.0.1:58278/status\" target=\"_blank\">http://127.0.0.1:58278/status</a>\n                </td>\n                <td style=\"text-align: left;\"></td>\n            </tr>\n        \n\n        </table>\n\n        \n            <button style=\"margin-bottom: 12px;\" data-commandlinker-command=\"dask:populate-and-launch-layout\" data-commandlinker-args='{\"url\": \"http://127.0.0.1:58278/status\" }'>\n                Launch dashboard in JupyterLab\n            </button>\n        \n\n        \n            <details>\n            <summary style=\"margin-bottom: 20px;\"><h3 style=\"display: inline;\">Cluster Info</h3></summary>\n            <div class=\"jp-RenderedHTMLCommon jp-RenderedHTML jp-mod-trusted jp-OutputArea-output\">\n    <div style=\"width: 24px; height: 24px; background-color: #e1e1e1; border: 3px solid #9D9D9D; border-radius: 5px; position: absolute;\">\n    </div>\n    <div style=\"margin-left: 48px;\">\n        <h3 style=\"margin-bottom: 0px; margin-top: 0px;\">LocalCluster</h3>\n        <p style=\"color: #9D9D9D; margin-bottom: 0px;\">0f96d8c0</p>\n        <table style=\"width: 100%; text-align: left;\">\n            <tr>\n                <td style=\"text-align: left;\">\n                    <strong>Dashboard:</strong> <a href=\"http://127.0.0.1:58278/status\" target=\"_blank\">http://127.0.0.1:58278/status</a>\n                </td>\n                <td style=\"text-align: left;\">\n                    <strong>Workers:</strong> 4\n                </td>\n            </tr>\n            <tr>\n                <td style=\"text-align: left;\">\n                    <strong>Total threads:</strong> 12\n                </td>\n                <td style=\"text-align: left;\">\n                    <strong>Total memory:</strong> 15.78 GiB\n                </td>\n            </tr>\n            \n            <tr>\n    <td style=\"text-align: left;\"><strong>Status:</strong> running</td>\n    <td style=\"text-align: left;\"><strong>Using processes:</strong> True</td>\n</tr>\n\n            \n        </table>\n\n        <details>\n            <summary style=\"margin-bottom: 20px;\">\n                <h3 style=\"display: inline;\">Scheduler Info</h3>\n            </summary>\n\n            <div style=\"\">\n    <div>\n        <div style=\"width: 24px; height: 24px; background-color: #FFF7E5; border: 3px solid #FF6132; border-radius: 5px; position: absolute;\"> </div>\n        <div style=\"margin-left: 48px;\">\n            <h3 style=\"margin-bottom: 0px;\">Scheduler</h3>\n            <p style=\"color: #9D9D9D; margin-bottom: 0px;\">Scheduler-4fca4f53-7392-49ed-969f-7945d1b9b088</p>\n            <table style=\"width: 100%; text-align: left;\">\n                <tr>\n                    <td style=\"text-align: left;\">\n                        <strong>Comm:</strong> tcp://127.0.0.1:58279\n                    </td>\n                    <td style=\"text-align: left;\">\n                        <strong>Workers:</strong> 4\n                    </td>\n                </tr>\n                <tr>\n                    <td style=\"text-align: left;\">\n                        <strong>Dashboard:</strong> <a href=\"http://127.0.0.1:58278/status\" target=\"_blank\">http://127.0.0.1:58278/status</a>\n                    </td>\n                    <td style=\"text-align: left;\">\n                        <strong>Total threads:</strong> 12\n                    </td>\n                </tr>\n                <tr>\n                    <td style=\"text-align: left;\">\n                        <strong>Started:</strong> Just now\n                    </td>\n                    <td style=\"text-align: left;\">\n                        <strong>Total memory:</strong> 15.78 GiB\n                    </td>\n                </tr>\n            </table>\n        </div>\n    </div>\n\n    <details style=\"margin-left: 48px;\">\n        <summary style=\"margin-bottom: 20px;\">\n            <h3 style=\"display: inline;\">Workers</h3>\n        </summary>\n\n        \n        <div style=\"margin-bottom: 20px;\">\n            <div style=\"width: 24px; height: 24px; background-color: #DBF5FF; border: 3px solid #4CC9FF; border-radius: 5px; position: absolute;\"> </div>\n            <div style=\"margin-left: 48px;\">\n            <details>\n                <summary>\n                    <h4 style=\"margin-bottom: 0px; display: inline;\">Worker: 0</h4>\n                </summary>\n                <table style=\"width: 100%; text-align: left;\">\n                    <tr>\n                        <td style=\"text-align: left;\">\n                            <strong>Comm: </strong> tcp://127.0.0.1:58298\n                        </td>\n                        <td style=\"text-align: left;\">\n                            <strong>Total threads: </strong> 3\n                        </td>\n                    </tr>\n                    <tr>\n                        <td style=\"text-align: left;\">\n                            <strong>Dashboard: </strong> <a href=\"http://127.0.0.1:58301/status\" target=\"_blank\">http://127.0.0.1:58301/status</a>\n                        </td>\n                        <td style=\"text-align: left;\">\n                            <strong>Memory: </strong> 3.95 GiB\n                        </td>\n                    </tr>\n                    <tr>\n                        <td style=\"text-align: left;\">\n                            <strong>Nanny: </strong> tcp://127.0.0.1:58282\n                        </td>\n                        <td style=\"text-align: left;\"></td>\n                    </tr>\n                    <tr>\n                        <td colspan=\"2\" style=\"text-align: left;\">\n                            <strong>Local directory: </strong> C:\\Users\\weron\\AppData\\Local\\Temp\\dask-scratch-space\\worker-le9lsn2m\n                        </td>\n                    </tr>\n\n                    \n\n                    \n\n                </table>\n            </details>\n            </div>\n        </div>\n        \n        <div style=\"margin-bottom: 20px;\">\n            <div style=\"width: 24px; height: 24px; background-color: #DBF5FF; border: 3px solid #4CC9FF; border-radius: 5px; position: absolute;\"> </div>\n            <div style=\"margin-left: 48px;\">\n            <details>\n                <summary>\n                    <h4 style=\"margin-bottom: 0px; display: inline;\">Worker: 1</h4>\n                </summary>\n                <table style=\"width: 100%; text-align: left;\">\n                    <tr>\n                        <td style=\"text-align: left;\">\n                            <strong>Comm: </strong> tcp://127.0.0.1:58300\n                        </td>\n                        <td style=\"text-align: left;\">\n                            <strong>Total threads: </strong> 3\n                        </td>\n                    </tr>\n                    <tr>\n                        <td style=\"text-align: left;\">\n                            <strong>Dashboard: </strong> <a href=\"http://127.0.0.1:58304/status\" target=\"_blank\">http://127.0.0.1:58304/status</a>\n                        </td>\n                        <td style=\"text-align: left;\">\n                            <strong>Memory: </strong> 3.95 GiB\n                        </td>\n                    </tr>\n                    <tr>\n                        <td style=\"text-align: left;\">\n                            <strong>Nanny: </strong> tcp://127.0.0.1:58284\n                        </td>\n                        <td style=\"text-align: left;\"></td>\n                    </tr>\n                    <tr>\n                        <td colspan=\"2\" style=\"text-align: left;\">\n                            <strong>Local directory: </strong> C:\\Users\\weron\\AppData\\Local\\Temp\\dask-scratch-space\\worker-w5eic38y\n                        </td>\n                    </tr>\n\n                    \n\n                    \n\n                </table>\n            </details>\n            </div>\n        </div>\n        \n        <div style=\"margin-bottom: 20px;\">\n            <div style=\"width: 24px; height: 24px; background-color: #DBF5FF; border: 3px solid #4CC9FF; border-radius: 5px; position: absolute;\"> </div>\n            <div style=\"margin-left: 48px;\">\n            <details>\n                <summary>\n                    <h4 style=\"margin-bottom: 0px; display: inline;\">Worker: 2</h4>\n                </summary>\n                <table style=\"width: 100%; text-align: left;\">\n                    <tr>\n                        <td style=\"text-align: left;\">\n                            <strong>Comm: </strong> tcp://127.0.0.1:58299\n                        </td>\n                        <td style=\"text-align: left;\">\n                            <strong>Total threads: </strong> 3\n                        </td>\n                    </tr>\n                    <tr>\n                        <td style=\"text-align: left;\">\n                            <strong>Dashboard: </strong> <a href=\"http://127.0.0.1:58303/status\" target=\"_blank\">http://127.0.0.1:58303/status</a>\n                        </td>\n                        <td style=\"text-align: left;\">\n                            <strong>Memory: </strong> 3.95 GiB\n                        </td>\n                    </tr>\n                    <tr>\n                        <td style=\"text-align: left;\">\n                            <strong>Nanny: </strong> tcp://127.0.0.1:58286\n                        </td>\n                        <td style=\"text-align: left;\"></td>\n                    </tr>\n                    <tr>\n                        <td colspan=\"2\" style=\"text-align: left;\">\n                            <strong>Local directory: </strong> C:\\Users\\weron\\AppData\\Local\\Temp\\dask-scratch-space\\worker-lxs99z4u\n                        </td>\n                    </tr>\n\n                    \n\n                    \n\n                </table>\n            </details>\n            </div>\n        </div>\n        \n        <div style=\"margin-bottom: 20px;\">\n            <div style=\"width: 24px; height: 24px; background-color: #DBF5FF; border: 3px solid #4CC9FF; border-radius: 5px; position: absolute;\"> </div>\n            <div style=\"margin-left: 48px;\">\n            <details>\n                <summary>\n                    <h4 style=\"margin-bottom: 0px; display: inline;\">Worker: 3</h4>\n                </summary>\n                <table style=\"width: 100%; text-align: left;\">\n                    <tr>\n                        <td style=\"text-align: left;\">\n                            <strong>Comm: </strong> tcp://127.0.0.1:58307\n                        </td>\n                        <td style=\"text-align: left;\">\n                            <strong>Total threads: </strong> 3\n                        </td>\n                    </tr>\n                    <tr>\n                        <td style=\"text-align: left;\">\n                            <strong>Dashboard: </strong> <a href=\"http://127.0.0.1:58308/status\" target=\"_blank\">http://127.0.0.1:58308/status</a>\n                        </td>\n                        <td style=\"text-align: left;\">\n                            <strong>Memory: </strong> 3.95 GiB\n                        </td>\n                    </tr>\n                    <tr>\n                        <td style=\"text-align: left;\">\n                            <strong>Nanny: </strong> tcp://127.0.0.1:58288\n                        </td>\n                        <td style=\"text-align: left;\"></td>\n                    </tr>\n                    <tr>\n                        <td colspan=\"2\" style=\"text-align: left;\">\n                            <strong>Local directory: </strong> C:\\Users\\weron\\AppData\\Local\\Temp\\dask-scratch-space\\worker-oqt2i2pl\n                        </td>\n                    </tr>\n\n                    \n\n                    \n\n                </table>\n            </details>\n            </div>\n        </div>\n        \n\n    </details>\n</div>\n\n        </details>\n    </div>\n</div>\n            </details>\n        \n\n    </div>\n</div>"
     },
     "execution_count": 9,
     "metadata": {},
     "output_type": "execute_result"
    }
   ],
   "source": [
    "from dask.distributed import Client\n",
    "\n",
    "client = Client(n_workers=4)\n",
    "client"
   ],
   "metadata": {
    "collapsed": false,
    "ExecuteTime": {
     "end_time": "2024-10-22T19:48:55.808663400Z",
     "start_time": "2024-10-22T19:48:52.605663600Z"
    }
   },
   "id": "a39d4aafcae8e9eb",
   "execution_count": 9
  },
  {
   "cell_type": "code",
   "outputs": [
    {
     "name": "stdout",
     "output_type": "stream",
     "text": [
      "time: 0:00:00.070000\n"
     ]
    }
   ],
   "source": [
    "# kwestia wczytania plików zostanie tu pominięta\n",
    "\n",
    "from datetime import datetime\n",
    "import time\n",
    "import os\n",
    "import pandas as pd\n",
    "\n",
    "\n",
    "def read_lines(file_name, file_path='data'):\n",
    "    with open(os.path.join(file_path, file_name), 'r') as f:\n",
    "        return f.readlines()\n",
    "\n",
    "\n",
    "def parse(inp: str):\n",
    "    record = {}\n",
    "\n",
    "    date_start = inp.find('[') + 1\n",
    "    date_end = inp.find(']')\n",
    "    date_s = slice(date_start, date_end)\n",
    "\n",
    "    level_start = inp.find('[', date_end) + 1\n",
    "    level_end = inp.find(']', level_start)\n",
    "    level_s = slice(level_start, level_end)\n",
    "\n",
    "    client_start = inp.find('[', level_end)\n",
    "    client_end = inp.find(']', client_start)\n",
    "\n",
    "    record[\"date\"] = inp[date_s]\n",
    "    record[\"level\"] = inp[level_s]\n",
    "    record[\"client\"] = \"\" if client_start == -1 else inp[client_start + 8: client_end]\n",
    "    record[\"message\"] = inp[client_end + 2:] if record[\"client\"] else inp[level_end + 2:]\n",
    "\n",
    "    return record\n",
    "\n",
    "\n",
    "def convert_date(rec):\n",
    "    rec[\"date\"] = datetime.strptime(rec[\"date\"], \"%a %b %d %H:%M:%S %Y\")\n",
    "\n",
    "    return rec\n",
    "\n",
    "\n",
    "# przetworzenie loga\n",
    "start = datetime.now()\n",
    "output = []\n",
    "lines = read_lines(\"Apache_2k.log\")\n",
    "\n",
    "for line in lines:\n",
    "    record = parse(line)\n",
    "    record = convert_date(record)\n",
    "    output.append(list(record.values()))\n",
    "\n",
    "df = pd.DataFrame(output, columns=[\"date\", \"level\", \"client\", \"message\"])\n",
    "df.head()\n",
    "df.to_parquet(os.path.join('data','logs1.parquet'), engine='fastparquet')\n",
    "print(f\"time: {datetime.now() - start}\")"
   ],
   "metadata": {
    "collapsed": false,
    "ExecuteTime": {
     "end_time": "2024-10-22T19:48:55.884663800Z",
     "start_time": "2024-10-22T19:48:55.806160900Z"
    }
   },
   "id": "27e8b008cbb4ab36",
   "execution_count": 10
  },
  {
   "cell_type": "code",
   "outputs": [
    {
     "name": "stdout",
     "output_type": "stream",
     "text": [
      "time: 0:00:06.433039\n"
     ]
    }
   ],
   "source": [
    "import dask\n",
    "import os\n",
    "import pandas as pd\n",
    "import dask.dataframe as dd\n",
    "import fastparquet\n",
    "\n",
    "\n",
    "def read_lines(file_name, file_path='data'):\n",
    "    with open(os.path.join(file_path, file_name), 'r') as f:\n",
    "        return f.readlines()\n",
    "\n",
    "\n",
    "def load_column(column_name, data):\n",
    "    column = pd.DataFrame(columns=[column_name])\n",
    "    for i, l in enumerate(data):\n",
    "        if column_name == 'date':\n",
    "            date_start = l.find('[')\n",
    "            date_end = l.find(']')\n",
    "            date_s = slice(date_start + 1, date_end)\n",
    "            column.loc[len(column)] = convert_date_column(l[date_s])\n",
    "        elif column_name == 'level':\n",
    "            first_brace = l.find('[')\n",
    "            level_start = l.find('[', first_brace + 1)\n",
    "            level_end = l.find(']', level_start)\n",
    "            level_s = slice(level_start + 1, level_end)\n",
    "            column.loc[len(column)] = l[level_s]\n",
    "        elif column_name == 'client':\n",
    "            brace = -1\n",
    "            for i in range(2):\n",
    "                brace = l.find('[', brace + 1)\n",
    "            client_start = l.find('[', brace + 1)\n",
    "            if client_start != -1:\n",
    "                client_end = l.find(']', client_start)\n",
    "                client_s = slice(client_start, client_end)\n",
    "                column.loc[len(column)] = l[client_s]\n",
    "            else:\n",
    "                column.loc[len(column)] = None\n",
    "        else:\n",
    "            last_brace = l.rfind(']')\n",
    "            print(last_brace)\n",
    "            message = l[last_brace + 2:]\n",
    "            column.loc[len(column)] = message\n",
    "    # return column\n",
    "    return dd.from_pandas(column, npartitions=1)\n",
    "\n",
    "\n",
    "def convert_date_column(rec):\n",
    "    return datetime.strptime(rec, \"%a %b %d %H:%M:%S %Y\")\n",
    "\n",
    "\n",
    "def concat_columns(*columns):\n",
    "    return dd.concat([*columns], axis=1).compute()\n",
    "\n",
    "\n",
    "start = datetime.now()\n",
    "lines = read_lines(\"Apache_2k.log\")\n",
    "\n",
    "date = dask.delayed(load_column)('date', lines)\n",
    "level = dask.delayed(load_column)('level', lines)\n",
    "client = dask.delayed(load_column)('client', lines)\n",
    "message = dask.delayed(load_column)('message', lines)\n",
    "\n",
    "ddf = concat_columns(date.compute(), level.compute(), client.compute(), message.compute())\n",
    "\n",
    "ddf.to_parquet(os.path.join('data',\"logs2.parquet\"), engine=\"fastparquet\")\n",
    "print(f\"time: {datetime.now() - start}\")"
   ],
   "metadata": {
    "collapsed": false,
    "ExecuteTime": {
     "end_time": "2024-10-22T19:49:02.340759600Z",
     "start_time": "2024-10-22T19:48:55.890662600Z"
    }
   },
   "id": "65011bfb1665760c",
   "execution_count": 11
  },
  {
   "cell_type": "markdown",
   "source": [
    "**Zadanie 2**  \n",
    "Wykorzystując przykłady zaprezentowane w labie wykonaj na danych `people` (możesz zmniejszyć lub zwiększyć ich wolumen w zależności od potrzeb) operację z użyciem Dask bag, \n",
    "która polegać będzie na przetworzeniu wszystkich plików i zapisaniu do plików o nazwie `expired_{partition}.json` rekordów, których ważność karty kredytowej wygasła (jest to wartość w formacie miesiąc/rok). \n",
    "Zapisując ustaw finalną liczbę plików na 10 jeżeli była inna. Możesz to zrobić poprzez zmianę ilość partycji dask bag (patrz link do API na początku laba)."
   ],
   "metadata": {
    "collapsed": false
   },
   "id": "8221d860f5d39837"
  },
  {
   "cell_type": "code",
   "outputs": [],
   "source": [
    "import dask.bag as db\n",
    "import dask.dataframe as dd\n",
    "import json\n",
    "\n",
    "\n",
    "def is_card_expired(record):\n",
    "    expiration_date = record['credit-card']['expiration-date']\n",
    "    month, year = map(int, expiration_date.split('/'))\n",
    "    # Dodaj 2000 do roku, aby uzyskać pełny rok\n",
    "    full_year = 2000 + year\n",
    "    expiration = datetime(full_year, month, 1)\n",
    "    return datetime.now() > expiration\n",
    "\n",
    "\n",
    "# ponownie wykorzystujemy metodę map (tym razem mapujemy json.loads) na każdym pliku w folderze\n",
    "b = db.read_text(os.path.join('data', '*.json')).map(json.loads)\n",
    "# b = b.repartition(10)"
   ],
   "metadata": {
    "collapsed": false,
    "ExecuteTime": {
     "end_time": "2024-10-22T19:49:02.390662Z",
     "start_time": "2024-10-22T19:49:02.337663Z"
    }
   },
   "id": "1e48c7f9ec58234e",
   "execution_count": 12
  },
  {
   "cell_type": "code",
   "outputs": [],
   "source": [
    "# policzmy teraz ile jest osób pełnoletnich\n",
    "expired = b.filter(is_card_expired)\n",
    "expired = expired.repartition(10)"
   ],
   "metadata": {
    "collapsed": false,
    "ExecuteTime": {
     "end_time": "2024-10-22T19:49:02.400661900Z",
     "start_time": "2024-10-22T19:49:02.392163300Z"
    }
   },
   "id": "58e81561c6a0695b",
   "execution_count": 13
  },
  {
   "cell_type": "code",
   "outputs": [],
   "source": [
    "expired.map(json.dumps).to_textfiles(os.path.join('data','expired', f'expired_*.json'))"
   ],
   "metadata": {
    "collapsed": false
   },
   "id": "c4b7bd9aa5a5684e",
   "execution_count": null
  },
  {
   "cell_type": "markdown",
   "source": [
    "**Zadanie 3**  \n",
    "Wybierając z danych `people` dane tylko osób dorosłych (zaprezentowane w przykładach w tym labie) przechowaj je w obiekcie typu `bag`, a następnie zapisz je do dask dataframe za pomocą metody `to_dataframe` (pamiętaj o tym jaka jest aktualna struktura pojedynczego rekordu), a następnie zapisz do jednego pliku w formacie parquet."
   ],
   "metadata": {
    "collapsed": false
   },
   "id": "568502e3105b0060"
  },
  {
   "cell_type": "code",
   "execution_count": 15,
   "id": "f06d7e02f49d9d6b",
   "metadata": {
    "collapsed": false,
    "ExecuteTime": {
     "end_time": "2024-10-22T19:50:45.012160300Z",
     "start_time": "2024-10-22T19:49:31.652661400Z"
    }
   },
   "outputs": [],
   "source": [
    "count_adults = b.filter(lambda record: record['age'] >= 18).repartition(1)\n",
    "df = count_adults.to_dataframe().compute()"
   ]
  },
  {
   "cell_type": "code",
   "outputs": [],
   "source": [
    "df.to_parquet(os.path.join('data', \"adults.parquet\"), engine='fastparquet')"
   ],
   "metadata": {
    "collapsed": true,
    "ExecuteTime": {
     "end_time": "2024-10-22T19:50:46.505160600Z",
     "start_time": "2024-10-22T19:50:45.013659900Z"
    }
   },
   "id": "initial_id",
   "execution_count": 16
  }
 ],
 "metadata": {
  "kernelspec": {
   "display_name": "Python 3",
   "language": "python",
   "name": "python3"
  },
  "language_info": {
   "codemirror_mode": {
    "name": "ipython",
    "version": 2
   },
   "file_extension": ".py",
   "mimetype": "text/x-python",
   "name": "python",
   "nbconvert_exporter": "python",
   "pygments_lexer": "ipython2",
   "version": "2.7.6"
  }
 },
 "nbformat": 4,
 "nbformat_minor": 5
}
