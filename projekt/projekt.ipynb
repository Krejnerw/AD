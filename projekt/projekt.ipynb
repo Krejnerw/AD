{
 "cells": [
  {
   "cell_type": "markdown",
   "id": "e3356a13810ec2f",
   "metadata": {
    "collapsed": false
   },
   "source": [
    "# Etap 1 - pozyskanie danych."
   ]
  },
  {
   "cell_type": "code",
   "id": "69e8cc4733135dac",
   "metadata": {
    "collapsed": false,
    "ExecuteTime": {
     "end_time": "2025-01-28T20:01:51.468349900Z",
     "start_time": "2025-01-28T20:01:49.917442900Z"
    }
   },
   "source": [
    "import pandas as pd\n",
    "import numpy as np\n",
    "import dask.dataframe as dd\n",
    "import os\n",
    "import shutil\n",
    "\n",
    "from dask.diagnostics import ProgressBar\n",
    "from distributed import Client\n",
    "import seaborn as sns\n",
    "import matplotlib.pyplot as plt\n",
    "import dask.bag as db\n",
    "import gc\n",
    "from dask_ml.model_selection import train_test_split, GridSearchCV\n",
    "from dask_ml.preprocessing import LabelEncoder\n",
    "\n",
    "import dask.array as da\n",
    "import pickle\n",
    "\n",
    "from sklearn.linear_model import Ridge\n",
    "from sklearn.metrics import mean_squared_error, r2_score\n",
    "\n",
    "\n",
    "base_path = './project_data/parquet'\n",
    "os.makedirs(base_path, exist_ok=True)"
   ],
   "outputs": [],
   "execution_count": 1
  },
  {
   "cell_type": "code",
   "source": [
    "client = Client(n_workers=4, memory_limit='8GB',threads_per_worker=2)\n",
    "n_partition = 50\n",
    "client"
   ],
   "metadata": {
    "collapsed": false,
    "ExecuteTime": {
     "end_time": "2025-01-28T20:01:53.797131700Z",
     "start_time": "2025-01-28T20:01:51.470338100Z"
    }
   },
   "id": "1a89c314d7472ef3",
   "outputs": [
    {
     "data": {
      "text/plain": "<Client: 'tcp://127.0.0.1:50955' processes=4 threads=8, memory=29.80 GiB>",
      "text/html": "<div>\n    <div style=\"width: 24px; height: 24px; background-color: #e1e1e1; border: 3px solid #9D9D9D; border-radius: 5px; position: absolute;\"> </div>\n    <div style=\"margin-left: 48px;\">\n        <h3 style=\"margin-bottom: 0px;\">Client</h3>\n        <p style=\"color: #9D9D9D; margin-bottom: 0px;\">Client-b6ed186b-ddb2-11ef-86b0-088fc30cd710</p>\n        <table style=\"width: 100%; text-align: left;\">\n\n        <tr>\n        \n            <td style=\"text-align: left;\"><strong>Connection method:</strong> Cluster object</td>\n            <td style=\"text-align: left;\"><strong>Cluster type:</strong> distributed.LocalCluster</td>\n        \n        </tr>\n\n        \n            <tr>\n                <td style=\"text-align: left;\">\n                    <strong>Dashboard: </strong> <a href=\"http://127.0.0.1:8787/status\" target=\"_blank\">http://127.0.0.1:8787/status</a>\n                </td>\n                <td style=\"text-align: left;\"></td>\n            </tr>\n        \n\n        </table>\n\n        \n\n        \n            <details>\n            <summary style=\"margin-bottom: 20px;\"><h3 style=\"display: inline;\">Cluster Info</h3></summary>\n            <div class=\"jp-RenderedHTMLCommon jp-RenderedHTML jp-mod-trusted jp-OutputArea-output\">\n    <div style=\"width: 24px; height: 24px; background-color: #e1e1e1; border: 3px solid #9D9D9D; border-radius: 5px; position: absolute;\">\n    </div>\n    <div style=\"margin-left: 48px;\">\n        <h3 style=\"margin-bottom: 0px; margin-top: 0px;\">LocalCluster</h3>\n        <p style=\"color: #9D9D9D; margin-bottom: 0px;\">b04b8f6f</p>\n        <table style=\"width: 100%; text-align: left;\">\n            <tr>\n                <td style=\"text-align: left;\">\n                    <strong>Dashboard:</strong> <a href=\"http://127.0.0.1:8787/status\" target=\"_blank\">http://127.0.0.1:8787/status</a>\n                </td>\n                <td style=\"text-align: left;\">\n                    <strong>Workers:</strong> 4\n                </td>\n            </tr>\n            <tr>\n                <td style=\"text-align: left;\">\n                    <strong>Total threads:</strong> 8\n                </td>\n                <td style=\"text-align: left;\">\n                    <strong>Total memory:</strong> 29.80 GiB\n                </td>\n            </tr>\n            \n            <tr>\n    <td style=\"text-align: left;\"><strong>Status:</strong> running</td>\n    <td style=\"text-align: left;\"><strong>Using processes:</strong> True</td>\n</tr>\n\n            \n        </table>\n\n        <details>\n            <summary style=\"margin-bottom: 20px;\">\n                <h3 style=\"display: inline;\">Scheduler Info</h3>\n            </summary>\n\n            <div style=\"\">\n    <div>\n        <div style=\"width: 24px; height: 24px; background-color: #FFF7E5; border: 3px solid #FF6132; border-radius: 5px; position: absolute;\"> </div>\n        <div style=\"margin-left: 48px;\">\n            <h3 style=\"margin-bottom: 0px;\">Scheduler</h3>\n            <p style=\"color: #9D9D9D; margin-bottom: 0px;\">Scheduler-18c22b39-3403-4ae0-83a7-3978cb5a4462</p>\n            <table style=\"width: 100%; text-align: left;\">\n                <tr>\n                    <td style=\"text-align: left;\">\n                        <strong>Comm:</strong> tcp://127.0.0.1:50955\n                    </td>\n                    <td style=\"text-align: left;\">\n                        <strong>Workers:</strong> 4\n                    </td>\n                </tr>\n                <tr>\n                    <td style=\"text-align: left;\">\n                        <strong>Dashboard:</strong> <a href=\"http://127.0.0.1:8787/status\" target=\"_blank\">http://127.0.0.1:8787/status</a>\n                    </td>\n                    <td style=\"text-align: left;\">\n                        <strong>Total threads:</strong> 8\n                    </td>\n                </tr>\n                <tr>\n                    <td style=\"text-align: left;\">\n                        <strong>Started:</strong> Just now\n                    </td>\n                    <td style=\"text-align: left;\">\n                        <strong>Total memory:</strong> 29.80 GiB\n                    </td>\n                </tr>\n            </table>\n        </div>\n    </div>\n\n    <details style=\"margin-left: 48px;\">\n        <summary style=\"margin-bottom: 20px;\">\n            <h3 style=\"display: inline;\">Workers</h3>\n        </summary>\n\n        \n        <div style=\"margin-bottom: 20px;\">\n            <div style=\"width: 24px; height: 24px; background-color: #DBF5FF; border: 3px solid #4CC9FF; border-radius: 5px; position: absolute;\"> </div>\n            <div style=\"margin-left: 48px;\">\n            <details>\n                <summary>\n                    <h4 style=\"margin-bottom: 0px; display: inline;\">Worker: 0</h4>\n                </summary>\n                <table style=\"width: 100%; text-align: left;\">\n                    <tr>\n                        <td style=\"text-align: left;\">\n                            <strong>Comm: </strong> tcp://127.0.0.1:50978\n                        </td>\n                        <td style=\"text-align: left;\">\n                            <strong>Total threads: </strong> 2\n                        </td>\n                    </tr>\n                    <tr>\n                        <td style=\"text-align: left;\">\n                            <strong>Dashboard: </strong> <a href=\"http://127.0.0.1:50980/status\" target=\"_blank\">http://127.0.0.1:50980/status</a>\n                        </td>\n                        <td style=\"text-align: left;\">\n                            <strong>Memory: </strong> 7.45 GiB\n                        </td>\n                    </tr>\n                    <tr>\n                        <td style=\"text-align: left;\">\n                            <strong>Nanny: </strong> tcp://127.0.0.1:50958\n                        </td>\n                        <td style=\"text-align: left;\"></td>\n                    </tr>\n                    <tr>\n                        <td colspan=\"2\" style=\"text-align: left;\">\n                            <strong>Local directory: </strong> C:\\Users\\weron\\AppData\\Local\\Temp\\dask-scratch-space\\worker-b6s0q_xu\n                        </td>\n                    </tr>\n\n                    \n\n                    \n\n                </table>\n            </details>\n            </div>\n        </div>\n        \n        <div style=\"margin-bottom: 20px;\">\n            <div style=\"width: 24px; height: 24px; background-color: #DBF5FF; border: 3px solid #4CC9FF; border-radius: 5px; position: absolute;\"> </div>\n            <div style=\"margin-left: 48px;\">\n            <details>\n                <summary>\n                    <h4 style=\"margin-bottom: 0px; display: inline;\">Worker: 1</h4>\n                </summary>\n                <table style=\"width: 100%; text-align: left;\">\n                    <tr>\n                        <td style=\"text-align: left;\">\n                            <strong>Comm: </strong> tcp://127.0.0.1:50983\n                        </td>\n                        <td style=\"text-align: left;\">\n                            <strong>Total threads: </strong> 2\n                        </td>\n                    </tr>\n                    <tr>\n                        <td style=\"text-align: left;\">\n                            <strong>Dashboard: </strong> <a href=\"http://127.0.0.1:50984/status\" target=\"_blank\">http://127.0.0.1:50984/status</a>\n                        </td>\n                        <td style=\"text-align: left;\">\n                            <strong>Memory: </strong> 7.45 GiB\n                        </td>\n                    </tr>\n                    <tr>\n                        <td style=\"text-align: left;\">\n                            <strong>Nanny: </strong> tcp://127.0.0.1:50960\n                        </td>\n                        <td style=\"text-align: left;\"></td>\n                    </tr>\n                    <tr>\n                        <td colspan=\"2\" style=\"text-align: left;\">\n                            <strong>Local directory: </strong> C:\\Users\\weron\\AppData\\Local\\Temp\\dask-scratch-space\\worker-8e_758p9\n                        </td>\n                    </tr>\n\n                    \n\n                    \n\n                </table>\n            </details>\n            </div>\n        </div>\n        \n        <div style=\"margin-bottom: 20px;\">\n            <div style=\"width: 24px; height: 24px; background-color: #DBF5FF; border: 3px solid #4CC9FF; border-radius: 5px; position: absolute;\"> </div>\n            <div style=\"margin-left: 48px;\">\n            <details>\n                <summary>\n                    <h4 style=\"margin-bottom: 0px; display: inline;\">Worker: 2</h4>\n                </summary>\n                <table style=\"width: 100%; text-align: left;\">\n                    <tr>\n                        <td style=\"text-align: left;\">\n                            <strong>Comm: </strong> tcp://127.0.0.1:50977\n                        </td>\n                        <td style=\"text-align: left;\">\n                            <strong>Total threads: </strong> 2\n                        </td>\n                    </tr>\n                    <tr>\n                        <td style=\"text-align: left;\">\n                            <strong>Dashboard: </strong> <a href=\"http://127.0.0.1:50979/status\" target=\"_blank\">http://127.0.0.1:50979/status</a>\n                        </td>\n                        <td style=\"text-align: left;\">\n                            <strong>Memory: </strong> 7.45 GiB\n                        </td>\n                    </tr>\n                    <tr>\n                        <td style=\"text-align: left;\">\n                            <strong>Nanny: </strong> tcp://127.0.0.1:50962\n                        </td>\n                        <td style=\"text-align: left;\"></td>\n                    </tr>\n                    <tr>\n                        <td colspan=\"2\" style=\"text-align: left;\">\n                            <strong>Local directory: </strong> C:\\Users\\weron\\AppData\\Local\\Temp\\dask-scratch-space\\worker-pwc3c5m_\n                        </td>\n                    </tr>\n\n                    \n\n                    \n\n                </table>\n            </details>\n            </div>\n        </div>\n        \n        <div style=\"margin-bottom: 20px;\">\n            <div style=\"width: 24px; height: 24px; background-color: #DBF5FF; border: 3px solid #4CC9FF; border-radius: 5px; position: absolute;\"> </div>\n            <div style=\"margin-left: 48px;\">\n            <details>\n                <summary>\n                    <h4 style=\"margin-bottom: 0px; display: inline;\">Worker: 3</h4>\n                </summary>\n                <table style=\"width: 100%; text-align: left;\">\n                    <tr>\n                        <td style=\"text-align: left;\">\n                            <strong>Comm: </strong> tcp://127.0.0.1:50974\n                        </td>\n                        <td style=\"text-align: left;\">\n                            <strong>Total threads: </strong> 2\n                        </td>\n                    </tr>\n                    <tr>\n                        <td style=\"text-align: left;\">\n                            <strong>Dashboard: </strong> <a href=\"http://127.0.0.1:50975/status\" target=\"_blank\">http://127.0.0.1:50975/status</a>\n                        </td>\n                        <td style=\"text-align: left;\">\n                            <strong>Memory: </strong> 7.45 GiB\n                        </td>\n                    </tr>\n                    <tr>\n                        <td style=\"text-align: left;\">\n                            <strong>Nanny: </strong> tcp://127.0.0.1:50964\n                        </td>\n                        <td style=\"text-align: left;\"></td>\n                    </tr>\n                    <tr>\n                        <td colspan=\"2\" style=\"text-align: left;\">\n                            <strong>Local directory: </strong> C:\\Users\\weron\\AppData\\Local\\Temp\\dask-scratch-space\\worker-dwrv9ub4\n                        </td>\n                    </tr>\n\n                    \n\n                    \n\n                </table>\n            </details>\n            </div>\n        </div>\n        \n\n    </details>\n</div>\n\n        </details>\n    </div>\n</div>\n            </details>\n        \n\n    </div>\n</div>"
     },
     "execution_count": 2,
     "metadata": {},
     "output_type": "execute_result"
    }
   ],
   "execution_count": 2
  },
  {
   "cell_type": "markdown",
   "id": "3fada04b43970e8e",
   "metadata": {
    "collapsed": false
   },
   "source": [
    "## Pobranie danych"
   ]
  },
  {
   "cell_type": "code",
   "source": [
    "folder_path = 'project_data/stocks/'\n",
    "csv_files = [os.path.join(folder_path, f) for f in os.listdir(folder_path) if f.endswith('.csv')]\n",
    "\n",
    "bag = db.from_sequence(csv_files)\n",
    "bag = bag.map(lambda file: dd.read_csv(file).assign(Stock_Type=os.path.basename(file).replace('.csv', '')))"
   ],
   "metadata": {
    "collapsed": false,
    "ExecuteTime": {
     "end_time": "2025-01-28T20:01:53.815387700Z",
     "start_time": "2025-01-28T20:01:53.796131800Z"
    }
   },
   "id": "f3abc671acbb575e",
   "outputs": [],
   "execution_count": 3
  },
  {
   "cell_type": "code",
   "source": [
    "dfs = bag.compute()\n",
    "combined_df = dd.concat(dfs, axis=0)\n",
    "\n",
    "combined_df.head()"
   ],
   "metadata": {
    "collapsed": false,
    "ExecuteTime": {
     "end_time": "2025-01-28T20:02:17.135447500Z",
     "start_time": "2025-01-28T20:01:53.807774100Z"
    }
   },
   "id": "2e8d4d907fc901d1",
   "outputs": [
    {
     "data": {
      "text/plain": "                        Date      Open      High       Low     Close Volume  \\\n0  1962-01-02 00:00:00-05:00       0.0  1.503273  1.494699  1.494699  55930   \n1  1962-01-03 00:00:00-05:00  1.494699  1.517562  1.491841  1.517562  74906   \n2  1962-01-04 00:00:00-05:00  1.517562  1.528994  1.517562  1.517562  80899   \n3  1962-01-05 00:00:00-05:00  1.517562  1.526136  1.511847  1.514704  70911   \n4  1962-01-08 00:00:00-05:00  1.508989  1.508989   1.45183  1.463262  93883   \n\n   Dividends  Stock Splits Stock_Type Adj Close  \n0        0.0           0.0         AA      <NA>  \n1        0.0           0.0         AA      <NA>  \n2        0.0           0.0         AA      <NA>  \n3        0.0           0.0         AA      <NA>  \n4        0.0           0.0         AA      <NA>  ",
      "text/html": "<div>\n<style scoped>\n    .dataframe tbody tr th:only-of-type {\n        vertical-align: middle;\n    }\n\n    .dataframe tbody tr th {\n        vertical-align: top;\n    }\n\n    .dataframe thead th {\n        text-align: right;\n    }\n</style>\n<table border=\"1\" class=\"dataframe\">\n  <thead>\n    <tr style=\"text-align: right;\">\n      <th></th>\n      <th>Date</th>\n      <th>Open</th>\n      <th>High</th>\n      <th>Low</th>\n      <th>Close</th>\n      <th>Volume</th>\n      <th>Dividends</th>\n      <th>Stock Splits</th>\n      <th>Stock_Type</th>\n      <th>Adj Close</th>\n    </tr>\n  </thead>\n  <tbody>\n    <tr>\n      <th>0</th>\n      <td>1962-01-02 00:00:00-05:00</td>\n      <td>0.0</td>\n      <td>1.503273</td>\n      <td>1.494699</td>\n      <td>1.494699</td>\n      <td>55930</td>\n      <td>0.0</td>\n      <td>0.0</td>\n      <td>AA</td>\n      <td>&lt;NA&gt;</td>\n    </tr>\n    <tr>\n      <th>1</th>\n      <td>1962-01-03 00:00:00-05:00</td>\n      <td>1.494699</td>\n      <td>1.517562</td>\n      <td>1.491841</td>\n      <td>1.517562</td>\n      <td>74906</td>\n      <td>0.0</td>\n      <td>0.0</td>\n      <td>AA</td>\n      <td>&lt;NA&gt;</td>\n    </tr>\n    <tr>\n      <th>2</th>\n      <td>1962-01-04 00:00:00-05:00</td>\n      <td>1.517562</td>\n      <td>1.528994</td>\n      <td>1.517562</td>\n      <td>1.517562</td>\n      <td>80899</td>\n      <td>0.0</td>\n      <td>0.0</td>\n      <td>AA</td>\n      <td>&lt;NA&gt;</td>\n    </tr>\n    <tr>\n      <th>3</th>\n      <td>1962-01-05 00:00:00-05:00</td>\n      <td>1.517562</td>\n      <td>1.526136</td>\n      <td>1.511847</td>\n      <td>1.514704</td>\n      <td>70911</td>\n      <td>0.0</td>\n      <td>0.0</td>\n      <td>AA</td>\n      <td>&lt;NA&gt;</td>\n    </tr>\n    <tr>\n      <th>4</th>\n      <td>1962-01-08 00:00:00-05:00</td>\n      <td>1.508989</td>\n      <td>1.508989</td>\n      <td>1.45183</td>\n      <td>1.463262</td>\n      <td>93883</td>\n      <td>0.0</td>\n      <td>0.0</td>\n      <td>AA</td>\n      <td>&lt;NA&gt;</td>\n    </tr>\n  </tbody>\n</table>\n</div>"
     },
     "execution_count": 4,
     "metadata": {},
     "output_type": "execute_result"
    }
   ],
   "execution_count": 4
  },
  {
   "cell_type": "code",
   "source": [
    "combined_df.dtypes"
   ],
   "metadata": {
    "collapsed": false,
    "ExecuteTime": {
     "end_time": "2025-01-28T20:02:17.141062300Z",
     "start_time": "2025-01-28T20:02:17.134447500Z"
    }
   },
   "id": "a518e248257b15a3",
   "outputs": [
    {
     "data": {
      "text/plain": "Date            string[pyarrow]\nOpen                     object\nHigh                     object\nLow                      object\nClose                    object\nVolume                   object\nDividends               float64\nStock Splits            float64\nStock_Type               object\nAdj Close       string[pyarrow]\ndtype: object"
     },
     "execution_count": 5,
     "metadata": {},
     "output_type": "execute_result"
    }
   ],
   "execution_count": 5
  },
  {
   "cell_type": "code",
   "id": "23fc88559c1a25be",
   "metadata": {
    "collapsed": false,
    "ExecuteTime": {
     "end_time": "2025-01-28T20:02:17.156573600Z",
     "start_time": "2025-01-28T20:02:17.139547100Z"
    }
   },
   "source": [
    "del csv_files\n",
    "del dfs"
   ],
   "outputs": [],
   "execution_count": 6
  },
  {
   "cell_type": "markdown",
   "id": "95d131569b564e23",
   "metadata": {
    "collapsed": false
   },
   "source": [
    "# Etap 2 - analiza eksploracyjna i preprocessing danych."
   ]
  },
  {
   "cell_type": "markdown",
   "id": "a1160e0585cde9c5",
   "metadata": {
    "collapsed": false
   },
   "source": [
    "## Analiza podstawowych statystyk"
   ]
  },
  {
   "cell_type": "code",
   "id": "d42c0555cf698789",
   "metadata": {
    "collapsed": false,
    "ExecuteTime": {
     "end_time": "2025-01-28T20:02:33.967502700Z",
     "start_time": "2025-01-28T20:02:17.144575100Z"
    }
   },
   "source": [
    "dask_df = combined_df.copy()\n",
    "dask_df = dask_df.persist()"
   ],
   "outputs": [],
   "execution_count": 7
  },
  {
   "cell_type": "code",
   "source": [
    "dask_df.describe().compute()"
   ],
   "metadata": {
    "collapsed": false,
    "ExecuteTime": {
     "end_time": "2025-01-28T20:02:47.124893400Z",
     "start_time": "2025-01-28T20:02:33.969502900Z"
    }
   },
   "id": "64e95fe3405b3628",
   "outputs": [
    {
     "data": {
      "text/plain": "          Dividends  Stock Splits\ncount  8.535407e+06  8.535407e+06\nmean   3.140786e-03  6.217332e-04\nstd    3.643578e-01  3.555194e-02\nmin    0.000000e+00  0.000000e+00\n25%    0.000000e+00  0.000000e+00\n50%    0.000000e+00  0.000000e+00\n75%    0.000000e+00  0.000000e+00\nmax    1.000000e+03  1.243000e+01",
      "text/html": "<div>\n<style scoped>\n    .dataframe tbody tr th:only-of-type {\n        vertical-align: middle;\n    }\n\n    .dataframe tbody tr th {\n        vertical-align: top;\n    }\n\n    .dataframe thead th {\n        text-align: right;\n    }\n</style>\n<table border=\"1\" class=\"dataframe\">\n  <thead>\n    <tr style=\"text-align: right;\">\n      <th></th>\n      <th>Dividends</th>\n      <th>Stock Splits</th>\n    </tr>\n  </thead>\n  <tbody>\n    <tr>\n      <th>count</th>\n      <td>8.535407e+06</td>\n      <td>8.535407e+06</td>\n    </tr>\n    <tr>\n      <th>mean</th>\n      <td>3.140786e-03</td>\n      <td>6.217332e-04</td>\n    </tr>\n    <tr>\n      <th>std</th>\n      <td>3.643578e-01</td>\n      <td>3.555194e-02</td>\n    </tr>\n    <tr>\n      <th>min</th>\n      <td>0.000000e+00</td>\n      <td>0.000000e+00</td>\n    </tr>\n    <tr>\n      <th>25%</th>\n      <td>0.000000e+00</td>\n      <td>0.000000e+00</td>\n    </tr>\n    <tr>\n      <th>50%</th>\n      <td>0.000000e+00</td>\n      <td>0.000000e+00</td>\n    </tr>\n    <tr>\n      <th>75%</th>\n      <td>0.000000e+00</td>\n      <td>0.000000e+00</td>\n    </tr>\n    <tr>\n      <th>max</th>\n      <td>1.000000e+03</td>\n      <td>1.243000e+01</td>\n    </tr>\n  </tbody>\n</table>\n</div>"
     },
     "execution_count": 8,
     "metadata": {},
     "output_type": "execute_result"
    }
   ],
   "execution_count": 8
  },
  {
   "cell_type": "code",
   "id": "b708bce184d68568",
   "metadata": {
    "collapsed": false,
    "ExecuteTime": {
     "end_time": "2025-01-28T20:02:47.126892Z",
     "start_time": "2025-01-28T20:02:47.109461800Z"
    }
   },
   "source": [
    "dask_df = dask_df.astype({\n",
    "    \"Open\": \"float64\",\n",
    "    \"High\": \"float64\",\n",
    "    \"Low\": \"float64\",\n",
    "    \"Close\": \"float64\",\n",
    "    \"Volume\": \"float64\"\n",
    "})\n",
    "dask_df.dtypes"
   ],
   "outputs": [
    {
     "data": {
      "text/plain": "Date            string[pyarrow]\nOpen                    float64\nHigh                    float64\nLow                     float64\nClose                   float64\nVolume                  float64\nDividends               float64\nStock Splits            float64\nStock_Type               object\nAdj Close       string[pyarrow]\ndtype: object"
     },
     "execution_count": 9,
     "metadata": {},
     "output_type": "execute_result"
    }
   ],
   "execution_count": 9
  },
  {
   "cell_type": "markdown",
   "id": "ad1b0ab952e97282",
   "metadata": {
    "collapsed": false
   },
   "source": [
    "## Analiza brakujących danych"
   ]
  },
  {
   "cell_type": "markdown",
   "id": "149042ef574a9e12",
   "metadata": {
    "collapsed": false
   },
   "source": [
    "### Szukanie brakujących wartości "
   ]
  },
  {
   "cell_type": "code",
   "id": "e942a0dbab289311",
   "metadata": {
    "collapsed": false,
    "ExecuteTime": {
     "end_time": "2025-01-28T20:02:50.630082300Z",
     "start_time": "2025-01-28T20:02:47.122893Z"
    }
   },
   "source": [
    "missing_data = dask_df.isnull().sum().compute()\n",
    "missing_data"
   ],
   "outputs": [
    {
     "data": {
      "text/plain": "Date                  0\nOpen                  1\nHigh                  1\nLow                   1\nClose                 1\nVolume                0\nDividends             0\nStock Splits          0\nStock_Type            0\nAdj Close       8535407\ndtype: int64"
     },
     "execution_count": 10,
     "metadata": {},
     "output_type": "execute_result"
    }
   ],
   "execution_count": 10
  },
  {
   "cell_type": "markdown",
   "id": "8f9d94ad39ef2012",
   "metadata": {
    "collapsed": false
   },
   "source": [
    "### Działania na brakujących wartościach"
   ]
  },
  {
   "cell_type": "code",
   "id": "917196672f5c39ec",
   "metadata": {
    "collapsed": false,
    "ExecuteTime": {
     "end_time": "2025-01-28T20:02:51.964986200Z",
     "start_time": "2025-01-28T20:02:50.631075100Z"
    }
   },
   "source": [
    "record_number = len(dask_df)\n",
    "\n",
    "for column, value in missing_data.items():\n",
    "    if value > 0:\n",
    "        if value / record_number > 0.3:\n",
    "            dask_df = dask_df.drop(column, axis=1)\n",
    "        elif dask_df[column].dtype == 'string[pyarrow]':\n",
    "            # Usunięcie tylko rekordów, które zawierają braki w kolumnach typu string\n",
    "            dask_df = dask_df.dropna(subset=[column])\n",
    "        else:\n",
    "            if dask_df[column].dtype == 'float64':\n",
    "                mean_value = dask_df[column].mean()\n",
    "                dask_df[column] = dask_df[column].fillna(mean_value)\n",
    "            elif dask_df[column].dtype == 'int64':\n",
    "                mean_value = dask_df[column].mean().round().astype('int64')\n",
    "                dask_df[column] = dask_df[column].fillna(mean_value)"
   ],
   "outputs": [],
   "execution_count": 11
  },
  {
   "cell_type": "code",
   "source": [
    "dask_df = dask_df.reset_index(drop=True)\n",
    "dask_df = dask_df.persist()\n",
    "dask_df.describe().compute()"
   ],
   "metadata": {
    "collapsed": false,
    "ExecuteTime": {
     "end_time": "2025-01-28T20:03:23.113229600Z",
     "start_time": "2025-01-28T20:02:51.964986200Z"
    }
   },
   "id": "44b9d0351bc28490",
   "outputs": [
    {
     "data": {
      "text/plain": "               Open          High           Low         Close        Volume  \\\ncount  8.535407e+06  8.535407e+06  8.535407e+06  8.535407e+06  8.535407e+06   \nmean   2.752770e+01  2.873015e+01  2.791936e+01  2.832380e+01  2.191716e+06   \nstd    1.421413e+02  1.466794e+02  1.385828e+02  1.425282e+02  1.802394e+07   \nmin   -6.608854e+02 -6.608857e+02 -6.518325e+02 -6.608857e+02  0.000000e+00   \n25%    3.989190e+00  4.274937e+00  4.199787e+00  4.231564e+00  5.440000e+04   \n50%    1.314219e+01  1.359538e+01  1.317583e+01  1.339000e+01  5.620000e+05   \n75%    3.950135e+01  4.053861e+01  3.931000e+01  3.997683e+01  4.072400e+06   \nmax    2.836882e+04  2.931381e+04  2.653671e+04  2.784812e+04  7.421641e+09   \n\n          Dividends  Stock Splits  \ncount  8.535407e+06  8.535407e+06  \nmean   3.140786e-03  6.217332e-04  \nstd    3.643578e-01  3.555194e-02  \nmin    0.000000e+00  0.000000e+00  \n25%    0.000000e+00  0.000000e+00  \n50%    0.000000e+00  0.000000e+00  \n75%    0.000000e+00  0.000000e+00  \nmax    1.000000e+03  1.243000e+01  ",
      "text/html": "<div>\n<style scoped>\n    .dataframe tbody tr th:only-of-type {\n        vertical-align: middle;\n    }\n\n    .dataframe tbody tr th {\n        vertical-align: top;\n    }\n\n    .dataframe thead th {\n        text-align: right;\n    }\n</style>\n<table border=\"1\" class=\"dataframe\">\n  <thead>\n    <tr style=\"text-align: right;\">\n      <th></th>\n      <th>Open</th>\n      <th>High</th>\n      <th>Low</th>\n      <th>Close</th>\n      <th>Volume</th>\n      <th>Dividends</th>\n      <th>Stock Splits</th>\n    </tr>\n  </thead>\n  <tbody>\n    <tr>\n      <th>count</th>\n      <td>8.535407e+06</td>\n      <td>8.535407e+06</td>\n      <td>8.535407e+06</td>\n      <td>8.535407e+06</td>\n      <td>8.535407e+06</td>\n      <td>8.535407e+06</td>\n      <td>8.535407e+06</td>\n    </tr>\n    <tr>\n      <th>mean</th>\n      <td>2.752770e+01</td>\n      <td>2.873015e+01</td>\n      <td>2.791936e+01</td>\n      <td>2.832380e+01</td>\n      <td>2.191716e+06</td>\n      <td>3.140786e-03</td>\n      <td>6.217332e-04</td>\n    </tr>\n    <tr>\n      <th>std</th>\n      <td>1.421413e+02</td>\n      <td>1.466794e+02</td>\n      <td>1.385828e+02</td>\n      <td>1.425282e+02</td>\n      <td>1.802394e+07</td>\n      <td>3.643578e-01</td>\n      <td>3.555194e-02</td>\n    </tr>\n    <tr>\n      <th>min</th>\n      <td>-6.608854e+02</td>\n      <td>-6.608857e+02</td>\n      <td>-6.518325e+02</td>\n      <td>-6.608857e+02</td>\n      <td>0.000000e+00</td>\n      <td>0.000000e+00</td>\n      <td>0.000000e+00</td>\n    </tr>\n    <tr>\n      <th>25%</th>\n      <td>3.989190e+00</td>\n      <td>4.274937e+00</td>\n      <td>4.199787e+00</td>\n      <td>4.231564e+00</td>\n      <td>5.440000e+04</td>\n      <td>0.000000e+00</td>\n      <td>0.000000e+00</td>\n    </tr>\n    <tr>\n      <th>50%</th>\n      <td>1.314219e+01</td>\n      <td>1.359538e+01</td>\n      <td>1.317583e+01</td>\n      <td>1.339000e+01</td>\n      <td>5.620000e+05</td>\n      <td>0.000000e+00</td>\n      <td>0.000000e+00</td>\n    </tr>\n    <tr>\n      <th>75%</th>\n      <td>3.950135e+01</td>\n      <td>4.053861e+01</td>\n      <td>3.931000e+01</td>\n      <td>3.997683e+01</td>\n      <td>4.072400e+06</td>\n      <td>0.000000e+00</td>\n      <td>0.000000e+00</td>\n    </tr>\n    <tr>\n      <th>max</th>\n      <td>2.836882e+04</td>\n      <td>2.931381e+04</td>\n      <td>2.653671e+04</td>\n      <td>2.784812e+04</td>\n      <td>7.421641e+09</td>\n      <td>1.000000e+03</td>\n      <td>1.243000e+01</td>\n    </tr>\n  </tbody>\n</table>\n</div>"
     },
     "execution_count": 12,
     "metadata": {},
     "output_type": "execute_result"
    }
   ],
   "execution_count": 12
  },
  {
   "cell_type": "code",
   "id": "5ce583b3e7099ed2",
   "metadata": {
    "collapsed": false,
    "ExecuteTime": {
     "end_time": "2025-01-28T20:03:25.187554500Z",
     "start_time": "2025-01-28T20:03:23.134230500Z"
    }
   },
   "source": [
    "missing_data = dask_df.isnull().sum().compute()\n",
    "missing_data"
   ],
   "outputs": [
    {
     "data": {
      "text/plain": "Date            0\nOpen            0\nHigh            0\nLow             0\nClose           0\nVolume          0\nDividends       0\nStock Splits    0\nStock_Type      0\ndtype: int64"
     },
     "execution_count": 13,
     "metadata": {},
     "output_type": "execute_result"
    }
   ],
   "execution_count": 13
  },
  {
   "cell_type": "code",
   "source": [
    "dask_df.dtypes"
   ],
   "metadata": {
    "collapsed": false,
    "ExecuteTime": {
     "end_time": "2025-01-28T20:03:25.207562400Z",
     "start_time": "2025-01-28T20:03:25.181507800Z"
    }
   },
   "id": "c1e8ce7dd9e340e",
   "outputs": [
    {
     "data": {
      "text/plain": "Date            string[pyarrow]\nOpen                    float64\nHigh                    float64\nLow                     float64\nClose                   float64\nVolume                  float64\nDividends               float64\nStock Splits            float64\nStock_Type               object\ndtype: object"
     },
     "execution_count": 14,
     "metadata": {},
     "output_type": "execute_result"
    }
   ],
   "execution_count": 14
  },
  {
   "cell_type": "markdown",
   "source": [
    "## Zapis danych do parquet"
   ],
   "metadata": {
    "collapsed": false
   },
   "id": "314cbf7404ab8c99"
  },
  {
   "cell_type": "code",
   "source": [
    "output_path = os.path.join(base_path, 'raw_data')\n",
    "os.makedirs(output_path, exist_ok=True)\n",
    "with ProgressBar():\n",
    "    dask_df.to_parquet(output_path ,name_function=lambda x: f\"data-{x}.parquet\", engine='pyarrow')"
   ],
   "metadata": {
    "collapsed": false,
    "ExecuteTime": {
     "end_time": "2025-01-28T20:03:30.138048Z",
     "start_time": "2025-01-28T20:03:25.196557700Z"
    }
   },
   "id": "52a59858ea9f1af4",
   "outputs": [],
   "execution_count": 15
  },
  {
   "cell_type": "markdown",
   "source": [
    "## Wczytanie danych z parquet do Dask DataFrame"
   ],
   "metadata": {
    "collapsed": false
   },
   "id": "7391142ce60f4bc0"
  },
  {
   "cell_type": "code",
   "source": [
    "dask_df = dd.read_parquet(output_path, engine='pyarrow')\n",
    "dask_df = dask_df.repartition(npartitions=n_partition)\n",
    "dask_df.head()"
   ],
   "metadata": {
    "collapsed": false,
    "ExecuteTime": {
     "end_time": "2025-01-28T20:03:30.611483700Z",
     "start_time": "2025-01-28T20:03:30.130048900Z"
    }
   },
   "id": "68a84b7f4bf02c6e",
   "outputs": [
    {
     "data": {
      "text/plain": "                        Date      Open      High       Low     Close   Volume  \\\n0  1962-01-02 00:00:00-05:00  0.000000  1.503273  1.494699  1.494699  55930.0   \n1  1962-01-03 00:00:00-05:00  1.494699  1.517562  1.491841  1.517562  74906.0   \n2  1962-01-04 00:00:00-05:00  1.517562  1.528994  1.517562  1.517562  80899.0   \n3  1962-01-05 00:00:00-05:00  1.517562  1.526136  1.511847  1.514704  70911.0   \n4  1962-01-08 00:00:00-05:00  1.508989  1.508989  1.451830  1.463262  93883.0   \n\n   Dividends  Stock Splits Stock_Type  \n0        0.0           0.0         AA  \n1        0.0           0.0         AA  \n2        0.0           0.0         AA  \n3        0.0           0.0         AA  \n4        0.0           0.0         AA  ",
      "text/html": "<div>\n<style scoped>\n    .dataframe tbody tr th:only-of-type {\n        vertical-align: middle;\n    }\n\n    .dataframe tbody tr th {\n        vertical-align: top;\n    }\n\n    .dataframe thead th {\n        text-align: right;\n    }\n</style>\n<table border=\"1\" class=\"dataframe\">\n  <thead>\n    <tr style=\"text-align: right;\">\n      <th></th>\n      <th>Date</th>\n      <th>Open</th>\n      <th>High</th>\n      <th>Low</th>\n      <th>Close</th>\n      <th>Volume</th>\n      <th>Dividends</th>\n      <th>Stock Splits</th>\n      <th>Stock_Type</th>\n    </tr>\n  </thead>\n  <tbody>\n    <tr>\n      <th>0</th>\n      <td>1962-01-02 00:00:00-05:00</td>\n      <td>0.000000</td>\n      <td>1.503273</td>\n      <td>1.494699</td>\n      <td>1.494699</td>\n      <td>55930.0</td>\n      <td>0.0</td>\n      <td>0.0</td>\n      <td>AA</td>\n    </tr>\n    <tr>\n      <th>1</th>\n      <td>1962-01-03 00:00:00-05:00</td>\n      <td>1.494699</td>\n      <td>1.517562</td>\n      <td>1.491841</td>\n      <td>1.517562</td>\n      <td>74906.0</td>\n      <td>0.0</td>\n      <td>0.0</td>\n      <td>AA</td>\n    </tr>\n    <tr>\n      <th>2</th>\n      <td>1962-01-04 00:00:00-05:00</td>\n      <td>1.517562</td>\n      <td>1.528994</td>\n      <td>1.517562</td>\n      <td>1.517562</td>\n      <td>80899.0</td>\n      <td>0.0</td>\n      <td>0.0</td>\n      <td>AA</td>\n    </tr>\n    <tr>\n      <th>3</th>\n      <td>1962-01-05 00:00:00-05:00</td>\n      <td>1.517562</td>\n      <td>1.526136</td>\n      <td>1.511847</td>\n      <td>1.514704</td>\n      <td>70911.0</td>\n      <td>0.0</td>\n      <td>0.0</td>\n      <td>AA</td>\n    </tr>\n    <tr>\n      <th>4</th>\n      <td>1962-01-08 00:00:00-05:00</td>\n      <td>1.508989</td>\n      <td>1.508989</td>\n      <td>1.451830</td>\n      <td>1.463262</td>\n      <td>93883.0</td>\n      <td>0.0</td>\n      <td>0.0</td>\n      <td>AA</td>\n    </tr>\n  </tbody>\n</table>\n</div>"
     },
     "execution_count": 16,
     "metadata": {},
     "output_type": "execute_result"
    }
   ],
   "execution_count": 16
  },
  {
   "cell_type": "markdown",
   "id": "4837f910216a4236",
   "metadata": {
    "collapsed": false
   },
   "source": [
    "### Szukanie odstających wartości"
   ]
  },
  {
   "cell_type": "code",
   "id": "d0b31818efb33ca9",
   "metadata": {
    "collapsed": false,
    "ExecuteTime": {
     "end_time": "2025-01-28T20:03:46.600116900Z",
     "start_time": "2025-01-28T20:03:30.622485300Z"
    }
   },
   "source": [
    "pd_dataframe = dask_df.compute()\n",
    "numeric_columns = pd_dataframe.select_dtypes(include=['number']).columns\n",
    "\n",
    "outliers = pd.DataFrame(False, index=pd_dataframe.index, columns=numeric_columns)\n",
    "\n",
    "# Obliczenie IQR dla każdej kolumny numerycznej\n",
    "for col in numeric_columns:\n",
    "    Q1 = pd_dataframe[col].quantile(0.25)\n",
    "    Q3 = pd_dataframe[col].quantile(0.75)\n",
    "    IQR = Q3 - Q1\n",
    "    \n",
    "    # Granice dla wartości odstających\n",
    "    lower_bound = Q1 - 1.5 * IQR\n",
    "    upper_bound = Q3 + 1.5 * IQR\n",
    "    \n",
    "    # Wyznaczenie wartości odstających\n",
    "    outliers[col] = (pd_dataframe[col] < lower_bound) | (pd_dataframe[col] > upper_bound)\n",
    "\n",
    "outliers"
   ],
   "outputs": [
    {
     "data": {
      "text/plain": "       Open   High    Low  Close  Volume  Dividends  Stock Splits\n0     False  False  False  False   False      False         False\n1     False  False  False  False   False      False         False\n2     False  False  False  False   False      False         False\n3     False  False  False  False   False      False         False\n4     False  False  False  False   False      False         False\n...     ...    ...    ...    ...     ...        ...           ...\n9147  False  False  False  False   False      False         False\n9148  False  False  False  False   False      False         False\n9149  False  False  False  False   False      False         False\n9150  False  False  False  False   False      False         False\n9151  False  False  False  False   False      False         False\n\n[8535407 rows x 7 columns]",
      "text/html": "<div>\n<style scoped>\n    .dataframe tbody tr th:only-of-type {\n        vertical-align: middle;\n    }\n\n    .dataframe tbody tr th {\n        vertical-align: top;\n    }\n\n    .dataframe thead th {\n        text-align: right;\n    }\n</style>\n<table border=\"1\" class=\"dataframe\">\n  <thead>\n    <tr style=\"text-align: right;\">\n      <th></th>\n      <th>Open</th>\n      <th>High</th>\n      <th>Low</th>\n      <th>Close</th>\n      <th>Volume</th>\n      <th>Dividends</th>\n      <th>Stock Splits</th>\n    </tr>\n  </thead>\n  <tbody>\n    <tr>\n      <th>0</th>\n      <td>False</td>\n      <td>False</td>\n      <td>False</td>\n      <td>False</td>\n      <td>False</td>\n      <td>False</td>\n      <td>False</td>\n    </tr>\n    <tr>\n      <th>1</th>\n      <td>False</td>\n      <td>False</td>\n      <td>False</td>\n      <td>False</td>\n      <td>False</td>\n      <td>False</td>\n      <td>False</td>\n    </tr>\n    <tr>\n      <th>2</th>\n      <td>False</td>\n      <td>False</td>\n      <td>False</td>\n      <td>False</td>\n      <td>False</td>\n      <td>False</td>\n      <td>False</td>\n    </tr>\n    <tr>\n      <th>3</th>\n      <td>False</td>\n      <td>False</td>\n      <td>False</td>\n      <td>False</td>\n      <td>False</td>\n      <td>False</td>\n      <td>False</td>\n    </tr>\n    <tr>\n      <th>4</th>\n      <td>False</td>\n      <td>False</td>\n      <td>False</td>\n      <td>False</td>\n      <td>False</td>\n      <td>False</td>\n      <td>False</td>\n    </tr>\n    <tr>\n      <th>...</th>\n      <td>...</td>\n      <td>...</td>\n      <td>...</td>\n      <td>...</td>\n      <td>...</td>\n      <td>...</td>\n      <td>...</td>\n    </tr>\n    <tr>\n      <th>9147</th>\n      <td>False</td>\n      <td>False</td>\n      <td>False</td>\n      <td>False</td>\n      <td>False</td>\n      <td>False</td>\n      <td>False</td>\n    </tr>\n    <tr>\n      <th>9148</th>\n      <td>False</td>\n      <td>False</td>\n      <td>False</td>\n      <td>False</td>\n      <td>False</td>\n      <td>False</td>\n      <td>False</td>\n    </tr>\n    <tr>\n      <th>9149</th>\n      <td>False</td>\n      <td>False</td>\n      <td>False</td>\n      <td>False</td>\n      <td>False</td>\n      <td>False</td>\n      <td>False</td>\n    </tr>\n    <tr>\n      <th>9150</th>\n      <td>False</td>\n      <td>False</td>\n      <td>False</td>\n      <td>False</td>\n      <td>False</td>\n      <td>False</td>\n      <td>False</td>\n    </tr>\n    <tr>\n      <th>9151</th>\n      <td>False</td>\n      <td>False</td>\n      <td>False</td>\n      <td>False</td>\n      <td>False</td>\n      <td>False</td>\n      <td>False</td>\n    </tr>\n  </tbody>\n</table>\n<p>8535407 rows × 7 columns</p>\n</div>"
     },
     "execution_count": 17,
     "metadata": {},
     "output_type": "execute_result"
    }
   ],
   "execution_count": 17
  },
  {
   "cell_type": "code",
   "id": "9b0ae09694b131b6",
   "metadata": {
    "collapsed": false,
    "ExecuteTime": {
     "end_time": "2025-01-28T20:03:46.692973400Z",
     "start_time": "2025-01-28T20:03:46.597361400Z"
    }
   },
   "source": [
    "outliers_count = outliers.sum()\n",
    "outliers_count"
   ],
   "outputs": [
    {
     "data": {
      "text/plain": "Open             851937\nHigh             868503\nLow              871523\nClose            869698\nVolume          1163197\nDividends        103077\nStock Splits       3128\ndtype: int64"
     },
     "execution_count": 18,
     "metadata": {},
     "output_type": "execute_result"
    }
   ],
   "execution_count": 18
  },
  {
   "cell_type": "markdown",
   "id": "30a790f03defdf21",
   "metadata": {
    "collapsed": false
   },
   "source": [
    "### Naprawa odstających wartości - zamiana na średnią"
   ]
  },
  {
   "cell_type": "code",
   "id": "2b1dfe3a9362b681",
   "metadata": {
    "collapsed": false,
    "ExecuteTime": {
     "end_time": "2025-01-28T20:03:47.601637900Z",
     "start_time": "2025-01-28T20:03:46.646446600Z"
    }
   },
   "source": [
    "means = pd_dataframe[numeric_columns].mean()\n",
    "for col in numeric_columns:\n",
    "    # Maska logiczna dla wartości odstających w danej kolumnie\n",
    "    mask = outliers[col]\n",
    "    if pd_dataframe[col].dtype == np.float64:\n",
    "        pd_dataframe.loc[mask, col] = means[col]\n",
    "    else:\n",
    "        pd_dataframe.loc[mask, col] = int(round(means[col]))\n",
    "\n",
    "del outliers  \n",
    "del mask\n",
    "del means\n",
    "\n",
    "pd_dataframe"
   ],
   "outputs": [
    {
     "data": {
      "text/plain": "                           Date      Open      High       Low     Close  \\\n0     1962-01-02 00:00:00-05:00  0.000000  1.503273  1.494699  1.494699   \n1     1962-01-03 00:00:00-05:00  1.494699  1.517562  1.491841  1.517562   \n2     1962-01-04 00:00:00-05:00  1.517562  1.528994  1.517562  1.517562   \n3     1962-01-05 00:00:00-05:00  1.517562  1.526136  1.511847  1.514704   \n4     1962-01-08 00:00:00-05:00  1.508989  1.508989  1.451830  1.463262   \n...                         ...       ...       ...       ...       ...   \n9147  2025-01-17 00:00:00-05:00  5.900000  5.990000  5.890000  5.970000   \n9148  2025-01-21 00:00:00-05:00  6.010000  6.070000  5.990000  6.020000   \n9149  2025-01-22 00:00:00-05:00  6.050000  6.050000  5.960000  5.970000   \n9150  2025-01-23 00:00:00-05:00  5.950000  5.970000  5.930000  5.970000   \n9151  2025-01-24 00:00:00-05:00  5.970000  5.990000  5.950000  5.980000   \n\n         Volume  Dividends  Stock Splits Stock_Type  \n0       55930.0        0.0           0.0         AA  \n1       74906.0        0.0           0.0         AA  \n2       80899.0        0.0           0.0         AA  \n3       70911.0        0.0           0.0         AA  \n4       93883.0        0.0           0.0         AA  \n...         ...        ...           ...        ...  \n9147  2070500.0        0.0           0.0        ZTR  \n9148   346500.0        0.0           0.0        ZTR  \n9149   413600.0        0.0           0.0        ZTR  \n9150   231500.0        0.0           0.0        ZTR  \n9151   154500.0        0.0           0.0        ZTR  \n\n[8535407 rows x 9 columns]",
      "text/html": "<div>\n<style scoped>\n    .dataframe tbody tr th:only-of-type {\n        vertical-align: middle;\n    }\n\n    .dataframe tbody tr th {\n        vertical-align: top;\n    }\n\n    .dataframe thead th {\n        text-align: right;\n    }\n</style>\n<table border=\"1\" class=\"dataframe\">\n  <thead>\n    <tr style=\"text-align: right;\">\n      <th></th>\n      <th>Date</th>\n      <th>Open</th>\n      <th>High</th>\n      <th>Low</th>\n      <th>Close</th>\n      <th>Volume</th>\n      <th>Dividends</th>\n      <th>Stock Splits</th>\n      <th>Stock_Type</th>\n    </tr>\n  </thead>\n  <tbody>\n    <tr>\n      <th>0</th>\n      <td>1962-01-02 00:00:00-05:00</td>\n      <td>0.000000</td>\n      <td>1.503273</td>\n      <td>1.494699</td>\n      <td>1.494699</td>\n      <td>55930.0</td>\n      <td>0.0</td>\n      <td>0.0</td>\n      <td>AA</td>\n    </tr>\n    <tr>\n      <th>1</th>\n      <td>1962-01-03 00:00:00-05:00</td>\n      <td>1.494699</td>\n      <td>1.517562</td>\n      <td>1.491841</td>\n      <td>1.517562</td>\n      <td>74906.0</td>\n      <td>0.0</td>\n      <td>0.0</td>\n      <td>AA</td>\n    </tr>\n    <tr>\n      <th>2</th>\n      <td>1962-01-04 00:00:00-05:00</td>\n      <td>1.517562</td>\n      <td>1.528994</td>\n      <td>1.517562</td>\n      <td>1.517562</td>\n      <td>80899.0</td>\n      <td>0.0</td>\n      <td>0.0</td>\n      <td>AA</td>\n    </tr>\n    <tr>\n      <th>3</th>\n      <td>1962-01-05 00:00:00-05:00</td>\n      <td>1.517562</td>\n      <td>1.526136</td>\n      <td>1.511847</td>\n      <td>1.514704</td>\n      <td>70911.0</td>\n      <td>0.0</td>\n      <td>0.0</td>\n      <td>AA</td>\n    </tr>\n    <tr>\n      <th>4</th>\n      <td>1962-01-08 00:00:00-05:00</td>\n      <td>1.508989</td>\n      <td>1.508989</td>\n      <td>1.451830</td>\n      <td>1.463262</td>\n      <td>93883.0</td>\n      <td>0.0</td>\n      <td>0.0</td>\n      <td>AA</td>\n    </tr>\n    <tr>\n      <th>...</th>\n      <td>...</td>\n      <td>...</td>\n      <td>...</td>\n      <td>...</td>\n      <td>...</td>\n      <td>...</td>\n      <td>...</td>\n      <td>...</td>\n      <td>...</td>\n    </tr>\n    <tr>\n      <th>9147</th>\n      <td>2025-01-17 00:00:00-05:00</td>\n      <td>5.900000</td>\n      <td>5.990000</td>\n      <td>5.890000</td>\n      <td>5.970000</td>\n      <td>2070500.0</td>\n      <td>0.0</td>\n      <td>0.0</td>\n      <td>ZTR</td>\n    </tr>\n    <tr>\n      <th>9148</th>\n      <td>2025-01-21 00:00:00-05:00</td>\n      <td>6.010000</td>\n      <td>6.070000</td>\n      <td>5.990000</td>\n      <td>6.020000</td>\n      <td>346500.0</td>\n      <td>0.0</td>\n      <td>0.0</td>\n      <td>ZTR</td>\n    </tr>\n    <tr>\n      <th>9149</th>\n      <td>2025-01-22 00:00:00-05:00</td>\n      <td>6.050000</td>\n      <td>6.050000</td>\n      <td>5.960000</td>\n      <td>5.970000</td>\n      <td>413600.0</td>\n      <td>0.0</td>\n      <td>0.0</td>\n      <td>ZTR</td>\n    </tr>\n    <tr>\n      <th>9150</th>\n      <td>2025-01-23 00:00:00-05:00</td>\n      <td>5.950000</td>\n      <td>5.970000</td>\n      <td>5.930000</td>\n      <td>5.970000</td>\n      <td>231500.0</td>\n      <td>0.0</td>\n      <td>0.0</td>\n      <td>ZTR</td>\n    </tr>\n    <tr>\n      <th>9151</th>\n      <td>2025-01-24 00:00:00-05:00</td>\n      <td>5.970000</td>\n      <td>5.990000</td>\n      <td>5.950000</td>\n      <td>5.980000</td>\n      <td>154500.0</td>\n      <td>0.0</td>\n      <td>0.0</td>\n      <td>ZTR</td>\n    </tr>\n  </tbody>\n</table>\n<p>8535407 rows × 9 columns</p>\n</div>"
     },
     "execution_count": 19,
     "metadata": {},
     "output_type": "execute_result"
    }
   ],
   "execution_count": 19
  },
  {
   "cell_type": "code",
   "source": [
    "tmp_output_path = os.path.join(base_path, 'tmp_data')\n",
    "os.makedirs(tmp_output_path, exist_ok=True)\n",
    "pd_dataframe.to_parquet(\"./project_data/parquet/tmp_data/tmp.parquet\", engine='pyarrow')\n",
    "del pd_dataframe"
   ],
   "metadata": {
    "collapsed": false,
    "ExecuteTime": {
     "end_time": "2025-01-28T20:03:50.445938Z",
     "start_time": "2025-01-28T20:03:47.600635900Z"
    }
   },
   "id": "8b598336492980bd",
   "outputs": [],
   "execution_count": 20
  },
  {
   "cell_type": "code",
   "source": [
    "dask_df = dd.read_parquet(tmp_output_path, engine='pyarrow')\n",
    "dask_df = dask_df.repartition(npartitions=n_partition)\n",
    "\n",
    "dask_df = dask_df.persist()"
   ],
   "metadata": {
    "collapsed": false,
    "ExecuteTime": {
     "end_time": "2025-01-28T20:03:50.475477800Z",
     "start_time": "2025-01-28T20:03:50.446959600Z"
    }
   },
   "id": "2cc490a37120240b",
   "outputs": [],
   "execution_count": 21
  },
  {
   "cell_type": "code",
   "source": [
    "gc.collect()"
   ],
   "metadata": {
    "collapsed": false,
    "ExecuteTime": {
     "end_time": "2025-01-28T20:03:50.990871600Z",
     "start_time": "2025-01-28T20:03:50.477477400Z"
    }
   },
   "id": "9a9203e13a6c3110",
   "outputs": [
    {
     "data": {
      "text/plain": "5126"
     },
     "execution_count": 22,
     "metadata": {},
     "output_type": "execute_result"
    }
   ],
   "execution_count": 22
  },
  {
   "cell_type": "markdown",
   "id": "b0e885054904c53a",
   "metadata": {
    "collapsed": false
   },
   "source": [
    "## Korelacje"
   ]
  },
  {
   "cell_type": "code",
   "id": "696589a833ba008d",
   "metadata": {
    "collapsed": false,
    "ExecuteTime": {
     "end_time": "2025-01-28T20:04:15.491860Z",
     "start_time": "2025-01-28T20:03:50.986871600Z"
    }
   },
   "source": [
    "correlation = dask_df.corr(numeric_only=True).compute()\n",
    "correlation"
   ],
   "outputs": [
    {
     "data": {
      "text/plain": "                  Open      High       Low     Close    Volume  Dividends  \\\nOpen          1.000000  0.984477  0.984573  0.983838  0.317932   0.010770   \nHigh          0.984477  1.000000  0.997000  0.997787  0.303898   0.008588   \nLow           0.984573  0.997000  1.000000  0.997830  0.302886   0.008708   \nClose         0.983838  0.997787  0.997830  1.000000  0.303418   0.008642   \nVolume        0.317932  0.303898  0.302886  0.303418  1.000000   0.009474   \nDividends     0.010770  0.008588  0.008708  0.008642  0.009474   1.000000   \nStock Splits -0.004596 -0.004292 -0.004464 -0.004372  0.001134   0.008307   \n\n              Stock Splits  \nOpen             -0.004596  \nHigh             -0.004292  \nLow              -0.004464  \nClose            -0.004372  \nVolume            0.001134  \nDividends         0.008307  \nStock Splits      1.000000  ",
      "text/html": "<div>\n<style scoped>\n    .dataframe tbody tr th:only-of-type {\n        vertical-align: middle;\n    }\n\n    .dataframe tbody tr th {\n        vertical-align: top;\n    }\n\n    .dataframe thead th {\n        text-align: right;\n    }\n</style>\n<table border=\"1\" class=\"dataframe\">\n  <thead>\n    <tr style=\"text-align: right;\">\n      <th></th>\n      <th>Open</th>\n      <th>High</th>\n      <th>Low</th>\n      <th>Close</th>\n      <th>Volume</th>\n      <th>Dividends</th>\n      <th>Stock Splits</th>\n    </tr>\n  </thead>\n  <tbody>\n    <tr>\n      <th>Open</th>\n      <td>1.000000</td>\n      <td>0.984477</td>\n      <td>0.984573</td>\n      <td>0.983838</td>\n      <td>0.317932</td>\n      <td>0.010770</td>\n      <td>-0.004596</td>\n    </tr>\n    <tr>\n      <th>High</th>\n      <td>0.984477</td>\n      <td>1.000000</td>\n      <td>0.997000</td>\n      <td>0.997787</td>\n      <td>0.303898</td>\n      <td>0.008588</td>\n      <td>-0.004292</td>\n    </tr>\n    <tr>\n      <th>Low</th>\n      <td>0.984573</td>\n      <td>0.997000</td>\n      <td>1.000000</td>\n      <td>0.997830</td>\n      <td>0.302886</td>\n      <td>0.008708</td>\n      <td>-0.004464</td>\n    </tr>\n    <tr>\n      <th>Close</th>\n      <td>0.983838</td>\n      <td>0.997787</td>\n      <td>0.997830</td>\n      <td>1.000000</td>\n      <td>0.303418</td>\n      <td>0.008642</td>\n      <td>-0.004372</td>\n    </tr>\n    <tr>\n      <th>Volume</th>\n      <td>0.317932</td>\n      <td>0.303898</td>\n      <td>0.302886</td>\n      <td>0.303418</td>\n      <td>1.000000</td>\n      <td>0.009474</td>\n      <td>0.001134</td>\n    </tr>\n    <tr>\n      <th>Dividends</th>\n      <td>0.010770</td>\n      <td>0.008588</td>\n      <td>0.008708</td>\n      <td>0.008642</td>\n      <td>0.009474</td>\n      <td>1.000000</td>\n      <td>0.008307</td>\n    </tr>\n    <tr>\n      <th>Stock Splits</th>\n      <td>-0.004596</td>\n      <td>-0.004292</td>\n      <td>-0.004464</td>\n      <td>-0.004372</td>\n      <td>0.001134</td>\n      <td>0.008307</td>\n      <td>1.000000</td>\n    </tr>\n  </tbody>\n</table>\n</div>"
     },
     "execution_count": 23,
     "metadata": {},
     "output_type": "execute_result"
    }
   ],
   "execution_count": 23
  },
  {
   "cell_type": "markdown",
   "id": "3558f7ec354a4975",
   "metadata": {
    "collapsed": false
   },
   "source": [
    "### Wykres korelacji"
   ]
  },
  {
   "cell_type": "code",
   "id": "b676ae1e6cc0f818",
   "metadata": {
    "collapsed": false,
    "ExecuteTime": {
     "end_time": "2025-01-28T20:04:16.501391800Z",
     "start_time": "2025-01-28T20:04:15.493858500Z"
    }
   },
   "source": [
    "plt.figure(figsize=(12, 8))\n",
    "sns.heatmap(correlation, annot=True, cmap=\"coolwarm\", fmt='.4f', xticklabels=correlation.columns, yticklabels=correlation.columns)\n",
    "plt.title(\"Macierz korelacji\")\n",
    "plt.show()"
   ],
   "outputs": [
    {
     "data": {
      "text/plain": "<Figure size 1200x800 with 2 Axes>",
      "image/png": "[encoded data removed]"
     },
     "metadata": {},
     "output_type": "display_data"
    }
   ],
   "execution_count": 24
  },
  {
   "cell_type": "markdown",
   "source": [
    "### Usuwanie kolumn o niskiej korelacji"
   ],
   "metadata": {
    "collapsed": false
   },
   "id": "7f2cb43fccd3ea06"
  },
  {
   "cell_type": "code",
   "source": [
    "columns_to_drop = []\n",
    "for col in correlation.columns:\n",
    "    max_corr = correlation.loc[correlation.index != col, col].max()\n",
    "    if max_corr < 0.6:\n",
    "        columns_to_drop.append(col)\n",
    "\n",
    "dask_df = dask_df.drop(columns=columns_to_drop)\n",
    "print(f\"Usunięte kolumny: {columns_to_drop}\")"
   ],
   "metadata": {
    "collapsed": false,
    "ExecuteTime": {
     "end_time": "2025-01-28T20:04:16.517726500Z",
     "start_time": "2025-01-28T20:04:16.501391800Z"
    }
   },
   "id": "c60bd3a33d1d8aec",
   "outputs": [
    {
     "name": "stdout",
     "output_type": "stream",
     "text": [
      "Usunięte kolumny: ['Volume', 'Dividends', 'Stock Splits']\n"
     ]
    }
   ],
   "execution_count": 25
  },
  {
   "cell_type": "markdown",
   "id": "3cb5dd184d7c65a1",
   "metadata": {
    "collapsed": false
   },
   "source": [
    "## Sprawdzenie typów danych"
   ]
  },
  {
   "cell_type": "markdown",
   "id": "14dde28b3c6f275a",
   "metadata": {
    "collapsed": false
   },
   "source": [
    "### Typy danych przed optymalizacją"
   ]
  },
  {
   "cell_type": "code",
   "id": "f495f5353361ab08",
   "metadata": {
    "collapsed": false,
    "ExecuteTime": {
     "end_time": "2025-01-28T20:04:16.519726600Z",
     "start_time": "2025-01-28T20:04:16.512930100Z"
    }
   },
   "source": [
    "dask_df.dtypes"
   ],
   "outputs": [
    {
     "data": {
      "text/plain": "Date          string[pyarrow]\nOpen                  float64\nHigh                  float64\nLow                   float64\nClose                 float64\nStock_Type    string[pyarrow]\ndtype: object"
     },
     "execution_count": 26,
     "metadata": {},
     "output_type": "execute_result"
    }
   ],
   "execution_count": 26
  },
  {
   "cell_type": "markdown",
   "source": [
    "## Optymalizacja typów danych"
   ],
   "metadata": {
    "collapsed": false
   },
   "id": "7fae595962baa1e6"
  },
  {
   "cell_type": "code",
   "id": "6fe801e6cec88596",
   "metadata": {
    "collapsed": false,
    "ExecuteTime": {
     "end_time": "2025-01-28T20:04:22.474734900Z",
     "start_time": "2025-01-28T20:04:16.527732Z"
    }
   },
   "source": [
    "dask_df = dask_df.persist()\n",
    "\n",
    "for col in dask_df.select_dtypes(include=['int64']).columns:\n",
    "    max_value = dask_df[col].max().compute()\n",
    "    if max_value < 2**31:\n",
    "        dask_df[col] = dask_df[col].astype('int32')\n",
    "    elif max_value < 2**63:\n",
    "        dask_df[col] = dask_df[col].astype('int64')\n",
    "\n",
    "for col in dask_df.select_dtypes(include=['float64']).columns:\n",
    "    if dask_df[col].max().compute() < 3.4e38:\n",
    "        dask_df[col] = dask_df[col].astype('float32')\n",
    "\n",
    "for col in dask_df.select_dtypes(include=['object']).columns:\n",
    "    dask_df[col] = dask_df[col].astype('category')\n",
    "    \n",
    "dask_df['Stock_Type'] = dask_df['Stock_Type'].astype('category')\n",
    "dask_df['Date'] = dask_df['Date'].str.replace(r'-\\d{2}:\\d{2}', '', regex=True)\n",
    "dask_df['Date'] = dd.to_datetime(dask_df['Date'])\n",
    "\n",
    "dask_df.compute()\n",
    "dask_df = dask_df.persist()"
   ],
   "outputs": [],
   "execution_count": 27
  },
  {
   "cell_type": "markdown",
   "id": "74b6b8d377c3f8ec",
   "metadata": {
    "collapsed": false
   },
   "source": [
    "### Typy danych po optymalizacji"
   ]
  },
  {
   "cell_type": "code",
   "id": "90974ba1fa727f2c",
   "metadata": {
    "collapsed": false,
    "ExecuteTime": {
     "end_time": "2025-01-28T20:04:22.552844700Z",
     "start_time": "2025-01-28T20:04:22.481735600Z"
    }
   },
   "source": [
    "dask_df.dtypes"
   ],
   "outputs": [
    {
     "data": {
      "text/plain": "Date          datetime64[ns]\nOpen                 float32\nHigh                 float32\nLow                  float32\nClose                float32\nStock_Type          category\ndtype: object"
     },
     "execution_count": 28,
     "metadata": {},
     "output_type": "execute_result"
    }
   ],
   "execution_count": 28
  },
  {
   "cell_type": "code",
   "id": "8e60c1ab9e77d6b",
   "metadata": {
    "collapsed": false,
    "ExecuteTime": {
     "end_time": "2025-01-28T20:04:27.351028800Z",
     "start_time": "2025-01-28T20:04:22.538064400Z"
    }
   },
   "source": [
    "dask_df.compute()"
   ],
   "outputs": [
    {
     "data": {
      "text/plain": "           Date      Open      High       Low     Close Stock_Type\n0    1962-01-02  0.000000  1.503273  1.494699  1.494699         AA\n1    1962-01-03  1.494699  1.517562  1.491841  1.517562         AA\n2    1962-01-04  1.517562  1.528994  1.517562  1.517562         AA\n3    1962-01-05  1.517562  1.526136  1.511847  1.514704         AA\n4    1962-01-08  1.508989  1.508989  1.451830  1.463262         AA\n...         ...       ...       ...       ...       ...        ...\n9147 2025-01-17  5.900000  5.990000  5.890000  5.970000        ZTR\n9148 2025-01-21  6.010000  6.070000  5.990000  6.020000        ZTR\n9149 2025-01-22  6.050000  6.050000  5.960000  5.970000        ZTR\n9150 2025-01-23  5.950000  5.970000  5.930000  5.970000        ZTR\n9151 2025-01-24  5.970000  5.990000  5.950000  5.980000        ZTR\n\n[8535407 rows x 6 columns]",
      "text/html": "<div>\n<style scoped>\n    .dataframe tbody tr th:only-of-type {\n        vertical-align: middle;\n    }\n\n    .dataframe tbody tr th {\n        vertical-align: top;\n    }\n\n    .dataframe thead th {\n        text-align: right;\n    }\n</style>\n<table border=\"1\" class=\"dataframe\">\n  <thead>\n    <tr style=\"text-align: right;\">\n      <th></th>\n      <th>Date</th>\n      <th>Open</th>\n      <th>High</th>\n      <th>Low</th>\n      <th>Close</th>\n      <th>Stock_Type</th>\n    </tr>\n  </thead>\n  <tbody>\n    <tr>\n      <th>0</th>\n      <td>1962-01-02</td>\n      <td>0.000000</td>\n      <td>1.503273</td>\n      <td>1.494699</td>\n      <td>1.494699</td>\n      <td>AA</td>\n    </tr>\n    <tr>\n      <th>1</th>\n      <td>1962-01-03</td>\n      <td>1.494699</td>\n      <td>1.517562</td>\n      <td>1.491841</td>\n      <td>1.517562</td>\n      <td>AA</td>\n    </tr>\n    <tr>\n      <th>2</th>\n      <td>1962-01-04</td>\n      <td>1.517562</td>\n      <td>1.528994</td>\n      <td>1.517562</td>\n      <td>1.517562</td>\n      <td>AA</td>\n    </tr>\n    <tr>\n      <th>3</th>\n      <td>1962-01-05</td>\n      <td>1.517562</td>\n      <td>1.526136</td>\n      <td>1.511847</td>\n      <td>1.514704</td>\n      <td>AA</td>\n    </tr>\n    <tr>\n      <th>4</th>\n      <td>1962-01-08</td>\n      <td>1.508989</td>\n      <td>1.508989</td>\n      <td>1.451830</td>\n      <td>1.463262</td>\n      <td>AA</td>\n    </tr>\n    <tr>\n      <th>...</th>\n      <td>...</td>\n      <td>...</td>\n      <td>...</td>\n      <td>...</td>\n      <td>...</td>\n      <td>...</td>\n    </tr>\n    <tr>\n      <th>9147</th>\n      <td>2025-01-17</td>\n      <td>5.900000</td>\n      <td>5.990000</td>\n      <td>5.890000</td>\n      <td>5.970000</td>\n      <td>ZTR</td>\n    </tr>\n    <tr>\n      <th>9148</th>\n      <td>2025-01-21</td>\n      <td>6.010000</td>\n      <td>6.070000</td>\n      <td>5.990000</td>\n      <td>6.020000</td>\n      <td>ZTR</td>\n    </tr>\n    <tr>\n      <th>9149</th>\n      <td>2025-01-22</td>\n      <td>6.050000</td>\n      <td>6.050000</td>\n      <td>5.960000</td>\n      <td>5.970000</td>\n      <td>ZTR</td>\n    </tr>\n    <tr>\n      <th>9150</th>\n      <td>2025-01-23</td>\n      <td>5.950000</td>\n      <td>5.970000</td>\n      <td>5.930000</td>\n      <td>5.970000</td>\n      <td>ZTR</td>\n    </tr>\n    <tr>\n      <th>9151</th>\n      <td>2025-01-24</td>\n      <td>5.970000</td>\n      <td>5.990000</td>\n      <td>5.950000</td>\n      <td>5.980000</td>\n      <td>ZTR</td>\n    </tr>\n  </tbody>\n</table>\n<p>8535407 rows × 6 columns</p>\n</div>"
     },
     "execution_count": 29,
     "metadata": {},
     "output_type": "execute_result"
    }
   ],
   "execution_count": 29
  },
  {
   "cell_type": "markdown",
   "source": [
    "### Zapis przeanalizowanych danych"
   ],
   "metadata": {
    "collapsed": false
   },
   "id": "b43dbb8527d10aa5"
  },
  {
   "cell_type": "code",
   "source": [
    "analysed_output_path = os.path.join(base_path, 'analysed_data')"
   ],
   "metadata": {
    "collapsed": false,
    "ExecuteTime": {
     "end_time": "2025-01-28T20:04:27.369086100Z",
     "start_time": "2025-01-28T20:04:27.350026600Z"
    }
   },
   "id": "a6debd0765cdc84e",
   "outputs": [],
   "execution_count": 30
  },
  {
   "cell_type": "code",
   "source": [
    "os.makedirs(analysed_output_path, exist_ok=True)\n",
    "dask_df.to_parquet(analysed_output_path, name_function=lambda x: f\"data-{x}.parquet\", engine='pyarrow')"
   ],
   "metadata": {
    "collapsed": false,
    "ExecuteTime": {
     "end_time": "2025-01-28T20:04:29.152619Z",
     "start_time": "2025-01-28T20:04:27.360087500Z"
    }
   },
   "id": "df85f97aeaaa52f7",
   "outputs": [],
   "execution_count": 31
  },
  {
   "cell_type": "code",
   "source": [
    "dask_df = dd.read_parquet(analysed_output_path, engine='pyarrow')\n",
    "dask_df = dask_df.repartition(npartitions=n_partition)\n",
    "dask_df = dask_df.persist()\n",
    "gc.collect()"
   ],
   "metadata": {
    "collapsed": false,
    "ExecuteTime": {
     "end_time": "2025-01-28T20:04:29.844822700Z",
     "start_time": "2025-01-28T20:04:29.151618300Z"
    }
   },
   "id": "c851c731c6d8ab5a",
   "outputs": [
    {
     "data": {
      "text/plain": "8606"
     },
     "execution_count": 32,
     "metadata": {},
     "output_type": "execute_result"
    }
   ],
   "execution_count": 32
  },
  {
   "cell_type": "markdown",
   "id": "3e73b9a20a314252",
   "metadata": {
    "collapsed": false
   },
   "source": [
    "# Etap 3 - trening modelu ML."
   ]
  },
  {
   "cell_type": "markdown",
   "source": [
    "## Wyciagnięcie roku z daty"
   ],
   "metadata": {
    "collapsed": false
   },
   "id": "995a05b11ee64118"
  },
  {
   "cell_type": "code",
   "source": [
    "dask_df['Year'] = dask_df['Date'].dt.year\n",
    "dask_df.persist()\n",
    "dask_df.compute()"
   ],
   "metadata": {
    "collapsed": false,
    "ExecuteTime": {
     "end_time": "2025-01-28T20:04:32.831899900Z",
     "start_time": "2025-01-28T20:04:29.851827800Z"
    }
   },
   "id": "775afd1564a6f1b6",
   "outputs": [
    {
     "data": {
      "text/plain": "           Date      Open      High       Low     Close Stock_Type  Year\n0    1962-01-02  0.000000  1.503273  1.494699  1.494699         AA  1962\n1    1962-01-03  1.494699  1.517562  1.491841  1.517562         AA  1962\n2    1962-01-04  1.517562  1.528994  1.517562  1.517562         AA  1962\n3    1962-01-05  1.517562  1.526136  1.511847  1.514704         AA  1962\n4    1962-01-08  1.508989  1.508989  1.451830  1.463262         AA  1962\n...         ...       ...       ...       ...       ...        ...   ...\n9147 2025-01-17  5.900000  5.990000  5.890000  5.970000        ZTR  2025\n9148 2025-01-21  6.010000  6.070000  5.990000  6.020000        ZTR  2025\n9149 2025-01-22  6.050000  6.050000  5.960000  5.970000        ZTR  2025\n9150 2025-01-23  5.950000  5.970000  5.930000  5.970000        ZTR  2025\n9151 2025-01-24  5.970000  5.990000  5.950000  5.980000        ZTR  2025\n\n[8535407 rows x 7 columns]",
      "text/html": "<div>\n<style scoped>\n    .dataframe tbody tr th:only-of-type {\n        vertical-align: middle;\n    }\n\n    .dataframe tbody tr th {\n        vertical-align: top;\n    }\n\n    .dataframe thead th {\n        text-align: right;\n    }\n</style>\n<table border=\"1\" class=\"dataframe\">\n  <thead>\n    <tr style=\"text-align: right;\">\n      <th></th>\n      <th>Date</th>\n      <th>Open</th>\n      <th>High</th>\n      <th>Low</th>\n      <th>Close</th>\n      <th>Stock_Type</th>\n      <th>Year</th>\n    </tr>\n  </thead>\n  <tbody>\n    <tr>\n      <th>0</th>\n      <td>1962-01-02</td>\n      <td>0.000000</td>\n      <td>1.503273</td>\n      <td>1.494699</td>\n      <td>1.494699</td>\n      <td>AA</td>\n      <td>1962</td>\n    </tr>\n    <tr>\n      <th>1</th>\n      <td>1962-01-03</td>\n      <td>1.494699</td>\n      <td>1.517562</td>\n      <td>1.491841</td>\n      <td>1.517562</td>\n      <td>AA</td>\n      <td>1962</td>\n    </tr>\n    <tr>\n      <th>2</th>\n      <td>1962-01-04</td>\n      <td>1.517562</td>\n      <td>1.528994</td>\n      <td>1.517562</td>\n      <td>1.517562</td>\n      <td>AA</td>\n      <td>1962</td>\n    </tr>\n    <tr>\n      <th>3</th>\n      <td>1962-01-05</td>\n      <td>1.517562</td>\n      <td>1.526136</td>\n      <td>1.511847</td>\n      <td>1.514704</td>\n      <td>AA</td>\n      <td>1962</td>\n    </tr>\n    <tr>\n      <th>4</th>\n      <td>1962-01-08</td>\n      <td>1.508989</td>\n      <td>1.508989</td>\n      <td>1.451830</td>\n      <td>1.463262</td>\n      <td>AA</td>\n      <td>1962</td>\n    </tr>\n    <tr>\n      <th>...</th>\n      <td>...</td>\n      <td>...</td>\n      <td>...</td>\n      <td>...</td>\n      <td>...</td>\n      <td>...</td>\n      <td>...</td>\n    </tr>\n    <tr>\n      <th>9147</th>\n      <td>2025-01-17</td>\n      <td>5.900000</td>\n      <td>5.990000</td>\n      <td>5.890000</td>\n      <td>5.970000</td>\n      <td>ZTR</td>\n      <td>2025</td>\n    </tr>\n    <tr>\n      <th>9148</th>\n      <td>2025-01-21</td>\n      <td>6.010000</td>\n      <td>6.070000</td>\n      <td>5.990000</td>\n      <td>6.020000</td>\n      <td>ZTR</td>\n      <td>2025</td>\n    </tr>\n    <tr>\n      <th>9149</th>\n      <td>2025-01-22</td>\n      <td>6.050000</td>\n      <td>6.050000</td>\n      <td>5.960000</td>\n      <td>5.970000</td>\n      <td>ZTR</td>\n      <td>2025</td>\n    </tr>\n    <tr>\n      <th>9150</th>\n      <td>2025-01-23</td>\n      <td>5.950000</td>\n      <td>5.970000</td>\n      <td>5.930000</td>\n      <td>5.970000</td>\n      <td>ZTR</td>\n      <td>2025</td>\n    </tr>\n    <tr>\n      <th>9151</th>\n      <td>2025-01-24</td>\n      <td>5.970000</td>\n      <td>5.990000</td>\n      <td>5.950000</td>\n      <td>5.980000</td>\n      <td>ZTR</td>\n      <td>2025</td>\n    </tr>\n  </tbody>\n</table>\n<p>8535407 rows × 7 columns</p>\n</div>"
     },
     "execution_count": 33,
     "metadata": {},
     "output_type": "execute_result"
    }
   ],
   "execution_count": 33
  },
  {
   "cell_type": "code",
   "source": [
    "dask_df = dask_df.drop(columns=['Date'])\n",
    "dask_df.dtypes"
   ],
   "metadata": {
    "collapsed": false,
    "ExecuteTime": {
     "end_time": "2025-01-28T20:04:32.854586500Z",
     "start_time": "2025-01-28T20:04:32.832294400Z"
    }
   },
   "id": "ea03e4534694a4b2",
   "outputs": [
    {
     "data": {
      "text/plain": "Open           float32\nHigh           float32\nLow            float32\nClose          float32\nStock_Type    category\nYear             int32\ndtype: object"
     },
     "execution_count": 34,
     "metadata": {},
     "output_type": "execute_result"
    }
   ],
   "execution_count": 34
  },
  {
   "cell_type": "markdown",
   "source": [
    "## Przygotowanie cech i celu"
   ],
   "metadata": {
    "collapsed": false
   },
   "id": "d82ed01593df7046"
  },
  {
   "cell_type": "code",
   "source": [
    "X = dask_df[['Open', 'High', 'Low', 'Year','Stock_Type']]\n",
    "y = dask_df['Close']\n",
    "chunks_size = 100000"
   ],
   "metadata": {
    "collapsed": false,
    "ExecuteTime": {
     "end_time": "2025-01-28T20:04:32.858177300Z",
     "start_time": "2025-01-28T20:04:32.841759500Z"
    }
   },
   "id": "d626aa83f019f227",
   "outputs": [],
   "execution_count": 35
  },
  {
   "cell_type": "markdown",
   "source": [
    "### Zakodowanie wartosci kategorycznych"
   ],
   "metadata": {
    "collapsed": false
   },
   "id": "77f87891013c73af"
  },
  {
   "cell_type": "code",
   "outputs": [],
   "source": [
    "encoder = LabelEncoder()\n",
    "X = X.categorize(columns=['Stock_Type'])"
   ],
   "metadata": {
    "collapsed": false,
    "ExecuteTime": {
     "end_time": "2025-01-28T20:04:33.046171300Z",
     "start_time": "2025-01-28T20:04:32.848658200Z"
    }
   },
   "id": "c3b6286add2f11bf",
   "execution_count": 36
  },
  {
   "cell_type": "code",
   "outputs": [
    {
     "data": {
      "text/plain": "dask.array<reshape, shape=(8535407, 1), dtype=int64, chunksize=(170709, 1), chunktype=numpy.ndarray>",
      "text/html": "<table>\n    <tr>\n        <td>\n            <table style=\"border-collapse: collapse;\">\n                <thead>\n                    <tr>\n                        <td> </td>\n                        <th> Array </th>\n                        <th> Chunk </th>\n                    </tr>\n                </thead>\n                <tbody>\n                    \n                    <tr>\n                        <th> Bytes </th>\n                        <td> 65.12 MiB </td>\n                        <td> 1.30 MiB </td>\n                    </tr>\n                    \n                    <tr>\n                        <th> Shape </th>\n                        <td> (8535407, 1) </td>\n                        <td> (170709, 1) </td>\n                    </tr>\n                    <tr>\n                        <th> Dask graph </th>\n                        <td colspan=\"2\"> 50 chunks in 15 graph layers </td>\n                    </tr>\n                    <tr>\n                        <th> Data type </th>\n                        <td colspan=\"2\"> int64 numpy.ndarray </td>\n                    </tr>\n                </tbody>\n            </table>\n        </td>\n        <td>\n        <svg width=\"75\" height=\"170\" style=\"stroke:rgb(0,0,0);stroke-width:1\" >\n\n  <!-- Horizontal lines -->\n  <line x1=\"0\" y1=\"0\" x2=\"25\" y2=\"0\" style=\"stroke-width:2\" />\n  <line x1=\"0\" y1=\"4\" x2=\"25\" y2=\"4\" />\n  <line x1=\"0\" y1=\"11\" x2=\"25\" y2=\"11\" />\n  <line x1=\"0\" y1=\"16\" x2=\"25\" y2=\"16\" />\n  <line x1=\"0\" y1=\"23\" x2=\"25\" y2=\"23\" />\n  <line x1=\"0\" y1=\"31\" x2=\"25\" y2=\"31\" />\n  <line x1=\"0\" y1=\"35\" x2=\"25\" y2=\"35\" />\n  <line x1=\"0\" y1=\"43\" x2=\"25\" y2=\"43\" />\n  <line x1=\"0\" y1=\"50\" x2=\"25\" y2=\"50\" />\n  <line x1=\"0\" y1=\"55\" x2=\"25\" y2=\"55\" />\n  <line x1=\"0\" y1=\"62\" x2=\"25\" y2=\"62\" />\n  <line x1=\"0\" y1=\"67\" x2=\"25\" y2=\"67\" />\n  <line x1=\"0\" y1=\"74\" x2=\"25\" y2=\"74\" />\n  <line x1=\"0\" y1=\"81\" x2=\"25\" y2=\"81\" />\n  <line x1=\"0\" y1=\"86\" x2=\"25\" y2=\"86\" />\n  <line x1=\"0\" y1=\"93\" x2=\"25\" y2=\"93\" />\n  <line x1=\"0\" y1=\"100\" x2=\"25\" y2=\"100\" />\n  <line x1=\"0\" y1=\"105\" x2=\"25\" y2=\"105\" />\n  <line x1=\"0\" y1=\"112\" x2=\"25\" y2=\"112\" />\n  <line x1=\"0\" y1=\"120\" x2=\"25\" y2=\"120\" style=\"stroke-width:2\" />\n\n  <!-- Vertical lines -->\n  <line x1=\"0\" y1=\"0\" x2=\"0\" y2=\"120\" style=\"stroke-width:2\" />\n  <line x1=\"25\" y1=\"0\" x2=\"25\" y2=\"120\" style=\"stroke-width:2\" />\n\n  <!-- Colored Rectangle -->\n  <polygon points=\"0.0,0.0 25.412616514582485,0.0 25.412616514582485,120.0 0.0,120.0\" style=\"fill:#8B4903A0;stroke-width:0\"/>\n\n  <!-- Text -->\n  <text x=\"12.706308\" y=\"140.000000\" font-size=\"1.0rem\" font-weight=\"100\" text-anchor=\"middle\" >1</text>\n  <text x=\"45.412617\" y=\"60.000000\" font-size=\"1.0rem\" font-weight=\"100\" text-anchor=\"middle\" transform=\"rotate(-90,45.412617,60.000000)\">8535407</text>\n</svg>\n        </td>\n    </tr>\n</table>"
     },
     "execution_count": 37,
     "metadata": {},
     "output_type": "execute_result"
    }
   ],
   "source": [
    "X_encoded = encoder.fit_transform(X[['Stock_Type']].to_dask_array(lengths=True))\n",
    "X_encoded"
   ],
   "metadata": {
    "collapsed": false,
    "ExecuteTime": {
     "end_time": "2025-01-28T20:04:33.273103700Z",
     "start_time": "2025-01-28T20:04:33.050168100Z"
    }
   },
   "id": "b48bed7c57ea675e",
   "execution_count": 37
  },
  {
   "cell_type": "markdown",
   "source": [
    "### wyznaczenie wartosci numerycznych"
   ],
   "metadata": {
    "collapsed": false
   },
   "id": "552dfc08f6370a92"
  },
  {
   "cell_type": "code",
   "source": [
    "X_numeric = X[['Open', 'High', 'Low', 'Year']].to_dask_array(lengths=True)"
   ],
   "metadata": {
    "collapsed": false,
    "ExecuteTime": {
     "end_time": "2025-01-28T20:04:33.618480700Z",
     "start_time": "2025-01-28T20:04:33.275104300Z"
    }
   },
   "id": "c6a96276cd4d3598",
   "outputs": [],
   "execution_count": 38
  },
  {
   "cell_type": "markdown",
   "source": [
    "### Połączenie zbiorów dla x"
   ],
   "metadata": {
    "collapsed": false
   },
   "id": "41f50ff354e117d5"
  },
  {
   "cell_type": "code",
   "source": [
    "X_final = da.concatenate([X_numeric, X_encoded], axis=1).rechunk({1: X_numeric.shape[1] + X_encoded.shape[1]})"
   ],
   "metadata": {
    "collapsed": false,
    "ExecuteTime": {
     "end_time": "2025-01-28T20:04:33.637343200Z",
     "start_time": "2025-01-28T20:04:33.618480700Z"
    }
   },
   "id": "88ea9a2821ad00a7",
   "outputs": [],
   "execution_count": 39
  },
  {
   "cell_type": "code",
   "source": [
    "y_array = y.to_dask_array(lengths=True)"
   ],
   "metadata": {
    "collapsed": false,
    "ExecuteTime": {
     "end_time": "2025-01-28T20:04:33.794825700Z",
     "start_time": "2025-01-28T20:04:33.637343200Z"
    }
   },
   "id": "bea83aeb44278c52",
   "outputs": [],
   "execution_count": 40
  },
  {
   "cell_type": "markdown",
   "source": [
    "## Podział na zbiór treningowy i testowy"
   ],
   "metadata": {
    "collapsed": false
   },
   "id": "1bb62cd92fc8f362"
  },
  {
   "cell_type": "code",
   "source": [
    "X_train, X_test, y_train, y_test = train_test_split(X_final, y_array, test_size=0.2, random_state=42)"
   ],
   "metadata": {
    "collapsed": false,
    "ExecuteTime": {
     "end_time": "2025-01-28T20:04:33.960613200Z",
     "start_time": "2025-01-28T20:04:33.796826Z"
    }
   },
   "id": "5ba3a11440240000",
   "outputs": [],
   "execution_count": 41
  },
  {
   "cell_type": "markdown",
   "source": [
    "## Tworzenie modelu"
   ],
   "metadata": {
    "collapsed": false
   },
   "id": "bc6fb6456b78e281"
  },
  {
   "cell_type": "code",
   "source": [
    "model = Ridge(solver='auto')\n",
    "model_name = \"Ridge\""
   ],
   "metadata": {
    "collapsed": false,
    "ExecuteTime": {
     "end_time": "2025-01-28T20:04:33.967404400Z",
     "start_time": "2025-01-28T20:04:33.963396800Z"
    }
   },
   "id": "9cc8a5d472f34c35",
   "outputs": [],
   "execution_count": 42
  },
  {
   "cell_type": "markdown",
   "source": [
    "## Trening modelu"
   ],
   "metadata": {
    "collapsed": false
   },
   "id": "188b9fc9db5f163b"
  },
  {
   "cell_type": "code",
   "source": [
    "model.fit(X_train, y_train)"
   ],
   "metadata": {
    "collapsed": false,
    "jupyter": {
     "is_executing": true
    },
    "ExecuteTime": {
     "end_time": "2025-01-28T20:05:43.517697500Z",
     "start_time": "2025-01-28T20:04:34.008405200Z"
    }
   },
   "id": "2dc74a6f54732127",
   "outputs": [
    {
     "data": {
      "text/plain": "Ridge()",
      "text/html": "<style>#sk-container-id-1 {\n  /* Definition of color scheme common for light and dark mode */\n  --sklearn-color-text: #000;\n  --sklearn-color-text-muted: #666;\n  --sklearn-color-line: gray;\n  /* Definition of color scheme for unfitted estimators */\n  --sklearn-color-unfitted-level-0: #fff5e6;\n  --sklearn-color-unfitted-level-1: #f6e4d2;\n  --sklearn-color-unfitted-level-2: #ffe0b3;\n  --sklearn-color-unfitted-level-3: chocolate;\n  /* Definition of color scheme for fitted estimators */\n  --sklearn-color-fitted-level-0: #f0f8ff;\n  --sklearn-color-fitted-level-1: #d4ebff;\n  --sklearn-color-fitted-level-2: #b3dbfd;\n  --sklearn-color-fitted-level-3: cornflowerblue;\n\n  /* Specific color for light theme */\n  --sklearn-color-text-on-default-background: var(--sg-text-color, var(--theme-code-foreground, var(--jp-content-font-color1, black)));\n  --sklearn-color-background: var(--sg-background-color, var(--theme-background, var(--jp-layout-color0, white)));\n  --sklearn-color-border-box: var(--sg-text-color, var(--theme-code-foreground, var(--jp-content-font-color1, black)));\n  --sklearn-color-icon: #696969;\n\n  @media (prefers-color-scheme: dark) {\n    /* Redefinition of color scheme for dark theme */\n    --sklearn-color-text-on-default-background: var(--sg-text-color, var(--theme-code-foreground, var(--jp-content-font-color1, white)));\n    --sklearn-color-background: var(--sg-background-color, var(--theme-background, var(--jp-layout-color0, #111)));\n    --sklearn-color-border-box: var(--sg-text-color, var(--theme-code-foreground, var(--jp-content-font-color1, white)));\n    --sklearn-color-icon: #878787;\n  }\n}\n\n#sk-container-id-1 {\n  color: var(--sklearn-color-text);\n}\n\n#sk-container-id-1 pre {\n  padding: 0;\n}\n\n#sk-container-id-1 input.sk-hidden--visually {\n  border: 0;\n  clip: rect(1px 1px 1px 1px);\n  clip: rect(1px, 1px, 1px, 1px);\n  height: 1px;\n  margin: -1px;\n  overflow: hidden;\n  padding: 0;\n  position: absolute;\n  width: 1px;\n}\n\n#sk-container-id-1 div.sk-dashed-wrapped {\n  border: 1px dashed var(--sklearn-color-line);\n  margin: 0 0.4em 0.5em 0.4em;\n  box-sizing: border-box;\n  padding-bottom: 0.4em;\n  background-color: var(--sklearn-color-background);\n}\n\n#sk-container-id-1 div.sk-container {\n  /* jupyter's `normalize.less` sets `[hidden] { display: none; }`\n     but bootstrap.min.css set `[hidden] { display: none !important; }`\n     so we also need the `!important` here to be able to override the\n     default hidden behavior on the sphinx rendered scikit-learn.org.\n     See: https://github.com/scikit-learn/scikit-learn/issues/21755 */\n  display: inline-block !important;\n  position: relative;\n}\n\n#sk-container-id-1 div.sk-text-repr-fallback {\n  display: none;\n}\n\ndiv.sk-parallel-item,\ndiv.sk-serial,\ndiv.sk-item {\n  /* draw centered vertical line to link estimators */\n  background-image: linear-gradient(var(--sklearn-color-text-on-default-background), var(--sklearn-color-text-on-default-background));\n  background-size: 2px 100%;\n  background-repeat: no-repeat;\n  background-position: center center;\n}\n\n/* Parallel-specific style estimator block */\n\n#sk-container-id-1 div.sk-parallel-item::after {\n  content: \"\";\n  width: 100%;\n  border-bottom: 2px solid var(--sklearn-color-text-on-default-background);\n  flex-grow: 1;\n}\n\n#sk-container-id-1 div.sk-parallel {\n  display: flex;\n  align-items: stretch;\n  justify-content: center;\n  background-color: var(--sklearn-color-background);\n  position: relative;\n}\n\n#sk-container-id-1 div.sk-parallel-item {\n  display: flex;\n  flex-direction: column;\n}\n\n#sk-container-id-1 div.sk-parallel-item:first-child::after {\n  align-self: flex-end;\n  width: 50%;\n}\n\n#sk-container-id-1 div.sk-parallel-item:last-child::after {\n  align-self: flex-start;\n  width: 50%;\n}\n\n#sk-container-id-1 div.sk-parallel-item:only-child::after {\n  width: 0;\n}\n\n/* Serial-specific style estimator block */\n\n#sk-container-id-1 div.sk-serial {\n  display: flex;\n  flex-direction: column;\n  align-items: center;\n  background-color: var(--sklearn-color-background);\n  padding-right: 1em;\n  padding-left: 1em;\n}\n\n\n/* Toggleable style: style used for estimator/Pipeline/ColumnTransformer box that is\nclickable and can be expanded/collapsed.\n- Pipeline and ColumnTransformer use this feature and define the default style\n- Estimators will overwrite some part of the style using the `sk-estimator` class\n*/\n\n/* Pipeline and ColumnTransformer style (default) */\n\n#sk-container-id-1 div.sk-toggleable {\n  /* Default theme specific background. It is overwritten whether we have a\n  specific estimator or a Pipeline/ColumnTransformer */\n  background-color: var(--sklearn-color-background);\n}\n\n/* Toggleable label */\n#sk-container-id-1 label.sk-toggleable__label {\n  cursor: pointer;\n  display: flex;\n  width: 100%;\n  margin-bottom: 0;\n  padding: 0.5em;\n  box-sizing: border-box;\n  text-align: center;\n  align-items: start;\n  justify-content: space-between;\n  gap: 0.5em;\n}\n\n#sk-container-id-1 label.sk-toggleable__label .caption {\n  font-size: 0.6rem;\n  font-weight: lighter;\n  color: var(--sklearn-color-text-muted);\n}\n\n#sk-container-id-1 label.sk-toggleable__label-arrow:before {\n  /* Arrow on the left of the label */\n  content: \"▸\";\n  float: left;\n  margin-right: 0.25em;\n  color: var(--sklearn-color-icon);\n}\n\n#sk-container-id-1 label.sk-toggleable__label-arrow:hover:before {\n  color: var(--sklearn-color-text);\n}\n\n/* Toggleable content - dropdown */\n\n#sk-container-id-1 div.sk-toggleable__content {\n  max-height: 0;\n  max-width: 0;\n  overflow: hidden;\n  text-align: left;\n  /* unfitted */\n  background-color: var(--sklearn-color-unfitted-level-0);\n}\n\n#sk-container-id-1 div.sk-toggleable__content.fitted {\n  /* fitted */\n  background-color: var(--sklearn-color-fitted-level-0);\n}\n\n#sk-container-id-1 div.sk-toggleable__content pre {\n  margin: 0.2em;\n  border-radius: 0.25em;\n  color: var(--sklearn-color-text);\n  /* unfitted */\n  background-color: var(--sklearn-color-unfitted-level-0);\n}\n\n#sk-container-id-1 div.sk-toggleable__content.fitted pre {\n  /* unfitted */\n  background-color: var(--sklearn-color-fitted-level-0);\n}\n\n#sk-container-id-1 input.sk-toggleable__control:checked~div.sk-toggleable__content {\n  /* Expand drop-down */\n  max-height: 200px;\n  max-width: 100%;\n  overflow: auto;\n}\n\n#sk-container-id-1 input.sk-toggleable__control:checked~label.sk-toggleable__label-arrow:before {\n  content: \"▾\";\n}\n\n/* Pipeline/ColumnTransformer-specific style */\n\n#sk-container-id-1 div.sk-label input.sk-toggleable__control:checked~label.sk-toggleable__label {\n  color: var(--sklearn-color-text);\n  background-color: var(--sklearn-color-unfitted-level-2);\n}\n\n#sk-container-id-1 div.sk-label.fitted input.sk-toggleable__control:checked~label.sk-toggleable__label {\n  background-color: var(--sklearn-color-fitted-level-2);\n}\n\n/* Estimator-specific style */\n\n/* Colorize estimator box */\n#sk-container-id-1 div.sk-estimator input.sk-toggleable__control:checked~label.sk-toggleable__label {\n  /* unfitted */\n  background-color: var(--sklearn-color-unfitted-level-2);\n}\n\n#sk-container-id-1 div.sk-estimator.fitted input.sk-toggleable__control:checked~label.sk-toggleable__label {\n  /* fitted */\n  background-color: var(--sklearn-color-fitted-level-2);\n}\n\n#sk-container-id-1 div.sk-label label.sk-toggleable__label,\n#sk-container-id-1 div.sk-label label {\n  /* The background is the default theme color */\n  color: var(--sklearn-color-text-on-default-background);\n}\n\n/* On hover, darken the color of the background */\n#sk-container-id-1 div.sk-label:hover label.sk-toggleable__label {\n  color: var(--sklearn-color-text);\n  background-color: var(--sklearn-color-unfitted-level-2);\n}\n\n/* Label box, darken color on hover, fitted */\n#sk-container-id-1 div.sk-label.fitted:hover label.sk-toggleable__label.fitted {\n  color: var(--sklearn-color-text);\n  background-color: var(--sklearn-color-fitted-level-2);\n}\n\n/* Estimator label */\n\n#sk-container-id-1 div.sk-label label {\n  font-family: monospace;\n  font-weight: bold;\n  display: inline-block;\n  line-height: 1.2em;\n}\n\n#sk-container-id-1 div.sk-label-container {\n  text-align: center;\n}\n\n/* Estimator-specific */\n#sk-container-id-1 div.sk-estimator {\n  font-family: monospace;\n  border: 1px dotted var(--sklearn-color-border-box);\n  border-radius: 0.25em;\n  box-sizing: border-box;\n  margin-bottom: 0.5em;\n  /* unfitted */\n  background-color: var(--sklearn-color-unfitted-level-0);\n}\n\n#sk-container-id-1 div.sk-estimator.fitted {\n  /* fitted */\n  background-color: var(--sklearn-color-fitted-level-0);\n}\n\n/* on hover */\n#sk-container-id-1 div.sk-estimator:hover {\n  /* unfitted */\n  background-color: var(--sklearn-color-unfitted-level-2);\n}\n\n#sk-container-id-1 div.sk-estimator.fitted:hover {\n  /* fitted */\n  background-color: var(--sklearn-color-fitted-level-2);\n}\n\n/* Specification for estimator info (e.g. \"i\" and \"?\") */\n\n/* Common style for \"i\" and \"?\" */\n\n.sk-estimator-doc-link,\na:link.sk-estimator-doc-link,\na:visited.sk-estimator-doc-link {\n  float: right;\n  font-size: smaller;\n  line-height: 1em;\n  font-family: monospace;\n  background-color: var(--sklearn-color-background);\n  border-radius: 1em;\n  height: 1em;\n  width: 1em;\n  text-decoration: none !important;\n  margin-left: 0.5em;\n  text-align: center;\n  /* unfitted */\n  border: var(--sklearn-color-unfitted-level-1) 1pt solid;\n  color: var(--sklearn-color-unfitted-level-1);\n}\n\n.sk-estimator-doc-link.fitted,\na:link.sk-estimator-doc-link.fitted,\na:visited.sk-estimator-doc-link.fitted {\n  /* fitted */\n  border: var(--sklearn-color-fitted-level-1) 1pt solid;\n  color: var(--sklearn-color-fitted-level-1);\n}\n\n/* On hover */\ndiv.sk-estimator:hover .sk-estimator-doc-link:hover,\n.sk-estimator-doc-link:hover,\ndiv.sk-label-container:hover .sk-estimator-doc-link:hover,\n.sk-estimator-doc-link:hover {\n  /* unfitted */\n  background-color: var(--sklearn-color-unfitted-level-3);\n  color: var(--sklearn-color-background);\n  text-decoration: none;\n}\n\ndiv.sk-estimator.fitted:hover .sk-estimator-doc-link.fitted:hover,\n.sk-estimator-doc-link.fitted:hover,\ndiv.sk-label-container:hover .sk-estimator-doc-link.fitted:hover,\n.sk-estimator-doc-link.fitted:hover {\n  /* fitted */\n  background-color: var(--sklearn-color-fitted-level-3);\n  color: var(--sklearn-color-background);\n  text-decoration: none;\n}\n\n/* Span, style for the box shown on hovering the info icon */\n.sk-estimator-doc-link span {\n  display: none;\n  z-index: 9999;\n  position: relative;\n  font-weight: normal;\n  right: .2ex;\n  padding: .5ex;\n  margin: .5ex;\n  width: min-content;\n  min-width: 20ex;\n  max-width: 50ex;\n  color: var(--sklearn-color-text);\n  box-shadow: 2pt 2pt 4pt #999;\n  /* unfitted */\n  background: var(--sklearn-color-unfitted-level-0);\n  border: .5pt solid var(--sklearn-color-unfitted-level-3);\n}\n\n.sk-estimator-doc-link.fitted span {\n  /* fitted */\n  background: var(--sklearn-color-fitted-level-0);\n  border: var(--sklearn-color-fitted-level-3);\n}\n\n.sk-estimator-doc-link:hover span {\n  display: block;\n}\n\n/* \"?\"-specific style due to the `<a>` HTML tag */\n\n#sk-container-id-1 a.estimator_doc_link {\n  float: right;\n  font-size: 1rem;\n  line-height: 1em;\n  font-family: monospace;\n  background-color: var(--sklearn-color-background);\n  border-radius: 1rem;\n  height: 1rem;\n  width: 1rem;\n  text-decoration: none;\n  /* unfitted */\n  color: var(--sklearn-color-unfitted-level-1);\n  border: var(--sklearn-color-unfitted-level-1) 1pt solid;\n}\n\n#sk-container-id-1 a.estimator_doc_link.fitted {\n  /* fitted */\n  border: var(--sklearn-color-fitted-level-1) 1pt solid;\n  color: var(--sklearn-color-fitted-level-1);\n}\n\n/* On hover */\n#sk-container-id-1 a.estimator_doc_link:hover {\n  /* unfitted */\n  background-color: var(--sklearn-color-unfitted-level-3);\n  color: var(--sklearn-color-background);\n  text-decoration: none;\n}\n\n#sk-container-id-1 a.estimator_doc_link.fitted:hover {\n  /* fitted */\n  background-color: var(--sklearn-color-fitted-level-3);\n}\n</style><div id=\"sk-container-id-1\" class=\"sk-top-container\"><div class=\"sk-text-repr-fallback\"><pre>Ridge()</pre><b>In a Jupyter environment, please rerun this cell to show the HTML representation or trust the notebook. <br />On GitHub, the HTML representation is unable to render, please try loading this page with nbviewer.org.</b></div><div class=\"sk-container\" hidden><div class=\"sk-item\"><div class=\"sk-estimator fitted sk-toggleable\"><input class=\"sk-toggleable__control sk-hidden--visually\" id=\"sk-estimator-id-1\" type=\"checkbox\" checked><label for=\"sk-estimator-id-1\" class=\"sk-toggleable__label fitted sk-toggleable__label-arrow\"><div><div>Ridge</div></div><div><a class=\"sk-estimator-doc-link fitted\" rel=\"noreferrer\" target=\"_blank\" href=\"https://scikit-learn.org/1.6/modules/generated/sklearn.linear_model.Ridge.html\">?<span>Documentation for Ridge</span></a><span class=\"sk-estimator-doc-link fitted\">i<span>Fitted</span></span></div></label><div class=\"sk-toggleable__content fitted\"><pre>Ridge()</pre></div> </div></div></div></div>"
     },
     "execution_count": 43,
     "metadata": {},
     "output_type": "execute_result"
    }
   ],
   "execution_count": 43
  },
  {
   "cell_type": "markdown",
   "id": "2b94b862c0e5591c",
   "metadata": {
    "collapsed": false
   },
   "source": [
    "# Etap 4 - ewaluacja modelu i jego utrwalenie."
   ]
  },
  {
   "cell_type": "markdown",
   "source": [
    "## Serializacja i deserializacja"
   ],
   "metadata": {
    "collapsed": false
   },
   "id": "4c3e5cb5de27bbf4"
  },
  {
   "cell_type": "code",
   "id": "8a79520f9e91999c",
   "metadata": {
    "collapsed": false,
    "jupyter": {
     "is_executing": true
    },
    "ExecuteTime": {
     "end_time": "2025-01-28T20:05:43.746431300Z",
     "start_time": "2025-01-28T20:05:43.450697200Z"
    }
   },
   "source": [
    "def serialize_model(path, model, name):\n",
    "    if os.path.exists(path):\n",
    "        shutil.rmtree(path)\n",
    "    os.makedirs(path)\n",
    "    with open(os.path.join(path, name+'.pkl'), 'wb') as f:\n",
    "        pickle.dump(model, f)\n",
    "\n",
    "def deserialize_model(path, name):\n",
    "    with open(os.path.join(path, name+'.pkl'), 'rb') as f:\n",
    "        return pickle.load(f)"
   ],
   "outputs": [],
   "execution_count": 44
  },
  {
   "cell_type": "markdown",
   "source": [
    "## Przewidywania na zbiorze testowym oraz sprawdzenie poprawnosci serializacji i deserializacji "
   ],
   "metadata": {
    "collapsed": false
   },
   "id": "57b5d0d1fabd7bfd"
  },
  {
   "cell_type": "code",
   "source": [
    "y_pred = model.predict(X_test)"
   ],
   "metadata": {
    "collapsed": false,
    "jupyter": {
     "is_executing": true
    },
    "ExecuteTime": {
     "end_time": "2025-01-28T20:06:38.832006300Z",
     "start_time": "2025-01-28T20:05:43.473697500Z"
    }
   },
   "id": "51a5da85e7a8012b",
   "outputs": [],
   "execution_count": 45
  },
  {
   "cell_type": "code",
   "source": [
    "model_output_path = \"project_data/model/\"\n",
    "\n",
    "serialize_model(model_output_path, model, model_name)\n",
    "loaded_model = deserialize_model(model_output_path, model_name)\n",
    "print(\"Model załadowany:\", loaded_model)"
   ],
   "metadata": {
    "collapsed": false,
    "jupyter": {
     "is_executing": true
    },
    "ExecuteTime": {
     "end_time": "2025-01-28T20:06:39.096306700Z",
     "start_time": "2025-01-28T20:06:38.819006700Z"
    }
   },
   "id": "154a5da3f9e42a7f",
   "outputs": [
    {
     "name": "stdout",
     "output_type": "stream",
     "text": [
      "Model załadowany: Ridge()\n"
     ]
    }
   ],
   "execution_count": 46
  },
  {
   "cell_type": "code",
   "source": [
    "y_pred_loaded_model = loaded_model.predict(X_test)"
   ],
   "metadata": {
    "collapsed": false,
    "jupyter": {
     "is_executing": true
    },
    "ExecuteTime": {
     "end_time": "2025-01-28T20:07:27.852659700Z",
     "start_time": "2025-01-28T20:06:38.900642Z"
    }
   },
   "id": "e1f894566a9a9b43",
   "outputs": [],
   "execution_count": 47
  },
  {
   "cell_type": "code",
   "source": [
    "original_predictions = y_pred\n",
    "loaded_model_predictions = y_pred_loaded_model\n",
    "comparison = (original_predictions == loaded_model_predictions).all()\n",
    "print(f\"Czy prognozy modelu oryginalnego i wczytanego są identyczne? {comparison}\")"
   ],
   "metadata": {
    "collapsed": false,
    "jupyter": {
     "is_executing": true
    },
    "ExecuteTime": {
     "end_time": "2025-01-28T20:07:27.883357600Z",
     "start_time": "2025-01-28T20:07:27.854659Z"
    }
   },
   "id": "bbbe3fe6da17f58a",
   "outputs": [
    {
     "name": "stdout",
     "output_type": "stream",
     "text": [
      "Czy prognozy modelu oryginalnego i wczytanego są identyczne? True\n"
     ]
    }
   ],
   "execution_count": 48
  },
  {
   "cell_type": "markdown",
   "source": [
    "## Sprawdzanie błędu przewidywań"
   ],
   "metadata": {
    "collapsed": false
   },
   "id": "305e20ab959e1ce4"
  },
  {
   "cell_type": "code",
   "source": [
    "mse = mean_squared_error(y_test, y_pred)\n",
    "print(f\"MSE: {mse}\")\n",
    "\n",
    "rmse = np.sqrt(mse)\n",
    "print(f\"RMSE: {rmse}\")\n",
    "\n",
    "r2 = r2_score(y_test, y_pred)\n",
    "print(f\"R²: {r2}\")"
   ],
   "metadata": {
    "collapsed": false,
    "jupyter": {
     "is_executing": true
    },
    "ExecuteTime": {
     "end_time": "2025-01-28T20:07:28.976819800Z",
     "start_time": "2025-01-28T20:07:27.871651200Z"
    }
   },
   "id": "676e56aa9e824449",
   "outputs": [
    {
     "name": "stdout",
     "output_type": "stream",
     "text": [
      "MSE: 0.46755999052024894\n",
      "RMSE: 0.6837835845647722\n",
      "R²: 0.9971306473440368\n"
     ]
    }
   ],
   "execution_count": 49
  },
  {
   "cell_type": "markdown",
   "source": [
    "## Wykres rzeczywistych vs przewidywanych wartości"
   ],
   "metadata": {
    "collapsed": false
   },
   "id": "c75168979940e0d4"
  },
  {
   "cell_type": "code",
   "source": [
    "y_test_actual = y_test.compute()\n",
    "y_predicted = y_pred\n",
    "\n",
    "plt.figure(figsize=(8, 8))\n",
    "plt.scatter(y_test_actual, y_predicted, alpha=0.6, color=\"blue\", label=\"Przewidywane vs Rzeczywiste\")\n",
    "plt.plot([np.min(y_test_actual), np.max(y_test_actual)], \n",
    "         [np.min(y_test_actual), np.max(y_test_actual)], \n",
    "         color=\"red\", linestyle=\"--\", label=\"Idealna linia (y=x)\")\n",
    "plt.xlabel(\"Rzeczywiste wartości\")\n",
    "plt.ylabel(\"Przewidywane wartości\")\n",
    "plt.title(\"Porównanie wartości rzeczywistych i przewidywanych\")\n",
    "plt.legend(loc=\"upper left\")\n",
    "plt.grid(alpha=0.3)\n",
    "plt.show()"
   ],
   "metadata": {
    "collapsed": false,
    "jupyter": {
     "is_executing": true
    },
    "ExecuteTime": {
     "end_time": "2025-01-28T20:07:32.809842500Z",
     "start_time": "2025-01-28T20:07:28.950820100Z"
    }
   },
   "id": "e0d1ee866c7978ad",
   "outputs": [
    {
     "data": {
      "text/plain": "<Figure size 800x800 with 1 Axes>",
      "image/png": "[encoded data removed]"
     },
     "metadata": {},
     "output_type": "display_data"
    }
   ],
   "execution_count": 50
  },
  {
   "cell_type": "markdown",
   "source": [
    "# Szukanie najlepszych parametrów"
   ],
   "metadata": {
    "collapsed": false
   },
   "id": "8e09d96f0d280fb6"
  },
  {
   "cell_type": "code",
   "outputs": [],
   "source": [
    "params = {\n",
    "    'alpha': np.logspace(-6, 1, num=10), # Wartości regularyzacji\n",
    "    'fit_intercept': [True, False], # Wyraz wolny\n",
    "    'tol': [1e-4, 1e-3, 1e-2], # Tolerancja zbieżności\n",
    "    'max_iter': [1000, 5000, 10000], # Liczba iteracji\n",
    "    'random_state': [42],  \n",
    "}\n",
    "\n",
    "# Tworzenie GridSearchCV\n",
    "search = GridSearchCV(\n",
    "    estimator=loaded_model,\n",
    "    param_grid=params,\n",
    "    scoring='neg_mean_squared_error',\n",
    "    cv=3  # Walidacja krzyżowa\n",
    ")"
   ],
   "metadata": {
    "collapsed": false,
    "ExecuteTime": {
     "end_time": "2025-01-28T20:07:32.812843100Z",
     "start_time": "2025-01-28T20:07:32.797857200Z"
    }
   },
   "id": "ff822b571770fc0a",
   "execution_count": 51
  },
  {
   "cell_type": "code",
   "outputs": [
    {
     "data": {
      "text/plain": "GridSearchCV(cv=3, estimator=Ridge(),\n             param_grid={'alpha': array([1.00000000e-06, 5.99484250e-06, 3.59381366e-05, 2.15443469e-04,\n       1.29154967e-03, 7.74263683e-03, 4.64158883e-02, 2.78255940e-01,\n       1.66810054e+00, 1.00000000e+01]),\n                         'fit_intercept': [True, False],\n                         'max_iter': [1000, 5000, 10000], 'random_state': [42],\n                         'tol': [0.0001, 0.001, 0.01]},\n             scoring='neg_mean_squared_error')",
      "text/html": "<style>#sk-container-id-2 {\n  /* Definition of color scheme common for light and dark mode */\n  --sklearn-color-text: #000;\n  --sklearn-color-text-muted: #666;\n  --sklearn-color-line: gray;\n  /* Definition of color scheme for unfitted estimators */\n  --sklearn-color-unfitted-level-0: #fff5e6;\n  --sklearn-color-unfitted-level-1: #f6e4d2;\n  --sklearn-color-unfitted-level-2: #ffe0b3;\n  --sklearn-color-unfitted-level-3: chocolate;\n  /* Definition of color scheme for fitted estimators */\n  --sklearn-color-fitted-level-0: #f0f8ff;\n  --sklearn-color-fitted-level-1: #d4ebff;\n  --sklearn-color-fitted-level-2: #b3dbfd;\n  --sklearn-color-fitted-level-3: cornflowerblue;\n\n  /* Specific color for light theme */\n  --sklearn-color-text-on-default-background: var(--sg-text-color, var(--theme-code-foreground, var(--jp-content-font-color1, black)));\n  --sklearn-color-background: var(--sg-background-color, var(--theme-background, var(--jp-layout-color0, white)));\n  --sklearn-color-border-box: var(--sg-text-color, var(--theme-code-foreground, var(--jp-content-font-color1, black)));\n  --sklearn-color-icon: #696969;\n\n  @media (prefers-color-scheme: dark) {\n    /* Redefinition of color scheme for dark theme */\n    --sklearn-color-text-on-default-background: var(--sg-text-color, var(--theme-code-foreground, var(--jp-content-font-color1, white)));\n    --sklearn-color-background: var(--sg-background-color, var(--theme-background, var(--jp-layout-color0, #111)));\n    --sklearn-color-border-box: var(--sg-text-color, var(--theme-code-foreground, var(--jp-content-font-color1, white)));\n    --sklearn-color-icon: #878787;\n  }\n}\n\n#sk-container-id-2 {\n  color: var(--sklearn-color-text);\n}\n\n#sk-container-id-2 pre {\n  padding: 0;\n}\n\n#sk-container-id-2 input.sk-hidden--visually {\n  border: 0;\n  clip: rect(1px 1px 1px 1px);\n  clip: rect(1px, 1px, 1px, 1px);\n  height: 1px;\n  margin: -1px;\n  overflow: hidden;\n  padding: 0;\n  position: absolute;\n  width: 1px;\n}\n\n#sk-container-id-2 div.sk-dashed-wrapped {\n  border: 1px dashed var(--sklearn-color-line);\n  margin: 0 0.4em 0.5em 0.4em;\n  box-sizing: border-box;\n  padding-bottom: 0.4em;\n  background-color: var(--sklearn-color-background);\n}\n\n#sk-container-id-2 div.sk-container {\n  /* jupyter's `normalize.less` sets `[hidden] { display: none; }`\n     but bootstrap.min.css set `[hidden] { display: none !important; }`\n     so we also need the `!important` here to be able to override the\n     default hidden behavior on the sphinx rendered scikit-learn.org.\n     See: https://github.com/scikit-learn/scikit-learn/issues/21755 */\n  display: inline-block !important;\n  position: relative;\n}\n\n#sk-container-id-2 div.sk-text-repr-fallback {\n  display: none;\n}\n\ndiv.sk-parallel-item,\ndiv.sk-serial,\ndiv.sk-item {\n  /* draw centered vertical line to link estimators */\n  background-image: linear-gradient(var(--sklearn-color-text-on-default-background), var(--sklearn-color-text-on-default-background));\n  background-size: 2px 100%;\n  background-repeat: no-repeat;\n  background-position: center center;\n}\n\n/* Parallel-specific style estimator block */\n\n#sk-container-id-2 div.sk-parallel-item::after {\n  content: \"\";\n  width: 100%;\n  border-bottom: 2px solid var(--sklearn-color-text-on-default-background);\n  flex-grow: 1;\n}\n\n#sk-container-id-2 div.sk-parallel {\n  display: flex;\n  align-items: stretch;\n  justify-content: center;\n  background-color: var(--sklearn-color-background);\n  position: relative;\n}\n\n#sk-container-id-2 div.sk-parallel-item {\n  display: flex;\n  flex-direction: column;\n}\n\n#sk-container-id-2 div.sk-parallel-item:first-child::after {\n  align-self: flex-end;\n  width: 50%;\n}\n\n#sk-container-id-2 div.sk-parallel-item:last-child::after {\n  align-self: flex-start;\n  width: 50%;\n}\n\n#sk-container-id-2 div.sk-parallel-item:only-child::after {\n  width: 0;\n}\n\n/* Serial-specific style estimator block */\n\n#sk-container-id-2 div.sk-serial {\n  display: flex;\n  flex-direction: column;\n  align-items: center;\n  background-color: var(--sklearn-color-background);\n  padding-right: 1em;\n  padding-left: 1em;\n}\n\n\n/* Toggleable style: style used for estimator/Pipeline/ColumnTransformer box that is\nclickable and can be expanded/collapsed.\n- Pipeline and ColumnTransformer use this feature and define the default style\n- Estimators will overwrite some part of the style using the `sk-estimator` class\n*/\n\n/* Pipeline and ColumnTransformer style (default) */\n\n#sk-container-id-2 div.sk-toggleable {\n  /* Default theme specific background. It is overwritten whether we have a\n  specific estimator or a Pipeline/ColumnTransformer */\n  background-color: var(--sklearn-color-background);\n}\n\n/* Toggleable label */\n#sk-container-id-2 label.sk-toggleable__label {\n  cursor: pointer;\n  display: flex;\n  width: 100%;\n  margin-bottom: 0;\n  padding: 0.5em;\n  box-sizing: border-box;\n  text-align: center;\n  align-items: start;\n  justify-content: space-between;\n  gap: 0.5em;\n}\n\n#sk-container-id-2 label.sk-toggleable__label .caption {\n  font-size: 0.6rem;\n  font-weight: lighter;\n  color: var(--sklearn-color-text-muted);\n}\n\n#sk-container-id-2 label.sk-toggleable__label-arrow:before {\n  /* Arrow on the left of the label */\n  content: \"▸\";\n  float: left;\n  margin-right: 0.25em;\n  color: var(--sklearn-color-icon);\n}\n\n#sk-container-id-2 label.sk-toggleable__label-arrow:hover:before {\n  color: var(--sklearn-color-text);\n}\n\n/* Toggleable content - dropdown */\n\n#sk-container-id-2 div.sk-toggleable__content {\n  max-height: 0;\n  max-width: 0;\n  overflow: hidden;\n  text-align: left;\n  /* unfitted */\n  background-color: var(--sklearn-color-unfitted-level-0);\n}\n\n#sk-container-id-2 div.sk-toggleable__content.fitted {\n  /* fitted */\n  background-color: var(--sklearn-color-fitted-level-0);\n}\n\n#sk-container-id-2 div.sk-toggleable__content pre {\n  margin: 0.2em;\n  border-radius: 0.25em;\n  color: var(--sklearn-color-text);\n  /* unfitted */\n  background-color: var(--sklearn-color-unfitted-level-0);\n}\n\n#sk-container-id-2 div.sk-toggleable__content.fitted pre {\n  /* unfitted */\n  background-color: var(--sklearn-color-fitted-level-0);\n}\n\n#sk-container-id-2 input.sk-toggleable__control:checked~div.sk-toggleable__content {\n  /* Expand drop-down */\n  max-height: 200px;\n  max-width: 100%;\n  overflow: auto;\n}\n\n#sk-container-id-2 input.sk-toggleable__control:checked~label.sk-toggleable__label-arrow:before {\n  content: \"▾\";\n}\n\n/* Pipeline/ColumnTransformer-specific style */\n\n#sk-container-id-2 div.sk-label input.sk-toggleable__control:checked~label.sk-toggleable__label {\n  color: var(--sklearn-color-text);\n  background-color: var(--sklearn-color-unfitted-level-2);\n}\n\n#sk-container-id-2 div.sk-label.fitted input.sk-toggleable__control:checked~label.sk-toggleable__label {\n  background-color: var(--sklearn-color-fitted-level-2);\n}\n\n/* Estimator-specific style */\n\n/* Colorize estimator box */\n#sk-container-id-2 div.sk-estimator input.sk-toggleable__control:checked~label.sk-toggleable__label {\n  /* unfitted */\n  background-color: var(--sklearn-color-unfitted-level-2);\n}\n\n#sk-container-id-2 div.sk-estimator.fitted input.sk-toggleable__control:checked~label.sk-toggleable__label {\n  /* fitted */\n  background-color: var(--sklearn-color-fitted-level-2);\n}\n\n#sk-container-id-2 div.sk-label label.sk-toggleable__label,\n#sk-container-id-2 div.sk-label label {\n  /* The background is the default theme color */\n  color: var(--sklearn-color-text-on-default-background);\n}\n\n/* On hover, darken the color of the background */\n#sk-container-id-2 div.sk-label:hover label.sk-toggleable__label {\n  color: var(--sklearn-color-text);\n  background-color: var(--sklearn-color-unfitted-level-2);\n}\n\n/* Label box, darken color on hover, fitted */\n#sk-container-id-2 div.sk-label.fitted:hover label.sk-toggleable__label.fitted {\n  color: var(--sklearn-color-text);\n  background-color: var(--sklearn-color-fitted-level-2);\n}\n\n/* Estimator label */\n\n#sk-container-id-2 div.sk-label label {\n  font-family: monospace;\n  font-weight: bold;\n  display: inline-block;\n  line-height: 1.2em;\n}\n\n#sk-container-id-2 div.sk-label-container {\n  text-align: center;\n}\n\n/* Estimator-specific */\n#sk-container-id-2 div.sk-estimator {\n  font-family: monospace;\n  border: 1px dotted var(--sklearn-color-border-box);\n  border-radius: 0.25em;\n  box-sizing: border-box;\n  margin-bottom: 0.5em;\n  /* unfitted */\n  background-color: var(--sklearn-color-unfitted-level-0);\n}\n\n#sk-container-id-2 div.sk-estimator.fitted {\n  /* fitted */\n  background-color: var(--sklearn-color-fitted-level-0);\n}\n\n/* on hover */\n#sk-container-id-2 div.sk-estimator:hover {\n  /* unfitted */\n  background-color: var(--sklearn-color-unfitted-level-2);\n}\n\n#sk-container-id-2 div.sk-estimator.fitted:hover {\n  /* fitted */\n  background-color: var(--sklearn-color-fitted-level-2);\n}\n\n/* Specification for estimator info (e.g. \"i\" and \"?\") */\n\n/* Common style for \"i\" and \"?\" */\n\n.sk-estimator-doc-link,\na:link.sk-estimator-doc-link,\na:visited.sk-estimator-doc-link {\n  float: right;\n  font-size: smaller;\n  line-height: 1em;\n  font-family: monospace;\n  background-color: var(--sklearn-color-background);\n  border-radius: 1em;\n  height: 1em;\n  width: 1em;\n  text-decoration: none !important;\n  margin-left: 0.5em;\n  text-align: center;\n  /* unfitted */\n  border: var(--sklearn-color-unfitted-level-1) 1pt solid;\n  color: var(--sklearn-color-unfitted-level-1);\n}\n\n.sk-estimator-doc-link.fitted,\na:link.sk-estimator-doc-link.fitted,\na:visited.sk-estimator-doc-link.fitted {\n  /* fitted */\n  border: var(--sklearn-color-fitted-level-1) 1pt solid;\n  color: var(--sklearn-color-fitted-level-1);\n}\n\n/* On hover */\ndiv.sk-estimator:hover .sk-estimator-doc-link:hover,\n.sk-estimator-doc-link:hover,\ndiv.sk-label-container:hover .sk-estimator-doc-link:hover,\n.sk-estimator-doc-link:hover {\n  /* unfitted */\n  background-color: var(--sklearn-color-unfitted-level-3);\n  color: var(--sklearn-color-background);\n  text-decoration: none;\n}\n\ndiv.sk-estimator.fitted:hover .sk-estimator-doc-link.fitted:hover,\n.sk-estimator-doc-link.fitted:hover,\ndiv.sk-label-container:hover .sk-estimator-doc-link.fitted:hover,\n.sk-estimator-doc-link.fitted:hover {\n  /* fitted */\n  background-color: var(--sklearn-color-fitted-level-3);\n  color: var(--sklearn-color-background);\n  text-decoration: none;\n}\n\n/* Span, style for the box shown on hovering the info icon */\n.sk-estimator-doc-link span {\n  display: none;\n  z-index: 9999;\n  position: relative;\n  font-weight: normal;\n  right: .2ex;\n  padding: .5ex;\n  margin: .5ex;\n  width: min-content;\n  min-width: 20ex;\n  max-width: 50ex;\n  color: var(--sklearn-color-text);\n  box-shadow: 2pt 2pt 4pt #999;\n  /* unfitted */\n  background: var(--sklearn-color-unfitted-level-0);\n  border: .5pt solid var(--sklearn-color-unfitted-level-3);\n}\n\n.sk-estimator-doc-link.fitted span {\n  /* fitted */\n  background: var(--sklearn-color-fitted-level-0);\n  border: var(--sklearn-color-fitted-level-3);\n}\n\n.sk-estimator-doc-link:hover span {\n  display: block;\n}\n\n/* \"?\"-specific style due to the `<a>` HTML tag */\n\n#sk-container-id-2 a.estimator_doc_link {\n  float: right;\n  font-size: 1rem;\n  line-height: 1em;\n  font-family: monospace;\n  background-color: var(--sklearn-color-background);\n  border-radius: 1rem;\n  height: 1rem;\n  width: 1rem;\n  text-decoration: none;\n  /* unfitted */\n  color: var(--sklearn-color-unfitted-level-1);\n  border: var(--sklearn-color-unfitted-level-1) 1pt solid;\n}\n\n#sk-container-id-2 a.estimator_doc_link.fitted {\n  /* fitted */\n  border: var(--sklearn-color-fitted-level-1) 1pt solid;\n  color: var(--sklearn-color-fitted-level-1);\n}\n\n/* On hover */\n#sk-container-id-2 a.estimator_doc_link:hover {\n  /* unfitted */\n  background-color: var(--sklearn-color-unfitted-level-3);\n  color: var(--sklearn-color-background);\n  text-decoration: none;\n}\n\n#sk-container-id-2 a.estimator_doc_link.fitted:hover {\n  /* fitted */\n  background-color: var(--sklearn-color-fitted-level-3);\n}\n</style><div id=\"sk-container-id-2\" class=\"sk-top-container\"><div class=\"sk-text-repr-fallback\"><pre>GridSearchCV(cv=3, estimator=Ridge(),\n             param_grid={&#x27;alpha&#x27;: array([1.00000000e-06, 5.99484250e-06, 3.59381366e-05, 2.15443469e-04,\n       1.29154967e-03, 7.74263683e-03, 4.64158883e-02, 2.78255940e-01,\n       1.66810054e+00, 1.00000000e+01]),\n                         &#x27;fit_intercept&#x27;: [True, False],\n                         &#x27;max_iter&#x27;: [1000, 5000, 10000], &#x27;random_state&#x27;: [42],\n                         &#x27;tol&#x27;: [0.0001, 0.001, 0.01]},\n             scoring=&#x27;neg_mean_squared_error&#x27;)</pre><b>In a Jupyter environment, please rerun this cell to show the HTML representation or trust the notebook. <br />On GitHub, the HTML representation is unable to render, please try loading this page with nbviewer.org.</b></div><div class=\"sk-container\" hidden><div class=\"sk-item sk-dashed-wrapped\"><div class=\"sk-label-container\"><div class=\"sk-label fitted sk-toggleable\"><input class=\"sk-toggleable__control sk-hidden--visually\" id=\"sk-estimator-id-2\" type=\"checkbox\" ><label for=\"sk-estimator-id-2\" class=\"sk-toggleable__label fitted sk-toggleable__label-arrow\"><div><div>GridSearchCV</div></div><div><span class=\"sk-estimator-doc-link fitted\">i<span>Fitted</span></span></div></label><div class=\"sk-toggleable__content fitted\"><pre>GridSearchCV(cv=3, estimator=Ridge(),\n             param_grid={&#x27;alpha&#x27;: array([1.00000000e-06, 5.99484250e-06, 3.59381366e-05, 2.15443469e-04,\n       1.29154967e-03, 7.74263683e-03, 4.64158883e-02, 2.78255940e-01,\n       1.66810054e+00, 1.00000000e+01]),\n                         &#x27;fit_intercept&#x27;: [True, False],\n                         &#x27;max_iter&#x27;: [1000, 5000, 10000], &#x27;random_state&#x27;: [42],\n                         &#x27;tol&#x27;: [0.0001, 0.001, 0.01]},\n             scoring=&#x27;neg_mean_squared_error&#x27;)</pre></div> </div></div><div class=\"sk-parallel\"><div class=\"sk-parallel-item\"><div class=\"sk-item\"><div class=\"sk-label-container\"><div class=\"sk-label fitted sk-toggleable\"><input class=\"sk-toggleable__control sk-hidden--visually\" id=\"sk-estimator-id-3\" type=\"checkbox\" ><label for=\"sk-estimator-id-3\" class=\"sk-toggleable__label fitted sk-toggleable__label-arrow\"><div><div>estimator: Ridge</div></div></label><div class=\"sk-toggleable__content fitted\"><pre>Ridge()</pre></div> </div></div><div class=\"sk-serial\"><div class=\"sk-item\"><div class=\"sk-estimator fitted sk-toggleable\"><input class=\"sk-toggleable__control sk-hidden--visually\" id=\"sk-estimator-id-4\" type=\"checkbox\" ><label for=\"sk-estimator-id-4\" class=\"sk-toggleable__label fitted sk-toggleable__label-arrow\"><div><div>Ridge</div></div><div><a class=\"sk-estimator-doc-link fitted\" rel=\"noreferrer\" target=\"_blank\" href=\"https://scikit-learn.org/1.6/modules/generated/sklearn.linear_model.Ridge.html\">?<span>Documentation for Ridge</span></a></div></label><div class=\"sk-toggleable__content fitted\"><pre>Ridge()</pre></div> </div></div></div></div></div></div></div></div></div>"
     },
     "execution_count": 52,
     "metadata": {},
     "output_type": "execute_result"
    }
   ],
   "source": [
    "search.fit(X_final, y_array)"
   ],
   "metadata": {
    "collapsed": false,
    "ExecuteTime": {
     "end_time": "2025-01-28T20:20:37.879683800Z",
     "start_time": "2025-01-28T20:07:32.800843300Z"
    }
   },
   "id": "150fd2dcec270236",
   "execution_count": 52
  },
  {
   "cell_type": "markdown",
   "source": [
    "## Najlepsze parametry"
   ],
   "metadata": {
    "collapsed": false
   },
   "id": "b89f792e15743de1"
  },
  {
   "cell_type": "code",
   "outputs": [
    {
     "data": {
      "text/plain": "{'alpha': np.float64(1e-06),\n 'fit_intercept': True,\n 'max_iter': 1000,\n 'random_state': 42,\n 'tol': 0.0001}"
     },
     "execution_count": 53,
     "metadata": {},
     "output_type": "execute_result"
    }
   ],
   "source": [
    "search.best_params_"
   ],
   "metadata": {
    "collapsed": false,
    "ExecuteTime": {
     "end_time": "2025-01-28T20:20:37.935315200Z",
     "start_time": "2025-01-28T20:20:37.797743300Z"
    }
   },
   "id": "4064bc056329d9f8",
   "execution_count": 53
  },
  {
   "cell_type": "markdown",
   "source": [
    "## Najlepszy model"
   ],
   "metadata": {
    "collapsed": false
   },
   "id": "c8acce75f77a5570"
  },
  {
   "cell_type": "code",
   "outputs": [],
   "source": [
    "best_model = search.best_estimator_"
   ],
   "metadata": {
    "collapsed": false
   },
   "id": "484352114c14a407",
   "execution_count": 54
  },
  {
   "cell_type": "markdown",
   "source": [
    "## Wynik dla najlepszego modelu"
   ],
   "metadata": {
    "collapsed": false
   },
   "id": "c5fa144157c55c69"
  },
  {
   "cell_type": "code",
   "outputs": [
    {
     "data": {
      "text/plain": "0.9971313610376796"
     },
     "execution_count": 55,
     "metadata": {},
     "output_type": "execute_result"
    }
   ],
   "source": [
    "accuracy = best_model.score(X_test, y_test)\n",
    "accuracy"
   ],
   "metadata": {
    "collapsed": false,
    "ExecuteTime": {
     "end_time": "2025-01-28T20:21:47.278436300Z",
     "start_time": "2025-01-28T20:20:37.827560Z"
    }
   },
   "id": "2c0d74db5b19cbb4",
   "execution_count": 55
  },
  {
   "cell_type": "code",
   "outputs": [],
   "source": [
    "serialize_model(model_output_path, model, model_name+\"_best\")"
   ],
   "metadata": {
    "collapsed": false,
    "ExecuteTime": {
     "end_time": "2025-01-28T20:21:47.289912700Z",
     "start_time": "2025-01-28T20:21:47.277436600Z"
    }
   },
   "id": "ae4d9319a78e1dee",
   "execution_count": 56
  },
  {
   "cell_type": "code",
   "source": [
    "client.close()"
   ],
   "metadata": {
    "collapsed": false,
    "jupyter": {
     "is_executing": true
    },
    "ExecuteTime": {
     "end_time": "2025-01-28T20:21:49.763287Z",
     "start_time": "2025-01-28T20:21:47.291912700Z"
    }
   },
   "id": "80d8a56f7b8c38ae",
   "outputs": [],
   "execution_count": 57
  },
  {
   "cell_type": "code",
   "outputs": [],
   "source": [],
   "metadata": {
    "collapsed": false,
    "ExecuteTime": {
     "end_time": "2025-01-28T20:21:49.768086100Z",
     "start_time": "2025-01-28T20:21:49.763567100Z"
    }
   },
   "id": "86944fa9696ba68a",
   "execution_count": 57
  }
 ],
 "metadata": {
  "kernelspec": {
   "display_name": "Python 3 (ipykernel)",
   "language": "python",
   "name": "python3"
  },
  "language_info": {
   "codemirror_mode": {
    "name": "ipython",
    "version": 3
   },
   "file_extension": ".py",
   "mimetype": "text/x-python",
   "name": "python",
   "nbconvert_exporter": "python",
   "pygments_lexer": "ipython3",
   "version": "3.11.0"
  }
 },
 "nbformat": 4,
 "nbformat_minor": 5
}
