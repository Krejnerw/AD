{
 "cells": [
  {
   "cell_type": "markdown",
   "source": [
    "# Zadanie 1\n",
    "- Wczytaj plik `zamowienia.csv` do ramki pandas, \n",
    "a następnie w kilku miejscach (ale nie w pierwszych 10 wierszach) wstaw wartość NaN, aby zasymulować wartości brakujące. \n",
    "- Zapisz ramkę do pliku `zamowienia_missing.csv`. \n",
    "- Wczytaj teraz plik do ramki Dask i sprawdź jakie typy danych zostały przydzielone. \n",
    "    - Czy zgadzają się z typami z oryginalnego pliku? \n",
    "- Wykonaj dowolne obliczenia na całej ramce Dask, aby wymusić wywołanie `.compute()`. \n",
    "    - Czy pojawił się błąd dotyczący niespójności typów danych? \n",
    "- Spróbuj uruchomić kilka razy funkcję wczytywania danych do ramki Dask dataframe z różnymi wartościami parametru `samples`. \n",
    "Dokumentacja `dask.dataframe.read_csv()`: https://docs.dask.org/en/stable/generated/dask.dataframe.read_csv.html"
   ],
   "metadata": {
    "collapsed": false
   },
   "id": "9ba99885586b4448"
  },
  {
   "cell_type": "code",
   "outputs": [
    {
     "data": {
      "text/plain": "Kraj                object\nSprzedawca          object\nData zamowienia     object\nidZamowienia         int64\nUtarg              float64\ndtype: object"
     },
     "execution_count": 1,
     "metadata": {},
     "output_type": "execute_result"
    }
   ],
   "source": [
    "import random\n",
    "import numpy as np\n",
    "import pandas as pd\n",
    "import os\n",
    "\n",
    "df = pd.read_csv(os.path.join(\"..\", \"L1\", \"zamowienia.csv\"), delimiter=';')\n",
    "df.dtypes"
   ],
   "metadata": {
    "collapsed": false,
    "ExecuteTime": {
     "end_time": "2024-10-15T18:11:23.358182600Z",
     "start_time": "2024-10-15T18:11:22.884759200Z"
    }
   },
   "id": "fbcb7a9842a3ecf",
   "execution_count": 1
  },
  {
   "cell_type": "code",
   "outputs": [
    {
     "data": {
      "text/plain": "       Kraj Sprzedawca Data zamowienia  idZamowienia    Utarg\n0    Polska   Kowalski      2003-07-16       10248.0   440.00\n1    Polska   Sowiński      2003-07-10       10249.0  1863.40\n2    Niemcy    Peacock      2003-07-12       10250.0  1552.60\n3    Niemcy  Leverling      2003-07-15       10251.0   654.06\n4    Niemcy    Peacock      2003-07-11       10252.0  3597.90\n..      ...        ...             ...           ...      ...\n794  Polska       King      2005-04-30       11048.0   525.00\n795  Niemcy  Leverling      2005-05-01       11052.0  1332.00\n796  Niemcy     Fuller      2005-04-29       11053.0  3055.00\n797  Niemcy   Callahan      2005-05-01       11056.0  3740.00\n798  Niemcy  Leverling      2005-05-01       11057.0    45.00\n\n[799 rows x 5 columns]",
      "text/html": "<div>\n<style scoped>\n    .dataframe tbody tr th:only-of-type {\n        vertical-align: middle;\n    }\n\n    .dataframe tbody tr th {\n        vertical-align: top;\n    }\n\n    .dataframe thead th {\n        text-align: right;\n    }\n</style>\n<table border=\"1\" class=\"dataframe\">\n  <thead>\n    <tr style=\"text-align: right;\">\n      <th></th>\n      <th>Kraj</th>\n      <th>Sprzedawca</th>\n      <th>Data zamowienia</th>\n      <th>idZamowienia</th>\n      <th>Utarg</th>\n    </tr>\n  </thead>\n  <tbody>\n    <tr>\n      <th>0</th>\n      <td>Polska</td>\n      <td>Kowalski</td>\n      <td>2003-07-16</td>\n      <td>10248.0</td>\n      <td>440.00</td>\n    </tr>\n    <tr>\n      <th>1</th>\n      <td>Polska</td>\n      <td>Sowiński</td>\n      <td>2003-07-10</td>\n      <td>10249.0</td>\n      <td>1863.40</td>\n    </tr>\n    <tr>\n      <th>2</th>\n      <td>Niemcy</td>\n      <td>Peacock</td>\n      <td>2003-07-12</td>\n      <td>10250.0</td>\n      <td>1552.60</td>\n    </tr>\n    <tr>\n      <th>3</th>\n      <td>Niemcy</td>\n      <td>Leverling</td>\n      <td>2003-07-15</td>\n      <td>10251.0</td>\n      <td>654.06</td>\n    </tr>\n    <tr>\n      <th>4</th>\n      <td>Niemcy</td>\n      <td>Peacock</td>\n      <td>2003-07-11</td>\n      <td>10252.0</td>\n      <td>3597.90</td>\n    </tr>\n    <tr>\n      <th>...</th>\n      <td>...</td>\n      <td>...</td>\n      <td>...</td>\n      <td>...</td>\n      <td>...</td>\n    </tr>\n    <tr>\n      <th>794</th>\n      <td>Polska</td>\n      <td>King</td>\n      <td>2005-04-30</td>\n      <td>11048.0</td>\n      <td>525.00</td>\n    </tr>\n    <tr>\n      <th>795</th>\n      <td>Niemcy</td>\n      <td>Leverling</td>\n      <td>2005-05-01</td>\n      <td>11052.0</td>\n      <td>1332.00</td>\n    </tr>\n    <tr>\n      <th>796</th>\n      <td>Niemcy</td>\n      <td>Fuller</td>\n      <td>2005-04-29</td>\n      <td>11053.0</td>\n      <td>3055.00</td>\n    </tr>\n    <tr>\n      <th>797</th>\n      <td>Niemcy</td>\n      <td>Callahan</td>\n      <td>2005-05-01</td>\n      <td>11056.0</td>\n      <td>3740.00</td>\n    </tr>\n    <tr>\n      <th>798</th>\n      <td>Niemcy</td>\n      <td>Leverling</td>\n      <td>2005-05-01</td>\n      <td>11057.0</td>\n      <td>45.00</td>\n    </tr>\n  </tbody>\n</table>\n<p>799 rows × 5 columns</p>\n</div>"
     },
     "execution_count": 2,
     "metadata": {},
     "output_type": "execute_result"
    }
   ],
   "source": [
    "columns = df.columns.values.tolist()\n",
    "max_rows = df.shape[0]\n",
    "for i in range(10):\n",
    "    df.loc[random.randint(0, max_rows), random.choice(columns)] = np.nan\n",
    "df"
   ],
   "metadata": {
    "collapsed": false,
    "ExecuteTime": {
     "end_time": "2024-10-15T18:11:23.374185Z",
     "start_time": "2024-10-15T18:11:23.353682100Z"
    }
   },
   "id": "7a11f2f309afdd74",
   "execution_count": 2
  },
  {
   "cell_type": "code",
   "outputs": [],
   "source": [
    "df.to_csv(\"zamowienia_missing.csv\", header=True, index=False)"
   ],
   "metadata": {
    "collapsed": false,
    "ExecuteTime": {
     "end_time": "2024-10-15T18:11:23.387182600Z",
     "start_time": "2024-10-15T18:11:23.369182900Z"
    }
   },
   "id": "af7e570cf41ac24c",
   "execution_count": 3
  },
  {
   "cell_type": "code",
   "outputs": [
    {
     "data": {
      "text/plain": "Dask DataFrame Structure:\n                 Kraj Sprzedawca Data zamowienia idZamowienia    Utarg\nnpartitions=1                                                         \n               string     string          string      float64  float64\n                  ...        ...             ...          ...      ...\nDask Name: read_csv, 1 expression\nExpr=ReadCSV(aa4636e)",
      "text/html": "<div><strong>Dask DataFrame Structure:</strong></div>\n<table border=\"1\" class=\"dataframe\">\n  <thead>\n    <tr style=\"text-align: right;\">\n      <th></th>\n      <th>Kraj</th>\n      <th>Sprzedawca</th>\n      <th>Data zamowienia</th>\n      <th>idZamowienia</th>\n      <th>Utarg</th>\n    </tr>\n    <tr>\n      <th>npartitions=1</th>\n      <th></th>\n      <th></th>\n      <th></th>\n      <th></th>\n      <th></th>\n    </tr>\n  </thead>\n  <tbody>\n    <tr>\n      <th></th>\n      <td>string</td>\n      <td>string</td>\n      <td>string</td>\n      <td>float64</td>\n      <td>float64</td>\n    </tr>\n    <tr>\n      <th></th>\n      <td>...</td>\n      <td>...</td>\n      <td>...</td>\n      <td>...</td>\n      <td>...</td>\n    </tr>\n  </tbody>\n</table>\n<div>Dask Name: read_csv, 1 expression</div>"
     },
     "execution_count": 4,
     "metadata": {},
     "output_type": "execute_result"
    }
   ],
   "source": [
    "from dask.dataframe import dd\n",
    "\n",
    "ddf = dd.read_csv(os.path.join(\"zamowienia_missing.csv\"))\n",
    "ddf"
   ],
   "metadata": {
    "collapsed": false,
    "ExecuteTime": {
     "end_time": "2024-10-15T18:11:24.110648700Z",
     "start_time": "2024-10-15T18:11:23.378184300Z"
    }
   },
   "id": "cb2eb89fcfbb8c66",
   "execution_count": 4
  },
  {
   "cell_type": "code",
   "outputs": [
    {
     "data": {
      "text/plain": "Kraj               string[pyarrow]\nSprzedawca         string[pyarrow]\nData zamowienia    string[pyarrow]\nidZamowienia               float64\nUtarg                      float64\ndtype: object"
     },
     "execution_count": 5,
     "metadata": {},
     "output_type": "execute_result"
    }
   ],
   "source": [
    "ddf.dtypes"
   ],
   "metadata": {
    "collapsed": false,
    "ExecuteTime": {
     "end_time": "2024-10-15T18:11:24.112145300Z",
     "start_time": "2024-10-15T18:11:24.106645100Z"
    }
   },
   "id": "1e5806e12c05e86a",
   "execution_count": 5
  },
  {
   "cell_type": "markdown",
   "source": [
    "inne typy"
   ],
   "metadata": {
    "collapsed": false
   },
   "id": "2c1a8af73e7e1bc3"
  },
  {
   "cell_type": "code",
   "outputs": [
    {
     "data": {
      "text/plain": "     Kraj Sprzedawca Data zamowienia  idZamowienia    Utarg\n0  Polska   Kowalski      2003-07-16       10248.0   440.00\n1  Polska   Sowiński      2003-07-10       10249.0  1863.40\n2  Niemcy    Peacock      2003-07-12       10250.0  1552.60\n3  Niemcy  Leverling      2003-07-15       10251.0   654.06\n4  Niemcy    Peacock      2003-07-11       10252.0  3597.90",
      "text/html": "<div>\n<style scoped>\n    .dataframe tbody tr th:only-of-type {\n        vertical-align: middle;\n    }\n\n    .dataframe tbody tr th {\n        vertical-align: top;\n    }\n\n    .dataframe thead th {\n        text-align: right;\n    }\n</style>\n<table border=\"1\" class=\"dataframe\">\n  <thead>\n    <tr style=\"text-align: right;\">\n      <th></th>\n      <th>Kraj</th>\n      <th>Sprzedawca</th>\n      <th>Data zamowienia</th>\n      <th>idZamowienia</th>\n      <th>Utarg</th>\n    </tr>\n  </thead>\n  <tbody>\n    <tr>\n      <th>0</th>\n      <td>Polska</td>\n      <td>Kowalski</td>\n      <td>2003-07-16</td>\n      <td>10248.0</td>\n      <td>440.00</td>\n    </tr>\n    <tr>\n      <th>1</th>\n      <td>Polska</td>\n      <td>Sowiński</td>\n      <td>2003-07-10</td>\n      <td>10249.0</td>\n      <td>1863.40</td>\n    </tr>\n    <tr>\n      <th>2</th>\n      <td>Niemcy</td>\n      <td>Peacock</td>\n      <td>2003-07-12</td>\n      <td>10250.0</td>\n      <td>1552.60</td>\n    </tr>\n    <tr>\n      <th>3</th>\n      <td>Niemcy</td>\n      <td>Leverling</td>\n      <td>2003-07-15</td>\n      <td>10251.0</td>\n      <td>654.06</td>\n    </tr>\n    <tr>\n      <th>4</th>\n      <td>Niemcy</td>\n      <td>Peacock</td>\n      <td>2003-07-11</td>\n      <td>10252.0</td>\n      <td>3597.90</td>\n    </tr>\n  </tbody>\n</table>\n</div>"
     },
     "execution_count": 6,
     "metadata": {},
     "output_type": "execute_result"
    }
   ],
   "source": [
    "ddf.head()"
   ],
   "metadata": {
    "collapsed": false,
    "ExecuteTime": {
     "end_time": "2024-10-15T18:11:24.370643600Z",
     "start_time": "2024-10-15T18:11:24.112145300Z"
    }
   },
   "id": "707fecba03d49057",
   "execution_count": 6
  },
  {
   "cell_type": "code",
   "outputs": [
    {
     "data": {
      "text/plain": "Index                132\nKraj               43922\nSprzedawca         46402\nData zamowienia    47060\nidZamowienia        6392\nUtarg               6392\ndtype: int64"
     },
     "execution_count": 7,
     "metadata": {},
     "output_type": "execute_result"
    }
   ],
   "source": [
    "ddf.memory_usage(deep=True).compute()"
   ],
   "metadata": {
    "collapsed": false,
    "ExecuteTime": {
     "end_time": "2024-10-15T18:11:24.390143500Z",
     "start_time": "2024-10-15T18:11:24.366141700Z"
    }
   },
   "id": "295d1ebe2eefd3a8",
   "execution_count": 7
  },
  {
   "cell_type": "code",
   "outputs": [
    {
     "data": {
      "text/plain": "Kraj\nNiemcy    894756.09\nPolska    332702.51\nName: Utarg, dtype: float64"
     },
     "execution_count": 8,
     "metadata": {},
     "output_type": "execute_result"
    }
   ],
   "source": [
    "utarg_sum = ddf.groupby(['Kraj']).Utarg.sum()\n",
    "utarg_sum.compute()"
   ],
   "metadata": {
    "collapsed": false,
    "ExecuteTime": {
     "end_time": "2024-10-15T18:11:24.433642600Z",
     "start_time": "2024-10-15T18:11:24.385641800Z"
    }
   },
   "id": "613a52f827684998",
   "execution_count": 8
  },
  {
   "cell_type": "markdown",
   "source": [
    "brak błędu o niezgodności typów"
   ],
   "metadata": {
    "collapsed": false
   },
   "id": "3e1dcc76a0f72c77"
  },
  {
   "cell_type": "code",
   "outputs": [
    {
     "data": {
      "text/plain": "Dask DataFrame Structure:\n                 Kraj Sprzedawca Data zamowienia idZamowienia    Utarg\nnpartitions=1                                                         \n               string     string          string      float64  float64\n                  ...        ...             ...          ...      ...\nDask Name: read_csv, 1 expression\nExpr=ReadCSV(d9899ad)",
      "text/html": "<div><strong>Dask DataFrame Structure:</strong></div>\n<table border=\"1\" class=\"dataframe\">\n  <thead>\n    <tr style=\"text-align: right;\">\n      <th></th>\n      <th>Kraj</th>\n      <th>Sprzedawca</th>\n      <th>Data zamowienia</th>\n      <th>idZamowienia</th>\n      <th>Utarg</th>\n    </tr>\n    <tr>\n      <th>npartitions=1</th>\n      <th></th>\n      <th></th>\n      <th></th>\n      <th></th>\n      <th></th>\n    </tr>\n  </thead>\n  <tbody>\n    <tr>\n      <th></th>\n      <td>string</td>\n      <td>string</td>\n      <td>string</td>\n      <td>float64</td>\n      <td>float64</td>\n    </tr>\n    <tr>\n      <th></th>\n      <td>...</td>\n      <td>...</td>\n      <td>...</td>\n      <td>...</td>\n      <td>...</td>\n    </tr>\n  </tbody>\n</table>\n<div>Dask Name: read_csv, 1 expression</div>"
     },
     "execution_count": 9,
     "metadata": {},
     "output_type": "execute_result"
    }
   ],
   "source": [
    "ddf = dd.read_csv(os.path.join(\"zamowienia_missing.csv\"), sample=256000)\n",
    "ddf"
   ],
   "metadata": {
    "collapsed": false,
    "ExecuteTime": {
     "end_time": "2024-10-15T18:11:24.484140200Z",
     "start_time": "2024-10-15T18:11:24.417646400Z"
    }
   },
   "id": "4e3941d0dd4f99e",
   "execution_count": 9
  },
  {
   "cell_type": "code",
   "outputs": [
    {
     "data": {
      "text/plain": "     Kraj Sprzedawca Data zamowienia  idZamowienia    Utarg\n0  Polska   Kowalski      2003-07-16       10248.0   440.00\n1  Polska   Sowiński      2003-07-10       10249.0  1863.40\n2  Niemcy    Peacock      2003-07-12       10250.0  1552.60\n3  Niemcy  Leverling      2003-07-15       10251.0   654.06\n4  Niemcy    Peacock      2003-07-11       10252.0  3597.90",
      "text/html": "<div>\n<style scoped>\n    .dataframe tbody tr th:only-of-type {\n        vertical-align: middle;\n    }\n\n    .dataframe tbody tr th {\n        vertical-align: top;\n    }\n\n    .dataframe thead th {\n        text-align: right;\n    }\n</style>\n<table border=\"1\" class=\"dataframe\">\n  <thead>\n    <tr style=\"text-align: right;\">\n      <th></th>\n      <th>Kraj</th>\n      <th>Sprzedawca</th>\n      <th>Data zamowienia</th>\n      <th>idZamowienia</th>\n      <th>Utarg</th>\n    </tr>\n  </thead>\n  <tbody>\n    <tr>\n      <th>0</th>\n      <td>Polska</td>\n      <td>Kowalski</td>\n      <td>2003-07-16</td>\n      <td>10248.0</td>\n      <td>440.00</td>\n    </tr>\n    <tr>\n      <th>1</th>\n      <td>Polska</td>\n      <td>Sowiński</td>\n      <td>2003-07-10</td>\n      <td>10249.0</td>\n      <td>1863.40</td>\n    </tr>\n    <tr>\n      <th>2</th>\n      <td>Niemcy</td>\n      <td>Peacock</td>\n      <td>2003-07-12</td>\n      <td>10250.0</td>\n      <td>1552.60</td>\n    </tr>\n    <tr>\n      <th>3</th>\n      <td>Niemcy</td>\n      <td>Leverling</td>\n      <td>2003-07-15</td>\n      <td>10251.0</td>\n      <td>654.06</td>\n    </tr>\n    <tr>\n      <th>4</th>\n      <td>Niemcy</td>\n      <td>Peacock</td>\n      <td>2003-07-11</td>\n      <td>10252.0</td>\n      <td>3597.90</td>\n    </tr>\n  </tbody>\n</table>\n</div>"
     },
     "execution_count": 10,
     "metadata": {},
     "output_type": "execute_result"
    }
   ],
   "source": [
    "ddf = dd.read_csv(os.path.join(\"zamowienia_missing.csv\"), sample=100)\n",
    "ddf.head()"
   ],
   "metadata": {
    "collapsed": false,
    "ExecuteTime": {
     "end_time": "2024-10-15T18:11:24.531735800Z",
     "start_time": "2024-10-15T18:11:24.435141300Z"
    }
   },
   "id": "f80d73fe77eed9b1",
   "execution_count": 10
  },
  {
   "cell_type": "code",
   "outputs": [
    {
     "data": {
      "text/plain": "     Kraj Sprzedawca Data zamowienia  idZamowienia    Utarg\n0  Polska   Kowalski      2003-07-16       10248.0   440.00\n1  Polska   Sowiński      2003-07-10       10249.0  1863.40\n2  Niemcy    Peacock      2003-07-12       10250.0  1552.60\n3  Niemcy  Leverling      2003-07-15       10251.0   654.06\n4  Niemcy    Peacock      2003-07-11       10252.0  3597.90",
      "text/html": "<div>\n<style scoped>\n    .dataframe tbody tr th:only-of-type {\n        vertical-align: middle;\n    }\n\n    .dataframe tbody tr th {\n        vertical-align: top;\n    }\n\n    .dataframe thead th {\n        text-align: right;\n    }\n</style>\n<table border=\"1\" class=\"dataframe\">\n  <thead>\n    <tr style=\"text-align: right;\">\n      <th></th>\n      <th>Kraj</th>\n      <th>Sprzedawca</th>\n      <th>Data zamowienia</th>\n      <th>idZamowienia</th>\n      <th>Utarg</th>\n    </tr>\n  </thead>\n  <tbody>\n    <tr>\n      <th>0</th>\n      <td>Polska</td>\n      <td>Kowalski</td>\n      <td>2003-07-16</td>\n      <td>10248.0</td>\n      <td>440.00</td>\n    </tr>\n    <tr>\n      <th>1</th>\n      <td>Polska</td>\n      <td>Sowiński</td>\n      <td>2003-07-10</td>\n      <td>10249.0</td>\n      <td>1863.40</td>\n    </tr>\n    <tr>\n      <th>2</th>\n      <td>Niemcy</td>\n      <td>Peacock</td>\n      <td>2003-07-12</td>\n      <td>10250.0</td>\n      <td>1552.60</td>\n    </tr>\n    <tr>\n      <th>3</th>\n      <td>Niemcy</td>\n      <td>Leverling</td>\n      <td>2003-07-15</td>\n      <td>10251.0</td>\n      <td>654.06</td>\n    </tr>\n    <tr>\n      <th>4</th>\n      <td>Niemcy</td>\n      <td>Peacock</td>\n      <td>2003-07-11</td>\n      <td>10252.0</td>\n      <td>3597.90</td>\n    </tr>\n  </tbody>\n</table>\n</div>"
     },
     "execution_count": 11,
     "metadata": {},
     "output_type": "execute_result"
    }
   ],
   "source": [
    "ddf = dd.read_csv(os.path.join(\"zamowienia_missing.csv\"), sample=25000)\n",
    "ddf.head()"
   ],
   "metadata": {
    "collapsed": false,
    "ExecuteTime": {
     "end_time": "2024-10-15T18:11:24.535142300Z",
     "start_time": "2024-10-15T18:11:24.460141500Z"
    }
   },
   "id": "5f1de80b426f6cb6",
   "execution_count": 11
  },
  {
   "cell_type": "markdown",
   "source": [
    "# Zadanie 2  \n",
    "Ze strony https://docs.dask.org/en/stable/dashboard.html skonfiguruj plugin Dask dashboard dla Jupyter Lab i przetestuj jego działanie."
   ],
   "metadata": {
    "collapsed": false
   },
   "id": "80b74e9066f5c11c"
  },
  {
   "cell_type": "markdown",
   "source": [
    "# Zadanie 3\n",
    "- Skonfiguruj lokalny klaster (`Client`) tak, aby nie zaalokował wszystkich zasobów (np. zostaw 8 GB RAM dla systemu hosta + 2 rdzenie). \n",
    "- Pobierz dane udostępnione na poprzednich zajęciach (https://huggingface.co/datasets/vargr/private_instagram/tree/refs%2Fconvert%2Fparquet/default/train)\n",
    "- załaduj do ramki Dask tyle części ile zdołasz w formie bez optymalizacji. \n",
    "- Zmierz czas tej operacji. "
   ],
   "metadata": {
    "collapsed": false
   },
   "id": "6c20983961e8b39d"
  },
  {
   "cell_type": "code",
   "outputs": [
    {
     "data": {
      "text/plain": "<Client: 'tcp://127.0.0.1:57144' processes=4 threads=12, memory=29.80 GiB>",
      "text/html": "<div>\n    <div style=\"width: 24px; height: 24px; background-color: #e1e1e1; border: 3px solid #9D9D9D; border-radius: 5px; position: absolute;\"> </div>\n    <div style=\"margin-left: 48px;\">\n        <h3 style=\"margin-bottom: 0px;\">Client</h3>\n        <p style=\"color: #9D9D9D; margin-bottom: 0px;\">Client-e505391a-8b20-11ef-8b64-088fc30cd710</p>\n        <table style=\"width: 100%; text-align: left;\">\n\n        <tr>\n        \n            <td style=\"text-align: left;\"><strong>Connection method:</strong> Cluster object</td>\n            <td style=\"text-align: left;\"><strong>Cluster type:</strong> distributed.LocalCluster</td>\n        \n        </tr>\n\n        \n            <tr>\n                <td style=\"text-align: left;\">\n                    <strong>Dashboard: </strong> <a href=\"http://127.0.0.1:8787/status\" target=\"_blank\">http://127.0.0.1:8787/status</a>\n                </td>\n                <td style=\"text-align: left;\"></td>\n            </tr>\n        \n\n        </table>\n\n        \n            <button style=\"margin-bottom: 12px;\" data-commandlinker-command=\"dask:populate-and-launch-layout\" data-commandlinker-args='{\"url\": \"http://127.0.0.1:8787/status\" }'>\n                Launch dashboard in JupyterLab\n            </button>\n        \n\n        \n            <details>\n            <summary style=\"margin-bottom: 20px;\"><h3 style=\"display: inline;\">Cluster Info</h3></summary>\n            <div class=\"jp-RenderedHTMLCommon jp-RenderedHTML jp-mod-trusted jp-OutputArea-output\">\n    <div style=\"width: 24px; height: 24px; background-color: #e1e1e1; border: 3px solid #9D9D9D; border-radius: 5px; position: absolute;\">\n    </div>\n    <div style=\"margin-left: 48px;\">\n        <h3 style=\"margin-bottom: 0px; margin-top: 0px;\">LocalCluster</h3>\n        <p style=\"color: #9D9D9D; margin-bottom: 0px;\">de69139d</p>\n        <table style=\"width: 100%; text-align: left;\">\n            <tr>\n                <td style=\"text-align: left;\">\n                    <strong>Dashboard:</strong> <a href=\"http://127.0.0.1:8787/status\" target=\"_blank\">http://127.0.0.1:8787/status</a>\n                </td>\n                <td style=\"text-align: left;\">\n                    <strong>Workers:</strong> 4\n                </td>\n            </tr>\n            <tr>\n                <td style=\"text-align: left;\">\n                    <strong>Total threads:</strong> 12\n                </td>\n                <td style=\"text-align: left;\">\n                    <strong>Total memory:</strong> 29.80 GiB\n                </td>\n            </tr>\n            \n            <tr>\n    <td style=\"text-align: left;\"><strong>Status:</strong> running</td>\n    <td style=\"text-align: left;\"><strong>Using processes:</strong> True</td>\n</tr>\n\n            \n        </table>\n\n        <details>\n            <summary style=\"margin-bottom: 20px;\">\n                <h3 style=\"display: inline;\">Scheduler Info</h3>\n            </summary>\n\n            <div style=\"\">\n    <div>\n        <div style=\"width: 24px; height: 24px; background-color: #FFF7E5; border: 3px solid #FF6132; border-radius: 5px; position: absolute;\"> </div>\n        <div style=\"margin-left: 48px;\">\n            <h3 style=\"margin-bottom: 0px;\">Scheduler</h3>\n            <p style=\"color: #9D9D9D; margin-bottom: 0px;\">Scheduler-09bc8d49-66c0-4c67-ac77-bcd5df153add</p>\n            <table style=\"width: 100%; text-align: left;\">\n                <tr>\n                    <td style=\"text-align: left;\">\n                        <strong>Comm:</strong> tcp://127.0.0.1:57144\n                    </td>\n                    <td style=\"text-align: left;\">\n                        <strong>Workers:</strong> 4\n                    </td>\n                </tr>\n                <tr>\n                    <td style=\"text-align: left;\">\n                        <strong>Dashboard:</strong> <a href=\"http://127.0.0.1:8787/status\" target=\"_blank\">http://127.0.0.1:8787/status</a>\n                    </td>\n                    <td style=\"text-align: left;\">\n                        <strong>Total threads:</strong> 12\n                    </td>\n                </tr>\n                <tr>\n                    <td style=\"text-align: left;\">\n                        <strong>Started:</strong> Just now\n                    </td>\n                    <td style=\"text-align: left;\">\n                        <strong>Total memory:</strong> 29.80 GiB\n                    </td>\n                </tr>\n            </table>\n        </div>\n    </div>\n\n    <details style=\"margin-left: 48px;\">\n        <summary style=\"margin-bottom: 20px;\">\n            <h3 style=\"display: inline;\">Workers</h3>\n        </summary>\n\n        \n        <div style=\"margin-bottom: 20px;\">\n            <div style=\"width: 24px; height: 24px; background-color: #DBF5FF; border: 3px solid #4CC9FF; border-radius: 5px; position: absolute;\"> </div>\n            <div style=\"margin-left: 48px;\">\n            <details>\n                <summary>\n                    <h4 style=\"margin-bottom: 0px; display: inline;\">Worker: 0</h4>\n                </summary>\n                <table style=\"width: 100%; text-align: left;\">\n                    <tr>\n                        <td style=\"text-align: left;\">\n                            <strong>Comm: </strong> tcp://127.0.0.1:57166\n                        </td>\n                        <td style=\"text-align: left;\">\n                            <strong>Total threads: </strong> 3\n                        </td>\n                    </tr>\n                    <tr>\n                        <td style=\"text-align: left;\">\n                            <strong>Dashboard: </strong> <a href=\"http://127.0.0.1:57169/status\" target=\"_blank\">http://127.0.0.1:57169/status</a>\n                        </td>\n                        <td style=\"text-align: left;\">\n                            <strong>Memory: </strong> 7.45 GiB\n                        </td>\n                    </tr>\n                    <tr>\n                        <td style=\"text-align: left;\">\n                            <strong>Nanny: </strong> tcp://127.0.0.1:57147\n                        </td>\n                        <td style=\"text-align: left;\"></td>\n                    </tr>\n                    <tr>\n                        <td colspan=\"2\" style=\"text-align: left;\">\n                            <strong>Local directory: </strong> C:\\Users\\weron\\AppData\\Local\\Temp\\dask-scratch-space\\worker-s473xnzg\n                        </td>\n                    </tr>\n\n                    \n\n                    \n\n                </table>\n            </details>\n            </div>\n        </div>\n        \n        <div style=\"margin-bottom: 20px;\">\n            <div style=\"width: 24px; height: 24px; background-color: #DBF5FF; border: 3px solid #4CC9FF; border-radius: 5px; position: absolute;\"> </div>\n            <div style=\"margin-left: 48px;\">\n            <details>\n                <summary>\n                    <h4 style=\"margin-bottom: 0px; display: inline;\">Worker: 1</h4>\n                </summary>\n                <table style=\"width: 100%; text-align: left;\">\n                    <tr>\n                        <td style=\"text-align: left;\">\n                            <strong>Comm: </strong> tcp://127.0.0.1:57163\n                        </td>\n                        <td style=\"text-align: left;\">\n                            <strong>Total threads: </strong> 3\n                        </td>\n                    </tr>\n                    <tr>\n                        <td style=\"text-align: left;\">\n                            <strong>Dashboard: </strong> <a href=\"http://127.0.0.1:57167/status\" target=\"_blank\">http://127.0.0.1:57167/status</a>\n                        </td>\n                        <td style=\"text-align: left;\">\n                            <strong>Memory: </strong> 7.45 GiB\n                        </td>\n                    </tr>\n                    <tr>\n                        <td style=\"text-align: left;\">\n                            <strong>Nanny: </strong> tcp://127.0.0.1:57149\n                        </td>\n                        <td style=\"text-align: left;\"></td>\n                    </tr>\n                    <tr>\n                        <td colspan=\"2\" style=\"text-align: left;\">\n                            <strong>Local directory: </strong> C:\\Users\\weron\\AppData\\Local\\Temp\\dask-scratch-space\\worker-54gxog1g\n                        </td>\n                    </tr>\n\n                    \n\n                    \n\n                </table>\n            </details>\n            </div>\n        </div>\n        \n        <div style=\"margin-bottom: 20px;\">\n            <div style=\"width: 24px; height: 24px; background-color: #DBF5FF; border: 3px solid #4CC9FF; border-radius: 5px; position: absolute;\"> </div>\n            <div style=\"margin-left: 48px;\">\n            <details>\n                <summary>\n                    <h4 style=\"margin-bottom: 0px; display: inline;\">Worker: 2</h4>\n                </summary>\n                <table style=\"width: 100%; text-align: left;\">\n                    <tr>\n                        <td style=\"text-align: left;\">\n                            <strong>Comm: </strong> tcp://127.0.0.1:57165\n                        </td>\n                        <td style=\"text-align: left;\">\n                            <strong>Total threads: </strong> 3\n                        </td>\n                    </tr>\n                    <tr>\n                        <td style=\"text-align: left;\">\n                            <strong>Dashboard: </strong> <a href=\"http://127.0.0.1:57170/status\" target=\"_blank\">http://127.0.0.1:57170/status</a>\n                        </td>\n                        <td style=\"text-align: left;\">\n                            <strong>Memory: </strong> 7.45 GiB\n                        </td>\n                    </tr>\n                    <tr>\n                        <td style=\"text-align: left;\">\n                            <strong>Nanny: </strong> tcp://127.0.0.1:57151\n                        </td>\n                        <td style=\"text-align: left;\"></td>\n                    </tr>\n                    <tr>\n                        <td colspan=\"2\" style=\"text-align: left;\">\n                            <strong>Local directory: </strong> C:\\Users\\weron\\AppData\\Local\\Temp\\dask-scratch-space\\worker-57hyzkvc\n                        </td>\n                    </tr>\n\n                    \n\n                    \n\n                </table>\n            </details>\n            </div>\n        </div>\n        \n        <div style=\"margin-bottom: 20px;\">\n            <div style=\"width: 24px; height: 24px; background-color: #DBF5FF; border: 3px solid #4CC9FF; border-radius: 5px; position: absolute;\"> </div>\n            <div style=\"margin-left: 48px;\">\n            <details>\n                <summary>\n                    <h4 style=\"margin-bottom: 0px; display: inline;\">Worker: 3</h4>\n                </summary>\n                <table style=\"width: 100%; text-align: left;\">\n                    <tr>\n                        <td style=\"text-align: left;\">\n                            <strong>Comm: </strong> tcp://127.0.0.1:57164\n                        </td>\n                        <td style=\"text-align: left;\">\n                            <strong>Total threads: </strong> 3\n                        </td>\n                    </tr>\n                    <tr>\n                        <td style=\"text-align: left;\">\n                            <strong>Dashboard: </strong> <a href=\"http://127.0.0.1:57171/status\" target=\"_blank\">http://127.0.0.1:57171/status</a>\n                        </td>\n                        <td style=\"text-align: left;\">\n                            <strong>Memory: </strong> 7.45 GiB\n                        </td>\n                    </tr>\n                    <tr>\n                        <td style=\"text-align: left;\">\n                            <strong>Nanny: </strong> tcp://127.0.0.1:57153\n                        </td>\n                        <td style=\"text-align: left;\"></td>\n                    </tr>\n                    <tr>\n                        <td colspan=\"2\" style=\"text-align: left;\">\n                            <strong>Local directory: </strong> C:\\Users\\weron\\AppData\\Local\\Temp\\dask-scratch-space\\worker-fk2po0r2\n                        </td>\n                    </tr>\n\n                    \n\n                    \n\n                </table>\n            </details>\n            </div>\n        </div>\n        \n\n    </details>\n</div>\n\n        </details>\n    </div>\n</div>\n            </details>\n        \n\n    </div>\n</div>"
     },
     "execution_count": 12,
     "metadata": {},
     "output_type": "execute_result"
    }
   ],
   "source": [
    "from dask.distributed import Client, LocalCluster\n",
    "\n",
    "cluster = LocalCluster(\n",
    "    n_workers=4,\n",
    "    memory_limit='8GB'\n",
    ")\n",
    "\n",
    "client = Client(cluster)\n",
    "client"
   ],
   "metadata": {
    "collapsed": false,
    "ExecuteTime": {
     "end_time": "2024-10-15T18:11:26.971175900Z",
     "start_time": "2024-10-15T18:11:24.489141Z"
    }
   },
   "id": "f9fc9696b91f380c",
   "execution_count": 12
  },
  {
   "cell_type": "code",
   "outputs": [
    {
     "name": "stdout",
     "output_type": "stream",
     "text": [
      "end: 0:00:00.083008\n"
     ]
    }
   ],
   "source": [
    "from datetime import datetime\n",
    "\n",
    "start = datetime.now()\n",
    "ddf = dd.read_parquet(os.path.join(\"..\", \"L1\", \"data\", \"*.parquet\"))\n",
    "print(f'end: {datetime.now() - start}')"
   ],
   "metadata": {
    "collapsed": false,
    "ExecuteTime": {
     "end_time": "2024-10-15T18:11:27.063677200Z",
     "start_time": "2024-10-15T18:11:26.972176100Z"
    }
   },
   "id": "366f968b94536449",
   "execution_count": 13
  },
  {
   "cell_type": "markdown",
   "source": [
    "# Zadanie 4\n",
    "Wykonaj kilka operacji na klastrze lokalnym z danymi z zadania 3:\n",
    "* wyświetl top 10 użytkowników z najwyższą liczbą like'ów,\n",
    "* pobierz dane tylko za pierwsze półrocze 2019 roku.\n",
    "Każdorazowo zmierz i wyświetl czas operacji i obserwuj dashboard."
   ],
   "metadata": {
    "collapsed": false
   },
   "id": "69c83284b0dfb8b"
  },
  {
   "cell_type": "code",
   "outputs": [
    {
     "data": {
      "text/plain": "        sid  sid_profile      post_id  profile_id                 date  \\\n0  28370919      3496776  BXdjjUlgcgq  2237947779  2017-08-06 20:06:57   \n1  13623950      3496776  BeyPed5hKj9  2237947779  2018-02-04 19:35:20   \n2  28370905      3496776  Bunhd1DFVAG  2237947779  2019-03-05 08:03:11   \n3  28370907      3496776  Bppi85gliQK  2237947779  2018-11-01 20:17:41   \n4  32170690      3496776  BuDfIyslzfw  2237947779  2019-02-19 08:10:11   \n\n   post_type                                        description  likes  \\\n0          2  Wreckloose! Deevalley bike park laps on the @i...     80   \n1          1  The dirty south was prime today. Top day with ...     86   \n2          1  Tech Tuesday. Been flat out on the tools. Got ...    168   \n3          1  On the tools, my favourite wheel builds @stans...    102   \n4          1  Solid effort on the bar turn.\\nFully turned.\\n...    145   \n\n   comments   username                                                bio  \\\n0         0  andylund_  Professional Bicycle technician, Intense Racin...   \n1         2  andylund_  Professional Bicycle technician, Intense Racin...   \n2         3  andylund_  Professional Bicycle technician, Intense Racin...   \n3         2  andylund_  Professional Bicycle technician, Intense Racin...   \n4         2  andylund_  Professional Bicycle technician, Intense Racin...   \n\n   following  followers  num_posts  is_business_account lang  \\\n0        520       1204        494                False   en   \n1        520       1204        494                False   en   \n2        520       1204        494                False   en   \n3        520       1204        494                False   en   \n4        520       1204        494                False   en   \n\n               category  \n0    travel_&_adventure  \n1  diaries_&_daily_life  \n2  science_&_technology  \n3  diaries_&_daily_life  \n4  diaries_&_daily_life  ",
      "text/html": "<div>\n<style scoped>\n    .dataframe tbody tr th:only-of-type {\n        vertical-align: middle;\n    }\n\n    .dataframe tbody tr th {\n        vertical-align: top;\n    }\n\n    .dataframe thead th {\n        text-align: right;\n    }\n</style>\n<table border=\"1\" class=\"dataframe\">\n  <thead>\n    <tr style=\"text-align: right;\">\n      <th></th>\n      <th>sid</th>\n      <th>sid_profile</th>\n      <th>post_id</th>\n      <th>profile_id</th>\n      <th>date</th>\n      <th>post_type</th>\n      <th>description</th>\n      <th>likes</th>\n      <th>comments</th>\n      <th>username</th>\n      <th>bio</th>\n      <th>following</th>\n      <th>followers</th>\n      <th>num_posts</th>\n      <th>is_business_account</th>\n      <th>lang</th>\n      <th>category</th>\n    </tr>\n  </thead>\n  <tbody>\n    <tr>\n      <th>0</th>\n      <td>28370919</td>\n      <td>3496776</td>\n      <td>BXdjjUlgcgq</td>\n      <td>2237947779</td>\n      <td>2017-08-06 20:06:57</td>\n      <td>2</td>\n      <td>Wreckloose! Deevalley bike park laps on the @i...</td>\n      <td>80</td>\n      <td>0</td>\n      <td>andylund_</td>\n      <td>Professional Bicycle technician, Intense Racin...</td>\n      <td>520</td>\n      <td>1204</td>\n      <td>494</td>\n      <td>False</td>\n      <td>en</td>\n      <td>travel_&amp;_adventure</td>\n    </tr>\n    <tr>\n      <th>1</th>\n      <td>13623950</td>\n      <td>3496776</td>\n      <td>BeyPed5hKj9</td>\n      <td>2237947779</td>\n      <td>2018-02-04 19:35:20</td>\n      <td>1</td>\n      <td>The dirty south was prime today. Top day with ...</td>\n      <td>86</td>\n      <td>2</td>\n      <td>andylund_</td>\n      <td>Professional Bicycle technician, Intense Racin...</td>\n      <td>520</td>\n      <td>1204</td>\n      <td>494</td>\n      <td>False</td>\n      <td>en</td>\n      <td>diaries_&amp;_daily_life</td>\n    </tr>\n    <tr>\n      <th>2</th>\n      <td>28370905</td>\n      <td>3496776</td>\n      <td>Bunhd1DFVAG</td>\n      <td>2237947779</td>\n      <td>2019-03-05 08:03:11</td>\n      <td>1</td>\n      <td>Tech Tuesday. Been flat out on the tools. Got ...</td>\n      <td>168</td>\n      <td>3</td>\n      <td>andylund_</td>\n      <td>Professional Bicycle technician, Intense Racin...</td>\n      <td>520</td>\n      <td>1204</td>\n      <td>494</td>\n      <td>False</td>\n      <td>en</td>\n      <td>science_&amp;_technology</td>\n    </tr>\n    <tr>\n      <th>3</th>\n      <td>28370907</td>\n      <td>3496776</td>\n      <td>Bppi85gliQK</td>\n      <td>2237947779</td>\n      <td>2018-11-01 20:17:41</td>\n      <td>1</td>\n      <td>On the tools, my favourite wheel builds @stans...</td>\n      <td>102</td>\n      <td>2</td>\n      <td>andylund_</td>\n      <td>Professional Bicycle technician, Intense Racin...</td>\n      <td>520</td>\n      <td>1204</td>\n      <td>494</td>\n      <td>False</td>\n      <td>en</td>\n      <td>diaries_&amp;_daily_life</td>\n    </tr>\n    <tr>\n      <th>4</th>\n      <td>32170690</td>\n      <td>3496776</td>\n      <td>BuDfIyslzfw</td>\n      <td>2237947779</td>\n      <td>2019-02-19 08:10:11</td>\n      <td>1</td>\n      <td>Solid effort on the bar turn.\\nFully turned.\\n...</td>\n      <td>145</td>\n      <td>2</td>\n      <td>andylund_</td>\n      <td>Professional Bicycle technician, Intense Racin...</td>\n      <td>520</td>\n      <td>1204</td>\n      <td>494</td>\n      <td>False</td>\n      <td>en</td>\n      <td>diaries_&amp;_daily_life</td>\n    </tr>\n  </tbody>\n</table>\n</div>"
     },
     "execution_count": 14,
     "metadata": {},
     "output_type": "execute_result"
    }
   ],
   "source": [
    "ddf.head()"
   ],
   "metadata": {
    "collapsed": false,
    "ExecuteTime": {
     "end_time": "2024-10-15T18:11:28.804433600Z",
     "start_time": "2024-10-15T18:11:27.062677900Z"
    }
   },
   "id": "b80debd14af9735b",
   "execution_count": 14
  },
  {
   "cell_type": "code",
   "outputs": [
    {
     "data": {
      "text/plain": "    index         username     likes\n0  116584        instagram  29864166\n1  485370        lizakoshy  19217644\n2    1073              433  16457870\n3   19189      amandacerny  15019135\n4   13380      akshaykumar  13352324\n5  167260  maisie_williams  12808999\n6   54348   chiaraferragni  11709658\n7   57600       claireholt  10109849\n8   64706     danbilzerian   9253425\n9  268577   urvashirautela   9104884",
      "text/html": "<div>\n<style scoped>\n    .dataframe tbody tr th:only-of-type {\n        vertical-align: middle;\n    }\n\n    .dataframe tbody tr th {\n        vertical-align: top;\n    }\n\n    .dataframe thead th {\n        text-align: right;\n    }\n</style>\n<table border=\"1\" class=\"dataframe\">\n  <thead>\n    <tr style=\"text-align: right;\">\n      <th></th>\n      <th>index</th>\n      <th>username</th>\n      <th>likes</th>\n    </tr>\n  </thead>\n  <tbody>\n    <tr>\n      <th>0</th>\n      <td>116584</td>\n      <td>instagram</td>\n      <td>29864166</td>\n    </tr>\n    <tr>\n      <th>1</th>\n      <td>485370</td>\n      <td>lizakoshy</td>\n      <td>19217644</td>\n    </tr>\n    <tr>\n      <th>2</th>\n      <td>1073</td>\n      <td>433</td>\n      <td>16457870</td>\n    </tr>\n    <tr>\n      <th>3</th>\n      <td>19189</td>\n      <td>amandacerny</td>\n      <td>15019135</td>\n    </tr>\n    <tr>\n      <th>4</th>\n      <td>13380</td>\n      <td>akshaykumar</td>\n      <td>13352324</td>\n    </tr>\n    <tr>\n      <th>5</th>\n      <td>167260</td>\n      <td>maisie_williams</td>\n      <td>12808999</td>\n    </tr>\n    <tr>\n      <th>6</th>\n      <td>54348</td>\n      <td>chiaraferragni</td>\n      <td>11709658</td>\n    </tr>\n    <tr>\n      <th>7</th>\n      <td>57600</td>\n      <td>claireholt</td>\n      <td>10109849</td>\n    </tr>\n    <tr>\n      <th>8</th>\n      <td>64706</td>\n      <td>danbilzerian</td>\n      <td>9253425</td>\n    </tr>\n    <tr>\n      <th>9</th>\n      <td>268577</td>\n      <td>urvashirautela</td>\n      <td>9104884</td>\n    </tr>\n  </tbody>\n</table>\n</div>"
     },
     "execution_count": 15,
     "metadata": {},
     "output_type": "execute_result"
    }
   ],
   "source": [
    "start = datetime.now()\n",
    "likes_by_user = ddf.groupby('username')['likes'].sum().reset_index().nlargest(10, 'likes').reset_index()\n",
    "likes_by_user.compute()"
   ],
   "metadata": {
    "collapsed": false,
    "ExecuteTime": {
     "end_time": "2024-10-15T18:11:31.610077600Z",
     "start_time": "2024-10-15T18:11:28.795932900Z"
    }
   },
   "id": "e1b54a7c046e61e3",
   "execution_count": 15
  },
  {
   "cell_type": "code",
   "outputs": [
    {
     "name": "stdout",
     "output_type": "stream",
     "text": [
      "end: 0:00:02.804178\n"
     ]
    }
   ],
   "source": [
    "print(f'end: {datetime.now() - start}')"
   ],
   "metadata": {
    "collapsed": false,
    "ExecuteTime": {
     "end_time": "2024-10-15T18:11:31.611083600Z",
     "start_time": "2024-10-15T18:11:31.602076200Z"
    }
   },
   "id": "100acae86671f512",
   "execution_count": 16
  },
  {
   "cell_type": "code",
   "outputs": [
    {
     "name": "stderr",
     "output_type": "stream",
     "text": [
      "2024-10-15 20:11:49,505 - distributed.client - WARNING - Couldn't gather 1 keys, rescheduling (('repartitiontofewer-af60a2a1f12adfba22f7741dfbf604a1', 0),)\n",
      "2024-10-15 20:11:58,398 - distributed.client - WARNING - Couldn't gather 1 keys, rescheduling (('repartitiontofewer-af60a2a1f12adfba22f7741dfbf604a1', 0),)\n",
      "2024-10-15 20:12:07,473 - distributed.client - WARNING - Couldn't gather 1 keys, rescheduling (('repartitiontofewer-af60a2a1f12adfba22f7741dfbf604a1', 0),)\n",
      "2024-10-15 20:12:16,153 - distributed.client - WARNING - Couldn't gather 1 keys, rescheduling (('repartitiontofewer-af60a2a1f12adfba22f7741dfbf604a1', 0),)\n",
      "2024-10-15 20:12:24,757 - distributed.client - WARNING - Couldn't gather 1 keys, rescheduling (('repartitiontofewer-af60a2a1f12adfba22f7741dfbf604a1', 0),)\n",
      "2024-10-15 20:12:33,153 - distributed.client - WARNING - Couldn't gather 1 keys, rescheduling (('repartitiontofewer-af60a2a1f12adfba22f7741dfbf604a1', 0),)\n",
      "2024-10-15 20:12:41,676 - distributed.client - WARNING - Couldn't gather 1 keys, rescheduling (('repartitiontofewer-af60a2a1f12adfba22f7741dfbf604a1', 0),)\n",
      "2024-10-15 20:12:50,335 - distributed.client - WARNING - Couldn't gather 1 keys, rescheduling (('repartitiontofewer-af60a2a1f12adfba22f7741dfbf604a1', 0),)\n",
      "2024-10-15 20:12:58,369 - distributed.client - WARNING - Couldn't gather 1 keys, rescheduling (('repartitiontofewer-af60a2a1f12adfba22f7741dfbf604a1', 0),)\n",
      "2024-10-15 20:13:06,040 - distributed.client - WARNING - Couldn't gather 1 keys, rescheduling (('repartitiontofewer-af60a2a1f12adfba22f7741dfbf604a1', 0),)\n",
      "2024-10-15 20:13:13,855 - distributed.client - WARNING - Couldn't gather 1 keys, rescheduling (('repartitiontofewer-af60a2a1f12adfba22f7741dfbf604a1', 0),)\n",
      "2024-10-15 20:13:21,745 - distributed.client - WARNING - Couldn't gather 1 keys, rescheduling (('repartitiontofewer-af60a2a1f12adfba22f7741dfbf604a1', 0),)\n",
      "2024-10-15 20:13:29,259 - distributed.client - WARNING - Couldn't gather 1 keys, rescheduling (('repartitiontofewer-af60a2a1f12adfba22f7741dfbf604a1', 0),)\n",
      "2024-10-15 20:13:37,189 - distributed.client - WARNING - Couldn't gather 1 keys, rescheduling (('repartitiontofewer-af60a2a1f12adfba22f7741dfbf604a1', 0),)\n",
      "2024-10-15 20:13:45,346 - distributed.client - WARNING - Couldn't gather 1 keys, rescheduling (('repartitiontofewer-af60a2a1f12adfba22f7741dfbf604a1', 0),)\n",
      "2024-10-15 20:13:52,742 - distributed.client - WARNING - Couldn't gather 1 keys, rescheduling (('repartitiontofewer-af60a2a1f12adfba22f7741dfbf604a1', 0),)\n",
      "2024-10-15 20:14:00,459 - distributed.client - WARNING - Couldn't gather 1 keys, rescheduling (('repartitiontofewer-af60a2a1f12adfba22f7741dfbf604a1', 0),)\n",
      "2024-10-15 20:14:08,863 - distributed.client - WARNING - Couldn't gather 1 keys, rescheduling (('repartitiontofewer-af60a2a1f12adfba22f7741dfbf604a1', 0),)\n",
      "2024-10-15 20:14:16,376 - distributed.client - WARNING - Couldn't gather 1 keys, rescheduling (('repartitiontofewer-af60a2a1f12adfba22f7741dfbf604a1', 0),)\n"
     ]
    },
    {
     "data": {
      "text/plain": "              sid  sid_profile      post_id  profile_id                 date  \\\n2        28370905      3496776  Bunhd1DFVAG  2237947779  2019-03-05 08:03:11   \n4        32170690      3496776  BuDfIyslzfw  2237947779  2019-02-19 08:10:11   \n5        14315358      3496776  BxJsMDpA2yH  2237947779  2019-05-07 08:33:51   \n6         8304346      3496776  Bt5LFpZlm3z  2237947779  2019-02-15 08:02:35   \n7        14315346      3496776  BxZIzaQhS-o  2237947779  2019-05-13 08:32:30   \n...           ...          ...          ...         ...                  ...   \n1147352  43194859      4492285  BxEr8JbHVIZ  3198207653  2019-05-05 09:55:28   \n1147353  43194861      4492285  Bw6NjgYH9VF  3198207653  2019-05-01 08:17:33   \n1147354  43194863      4492285  Bwossrynm05  3198207653  2019-04-24 13:03:22   \n1147355  43194867      4492285  Bvx0jgoHk8h  3198207653  2019-04-03 05:33:47   \n1147356  43194869      4492285  BtkHy1fnH2n  3198207653  2019-02-07 03:49:45   \n\n         post_type                                        description  likes  \\\n2                1  Tech Tuesday. Been flat out on the tools. Got ...    168   \n4                1  Solid effort on the bar turn.\\nFully turned.\\n...    145   \n5                1  Annual springtime flora picture.\\nTurn bars in...    124   \n6                1  Laps in spring like conditions. Getting these ...    150   \n7                1  Cheers Scotland 🏴󠁧󠁢󠁳󠁣󠁴󠁿 See you in a few weeks...    166   \n...            ...                                                ...    ...   \n1147352          1    A restaurant with no sign and a one-word menu 🍜    112   \n1147353          1                          Beijing has nice days too    151   \n1147354          1                                            Breaded    149   \n1147355          1              A taste of Tokyo in Beijing 🍱 #waimai     74   \n1147356          1           When it’s -23 degrees, eat ice cream ☃️🍦    111   \n\n         comments    username  \\\n2               3   andylund_   \n4               2   andylund_   \n5               2   andylund_   \n6               3   andylund_   \n7               2   andylund_   \n...           ...         ...   \n1147352         2  zarazhangg   \n1147353         3  zarazhangg   \n1147354         2  zarazhangg   \n1147355         1  zarazhangg   \n1147356         6  zarazhangg   \n\n                                                       bio  following  \\\n2        Professional Bicycle technician, Intense Racin...        520   \n4        Professional Bicycle technician, Intense Racin...        520   \n5        Professional Bicycle technician, Intense Racin...        520   \n6        Professional Bicycle technician, Intense Racin...        520   \n7        Professional Bicycle technician, Intense Racin...        520   \n...                                                    ...        ...   \n1147352  Harvard grad from China working in tech 🇨🇳🇸🇬🇯🇵...       1801   \n1147353  Harvard grad from China working in tech 🇨🇳🇸🇬🇯🇵...       1801   \n1147354  Harvard grad from China working in tech 🇨🇳🇸🇬🇯🇵...       1801   \n1147355  Harvard grad from China working in tech 🇨🇳🇸🇬🇯🇵...       1801   \n1147356  Harvard grad from China working in tech 🇨🇳🇸🇬🇯🇵...       1801   \n\n         followers  num_posts  is_business_account lang              category  \n2             1204        494                False   en  science_&_technology  \n4             1204        494                False   en  diaries_&_daily_life  \n5             1204        494                False   en        arts_&_culture  \n6             1204        494                False   en                sports  \n7             1204        494                False   en                sports  \n...            ...        ...                  ...  ...                   ...  \n1147352       1428        249                False   en         food_&_dining  \n1147353       1428        249                False   en  diaries_&_daily_life  \n1147354       1428        249                False   en         food_&_dining  \n1147355       1428        249                False   en    travel_&_adventure  \n1147356       1428        249                False   en         food_&_dining  \n\n[5687445 rows x 17 columns]",
      "text/html": "<div>\n<style scoped>\n    .dataframe tbody tr th:only-of-type {\n        vertical-align: middle;\n    }\n\n    .dataframe tbody tr th {\n        vertical-align: top;\n    }\n\n    .dataframe thead th {\n        text-align: right;\n    }\n</style>\n<table border=\"1\" class=\"dataframe\">\n  <thead>\n    <tr style=\"text-align: right;\">\n      <th></th>\n      <th>sid</th>\n      <th>sid_profile</th>\n      <th>post_id</th>\n      <th>profile_id</th>\n      <th>date</th>\n      <th>post_type</th>\n      <th>description</th>\n      <th>likes</th>\n      <th>comments</th>\n      <th>username</th>\n      <th>bio</th>\n      <th>following</th>\n      <th>followers</th>\n      <th>num_posts</th>\n      <th>is_business_account</th>\n      <th>lang</th>\n      <th>category</th>\n    </tr>\n  </thead>\n  <tbody>\n    <tr>\n      <th>2</th>\n      <td>28370905</td>\n      <td>3496776</td>\n      <td>Bunhd1DFVAG</td>\n      <td>2237947779</td>\n      <td>2019-03-05 08:03:11</td>\n      <td>1</td>\n      <td>Tech Tuesday. Been flat out on the tools. Got ...</td>\n      <td>168</td>\n      <td>3</td>\n      <td>andylund_</td>\n      <td>Professional Bicycle technician, Intense Racin...</td>\n      <td>520</td>\n      <td>1204</td>\n      <td>494</td>\n      <td>False</td>\n      <td>en</td>\n      <td>science_&amp;_technology</td>\n    </tr>\n    <tr>\n      <th>4</th>\n      <td>32170690</td>\n      <td>3496776</td>\n      <td>BuDfIyslzfw</td>\n      <td>2237947779</td>\n      <td>2019-02-19 08:10:11</td>\n      <td>1</td>\n      <td>Solid effort on the bar turn.\\nFully turned.\\n...</td>\n      <td>145</td>\n      <td>2</td>\n      <td>andylund_</td>\n      <td>Professional Bicycle technician, Intense Racin...</td>\n      <td>520</td>\n      <td>1204</td>\n      <td>494</td>\n      <td>False</td>\n      <td>en</td>\n      <td>diaries_&amp;_daily_life</td>\n    </tr>\n    <tr>\n      <th>5</th>\n      <td>14315358</td>\n      <td>3496776</td>\n      <td>BxJsMDpA2yH</td>\n      <td>2237947779</td>\n      <td>2019-05-07 08:33:51</td>\n      <td>1</td>\n      <td>Annual springtime flora picture.\\nTurn bars in...</td>\n      <td>124</td>\n      <td>2</td>\n      <td>andylund_</td>\n      <td>Professional Bicycle technician, Intense Racin...</td>\n      <td>520</td>\n      <td>1204</td>\n      <td>494</td>\n      <td>False</td>\n      <td>en</td>\n      <td>arts_&amp;_culture</td>\n    </tr>\n    <tr>\n      <th>6</th>\n      <td>8304346</td>\n      <td>3496776</td>\n      <td>Bt5LFpZlm3z</td>\n      <td>2237947779</td>\n      <td>2019-02-15 08:02:35</td>\n      <td>1</td>\n      <td>Laps in spring like conditions. Getting these ...</td>\n      <td>150</td>\n      <td>3</td>\n      <td>andylund_</td>\n      <td>Professional Bicycle technician, Intense Racin...</td>\n      <td>520</td>\n      <td>1204</td>\n      <td>494</td>\n      <td>False</td>\n      <td>en</td>\n      <td>sports</td>\n    </tr>\n    <tr>\n      <th>7</th>\n      <td>14315346</td>\n      <td>3496776</td>\n      <td>BxZIzaQhS-o</td>\n      <td>2237947779</td>\n      <td>2019-05-13 08:32:30</td>\n      <td>1</td>\n      <td>Cheers Scotland 🏴󠁧󠁢󠁳󠁣󠁴󠁿 See you in a few weeks...</td>\n      <td>166</td>\n      <td>2</td>\n      <td>andylund_</td>\n      <td>Professional Bicycle technician, Intense Racin...</td>\n      <td>520</td>\n      <td>1204</td>\n      <td>494</td>\n      <td>False</td>\n      <td>en</td>\n      <td>sports</td>\n    </tr>\n    <tr>\n      <th>...</th>\n      <td>...</td>\n      <td>...</td>\n      <td>...</td>\n      <td>...</td>\n      <td>...</td>\n      <td>...</td>\n      <td>...</td>\n      <td>...</td>\n      <td>...</td>\n      <td>...</td>\n      <td>...</td>\n      <td>...</td>\n      <td>...</td>\n      <td>...</td>\n      <td>...</td>\n      <td>...</td>\n      <td>...</td>\n    </tr>\n    <tr>\n      <th>1147352</th>\n      <td>43194859</td>\n      <td>4492285</td>\n      <td>BxEr8JbHVIZ</td>\n      <td>3198207653</td>\n      <td>2019-05-05 09:55:28</td>\n      <td>1</td>\n      <td>A restaurant with no sign and a one-word menu 🍜</td>\n      <td>112</td>\n      <td>2</td>\n      <td>zarazhangg</td>\n      <td>Harvard grad from China working in tech 🇨🇳🇸🇬🇯🇵...</td>\n      <td>1801</td>\n      <td>1428</td>\n      <td>249</td>\n      <td>False</td>\n      <td>en</td>\n      <td>food_&amp;_dining</td>\n    </tr>\n    <tr>\n      <th>1147353</th>\n      <td>43194861</td>\n      <td>4492285</td>\n      <td>Bw6NjgYH9VF</td>\n      <td>3198207653</td>\n      <td>2019-05-01 08:17:33</td>\n      <td>1</td>\n      <td>Beijing has nice days too</td>\n      <td>151</td>\n      <td>3</td>\n      <td>zarazhangg</td>\n      <td>Harvard grad from China working in tech 🇨🇳🇸🇬🇯🇵...</td>\n      <td>1801</td>\n      <td>1428</td>\n      <td>249</td>\n      <td>False</td>\n      <td>en</td>\n      <td>diaries_&amp;_daily_life</td>\n    </tr>\n    <tr>\n      <th>1147354</th>\n      <td>43194863</td>\n      <td>4492285</td>\n      <td>Bwossrynm05</td>\n      <td>3198207653</td>\n      <td>2019-04-24 13:03:22</td>\n      <td>1</td>\n      <td>Breaded</td>\n      <td>149</td>\n      <td>2</td>\n      <td>zarazhangg</td>\n      <td>Harvard grad from China working in tech 🇨🇳🇸🇬🇯🇵...</td>\n      <td>1801</td>\n      <td>1428</td>\n      <td>249</td>\n      <td>False</td>\n      <td>en</td>\n      <td>food_&amp;_dining</td>\n    </tr>\n    <tr>\n      <th>1147355</th>\n      <td>43194867</td>\n      <td>4492285</td>\n      <td>Bvx0jgoHk8h</td>\n      <td>3198207653</td>\n      <td>2019-04-03 05:33:47</td>\n      <td>1</td>\n      <td>A taste of Tokyo in Beijing 🍱 #waimai</td>\n      <td>74</td>\n      <td>1</td>\n      <td>zarazhangg</td>\n      <td>Harvard grad from China working in tech 🇨🇳🇸🇬🇯🇵...</td>\n      <td>1801</td>\n      <td>1428</td>\n      <td>249</td>\n      <td>False</td>\n      <td>en</td>\n      <td>travel_&amp;_adventure</td>\n    </tr>\n    <tr>\n      <th>1147356</th>\n      <td>43194869</td>\n      <td>4492285</td>\n      <td>BtkHy1fnH2n</td>\n      <td>3198207653</td>\n      <td>2019-02-07 03:49:45</td>\n      <td>1</td>\n      <td>When it’s -23 degrees, eat ice cream ☃️🍦</td>\n      <td>111</td>\n      <td>6</td>\n      <td>zarazhangg</td>\n      <td>Harvard grad from China working in tech 🇨🇳🇸🇬🇯🇵...</td>\n      <td>1801</td>\n      <td>1428</td>\n      <td>249</td>\n      <td>False</td>\n      <td>en</td>\n      <td>food_&amp;_dining</td>\n    </tr>\n  </tbody>\n</table>\n<p>5687445 rows × 17 columns</p>\n</div>"
     },
     "execution_count": 17,
     "metadata": {},
     "output_type": "execute_result"
    }
   ],
   "source": [
    "start = datetime.now()\n",
    "half_2019 = ddf[ddf['date'].str.startswith('2019')]\n",
    "half_2019.compute()"
   ],
   "metadata": {
    "collapsed": false,
    "ExecuteTime": {
     "end_time": "2024-10-15T18:15:28.231151500Z",
     "start_time": "2024-10-15T18:11:31.605577600Z"
    }
   },
   "id": "31251076293d5ee0",
   "execution_count": 17
  },
  {
   "cell_type": "code",
   "outputs": [
    {
     "name": "stdout",
     "output_type": "stream",
     "text": [
      "end: 0:03:56.543575\n"
     ]
    }
   ],
   "source": [
    "print(f'end: {datetime.now() - start}')"
   ],
   "metadata": {
    "collapsed": false,
    "ExecuteTime": {
     "end_time": "2024-10-15T18:15:28.284887500Z",
     "start_time": "2024-10-15T18:15:28.163153300Z"
    }
   },
   "id": "68852a1501dc8bc3",
   "execution_count": 18
  },
  {
   "cell_type": "markdown",
   "source": [
    "# Zadanie 5 \n",
    "Wczytaj te same dane do ramki Dask co w zadaniu 3, ale podaj typy danych, które zostały wybrane w procesie optymalizacji wykonanej w zadaniach z lab 01. Porównaj czas ładowania z zadaniem 3. Wykonaj również te same operacje co w zadaniu 4 i porównaj czas. Śledź wykonanie zadań patrząć na graf wywołań."
   ],
   "metadata": {
    "collapsed": false
   },
   "id": "8398af9ec8bf98cc"
  },
  {
   "cell_type": "code",
   "outputs": [
    {
     "name": "stdout",
     "output_type": "stream",
     "text": [
      "end: 0:00:00.248838\n"
     ]
    }
   ],
   "source": [
    "from datetime import datetime\n",
    "\n",
    "dtypes = {\n",
    "    'sid': 'int32',\n",
    "    'sid_profile': 'int32',\n",
    "    'post_id': 'object',\n",
    "    'profile_id': 'int64',\n",
    "    'post_type': 'category',\n",
    "    'description': 'object',\n",
    "    'likes': 'int32',\n",
    "    'comments': 'int32',\n",
    "    'username': 'object',\n",
    "    'bio': 'object',\n",
    "    'following': 'int32',\n",
    "    'followers': 'int32',\n",
    "    'num_posts': 'int32',\n",
    "    'is_business_account': 'bool',\n",
    "    'lang': 'category',\n",
    "    'category':'category'\n",
    "}\n",
    "\n",
    "start = datetime.now()\n",
    "ddf2 = dd.read_parquet(os.path.join(\"..\", \"L1\", \"data\", \"*.parquet\"))\n",
    "for key, value in dtypes.items():\n",
    "    ddf2[key] = ddf2[key].astype(value)\n",
    "ddf2['date'] = dd.to_datetime(ddf2['date'])\n",
    "print(f'end: {datetime.now() - start}')"
   ],
   "metadata": {
    "collapsed": false,
    "ExecuteTime": {
     "end_time": "2024-10-15T18:15:28.931869800Z",
     "start_time": "2024-10-15T18:15:28.178152300Z"
    }
   },
   "id": "a87ddbf2ef044783",
   "execution_count": 19
  },
  {
   "cell_type": "code",
   "outputs": [
    {
     "data": {
      "text/plain": "sid                             int32\nsid_profile                     int32\npost_id                        object\nprofile_id                      int64\ndate                   datetime64[ns]\npost_type                    category\ndescription                    object\nlikes                           int32\ncomments                        int32\nusername                       object\nbio                            object\nfollowing                       int32\nfollowers                       int32\nnum_posts                       int32\nis_business_account              bool\nlang                         category\ncategory                     category\ndtype: object"
     },
     "execution_count": 20,
     "metadata": {},
     "output_type": "execute_result"
    }
   ],
   "source": [
    "ddf2.dtypes"
   ],
   "metadata": {
    "collapsed": false,
    "ExecuteTime": {
     "end_time": "2024-10-15T18:15:28.935368Z",
     "start_time": "2024-10-15T18:15:28.442504400Z"
    }
   },
   "id": "7f4cf37ed59073b5",
   "execution_count": 20
  },
  {
   "cell_type": "code",
   "outputs": [
    {
     "data": {
      "text/plain": "    index         username     likes\n0  116584        instagram  29864166\n1  485370        lizakoshy  19217644\n2    1073              433  16457870\n3   19189      amandacerny  15019135\n4   13380      akshaykumar  13352324\n5  167260  maisie_williams  12808999\n6   54348   chiaraferragni  11709658\n7   57600       claireholt  10109849\n8   64706     danbilzerian   9253425\n9  268577   urvashirautela   9104884",
      "text/html": "<div>\n<style scoped>\n    .dataframe tbody tr th:only-of-type {\n        vertical-align: middle;\n    }\n\n    .dataframe tbody tr th {\n        vertical-align: top;\n    }\n\n    .dataframe thead th {\n        text-align: right;\n    }\n</style>\n<table border=\"1\" class=\"dataframe\">\n  <thead>\n    <tr style=\"text-align: right;\">\n      <th></th>\n      <th>index</th>\n      <th>username</th>\n      <th>likes</th>\n    </tr>\n  </thead>\n  <tbody>\n    <tr>\n      <th>0</th>\n      <td>116584</td>\n      <td>instagram</td>\n      <td>29864166</td>\n    </tr>\n    <tr>\n      <th>1</th>\n      <td>485370</td>\n      <td>lizakoshy</td>\n      <td>19217644</td>\n    </tr>\n    <tr>\n      <th>2</th>\n      <td>1073</td>\n      <td>433</td>\n      <td>16457870</td>\n    </tr>\n    <tr>\n      <th>3</th>\n      <td>19189</td>\n      <td>amandacerny</td>\n      <td>15019135</td>\n    </tr>\n    <tr>\n      <th>4</th>\n      <td>13380</td>\n      <td>akshaykumar</td>\n      <td>13352324</td>\n    </tr>\n    <tr>\n      <th>5</th>\n      <td>167260</td>\n      <td>maisie_williams</td>\n      <td>12808999</td>\n    </tr>\n    <tr>\n      <th>6</th>\n      <td>54348</td>\n      <td>chiaraferragni</td>\n      <td>11709658</td>\n    </tr>\n    <tr>\n      <th>7</th>\n      <td>57600</td>\n      <td>claireholt</td>\n      <td>10109849</td>\n    </tr>\n    <tr>\n      <th>8</th>\n      <td>64706</td>\n      <td>danbilzerian</td>\n      <td>9253425</td>\n    </tr>\n    <tr>\n      <th>9</th>\n      <td>268577</td>\n      <td>urvashirautela</td>\n      <td>9104884</td>\n    </tr>\n  </tbody>\n</table>\n</div>"
     },
     "execution_count": 21,
     "metadata": {},
     "output_type": "execute_result"
    }
   ],
   "source": [
    "start = datetime.now()\n",
    "likes_by_user = ddf2.groupby('username')['likes'].sum().reset_index().nlargest(10, 'likes').reset_index()\n",
    "likes_by_user.compute()"
   ],
   "metadata": {
    "collapsed": false,
    "ExecuteTime": {
     "end_time": "2024-10-15T18:15:32.834370400Z",
     "start_time": "2024-10-15T18:15:28.455998300Z"
    }
   },
   "id": "999305cc2a78a3b1",
   "execution_count": 21
  },
  {
   "cell_type": "code",
   "outputs": [
    {
     "name": "stdout",
     "output_type": "stream",
     "text": [
      "end: 0:00:04.377370\n"
     ]
    }
   ],
   "source": [
    "print(f'end: {datetime.now() - start}')"
   ],
   "metadata": {
    "collapsed": false,
    "ExecuteTime": {
     "end_time": "2024-10-15T18:15:32.836868500Z",
     "start_time": "2024-10-15T18:15:32.833868300Z"
    }
   },
   "id": "eb8949b2fbde1f7d",
   "execution_count": 22
  },
  {
   "cell_type": "code",
   "outputs": [
    {
     "ename": "KilledWorker",
     "evalue": "Attempted to run task ('repartitiontofewer-d422ce38a6909393af9662d7e446404f', 0) on 4 different workers, but all those workers died while running it. The last worker that attempt to run the task was tcp://127.0.0.1:57496. Inspecting worker logs is often a good next step to diagnose what went wrong. For more information see https://distributed.dask.org/en/stable/killed.html.",
     "output_type": "error",
     "traceback": [
      "\u001B[1;31m---------------------------------------------------------------------------\u001B[0m",
      "\u001B[1;31mKilledWorker\u001B[0m                              Traceback (most recent call last)",
      "Cell \u001B[1;32mIn[23], line 3\u001B[0m\n\u001B[0;32m      1\u001B[0m start \u001B[38;5;241m=\u001B[39m datetime\u001B[38;5;241m.\u001B[39mnow()\n\u001B[0;32m      2\u001B[0m half_2019 \u001B[38;5;241m=\u001B[39m ddf2[ddf2[\u001B[38;5;124m'\u001B[39m\u001B[38;5;124mdate\u001B[39m\u001B[38;5;124m'\u001B[39m]\u001B[38;5;241m.\u001B[39mdt\u001B[38;5;241m.\u001B[39myear \u001B[38;5;241m==\u001B[39m \u001B[38;5;241m2019\u001B[39m]\n\u001B[1;32m----> 3\u001B[0m \u001B[43mhalf_2019\u001B[49m\u001B[38;5;241;43m.\u001B[39;49m\u001B[43mcompute\u001B[49m\u001B[43m(\u001B[49m\u001B[43m)\u001B[49m\n",
      "File \u001B[1;32mD:\\Program\\anaconda3\\envs\\aaaaaaa\\Lib\\site-packages\\dask_expr\\_collection.py:481\u001B[0m, in \u001B[0;36mFrameBase.compute\u001B[1;34m(self, fuse, concatenate, **kwargs)\u001B[0m\n\u001B[0;32m    479\u001B[0m     out \u001B[38;5;241m=\u001B[39m out\u001B[38;5;241m.\u001B[39mrepartition(npartitions\u001B[38;5;241m=\u001B[39m\u001B[38;5;241m1\u001B[39m)\n\u001B[0;32m    480\u001B[0m out \u001B[38;5;241m=\u001B[39m out\u001B[38;5;241m.\u001B[39moptimize(fuse\u001B[38;5;241m=\u001B[39mfuse)\n\u001B[1;32m--> 481\u001B[0m \u001B[38;5;28;01mreturn\u001B[39;00m \u001B[43mDaskMethodsMixin\u001B[49m\u001B[38;5;241;43m.\u001B[39;49m\u001B[43mcompute\u001B[49m\u001B[43m(\u001B[49m\u001B[43mout\u001B[49m\u001B[43m,\u001B[49m\u001B[43m \u001B[49m\u001B[38;5;241;43m*\u001B[39;49m\u001B[38;5;241;43m*\u001B[39;49m\u001B[43mkwargs\u001B[49m\u001B[43m)\u001B[49m\n",
      "File \u001B[1;32mD:\\Program\\anaconda3\\envs\\aaaaaaa\\Lib\\site-packages\\dask\\base.py:372\u001B[0m, in \u001B[0;36mDaskMethodsMixin.compute\u001B[1;34m(self, **kwargs)\u001B[0m\n\u001B[0;32m    348\u001B[0m \u001B[38;5;28;01mdef\u001B[39;00m \u001B[38;5;21mcompute\u001B[39m(\u001B[38;5;28mself\u001B[39m, \u001B[38;5;241m*\u001B[39m\u001B[38;5;241m*\u001B[39mkwargs):\n\u001B[0;32m    349\u001B[0m \u001B[38;5;250m    \u001B[39m\u001B[38;5;124;03m\"\"\"Compute this dask collection\u001B[39;00m\n\u001B[0;32m    350\u001B[0m \n\u001B[0;32m    351\u001B[0m \u001B[38;5;124;03m    This turns a lazy Dask collection into its in-memory equivalent.\u001B[39;00m\n\u001B[1;32m   (...)\u001B[0m\n\u001B[0;32m    370\u001B[0m \u001B[38;5;124;03m    dask.compute\u001B[39;00m\n\u001B[0;32m    371\u001B[0m \u001B[38;5;124;03m    \"\"\"\u001B[39;00m\n\u001B[1;32m--> 372\u001B[0m     (result,) \u001B[38;5;241m=\u001B[39m \u001B[43mcompute\u001B[49m\u001B[43m(\u001B[49m\u001B[38;5;28;43mself\u001B[39;49m\u001B[43m,\u001B[49m\u001B[43m \u001B[49m\u001B[43mtraverse\u001B[49m\u001B[38;5;241;43m=\u001B[39;49m\u001B[38;5;28;43;01mFalse\u001B[39;49;00m\u001B[43m,\u001B[49m\u001B[43m \u001B[49m\u001B[38;5;241;43m*\u001B[39;49m\u001B[38;5;241;43m*\u001B[39;49m\u001B[43mkwargs\u001B[49m\u001B[43m)\u001B[49m\n\u001B[0;32m    373\u001B[0m     \u001B[38;5;28;01mreturn\u001B[39;00m result\n",
      "File \u001B[1;32mD:\\Program\\anaconda3\\envs\\aaaaaaa\\Lib\\site-packages\\dask\\base.py:660\u001B[0m, in \u001B[0;36mcompute\u001B[1;34m(traverse, optimize_graph, scheduler, get, *args, **kwargs)\u001B[0m\n\u001B[0;32m    657\u001B[0m     postcomputes\u001B[38;5;241m.\u001B[39mappend(x\u001B[38;5;241m.\u001B[39m__dask_postcompute__())\n\u001B[0;32m    659\u001B[0m \u001B[38;5;28;01mwith\u001B[39;00m shorten_traceback():\n\u001B[1;32m--> 660\u001B[0m     results \u001B[38;5;241m=\u001B[39m \u001B[43mschedule\u001B[49m\u001B[43m(\u001B[49m\u001B[43mdsk\u001B[49m\u001B[43m,\u001B[49m\u001B[43m \u001B[49m\u001B[43mkeys\u001B[49m\u001B[43m,\u001B[49m\u001B[43m \u001B[49m\u001B[38;5;241;43m*\u001B[39;49m\u001B[38;5;241;43m*\u001B[39;49m\u001B[43mkwargs\u001B[49m\u001B[43m)\u001B[49m\n\u001B[0;32m    662\u001B[0m \u001B[38;5;28;01mreturn\u001B[39;00m repack([f(r, \u001B[38;5;241m*\u001B[39ma) \u001B[38;5;28;01mfor\u001B[39;00m r, (f, a) \u001B[38;5;129;01min\u001B[39;00m \u001B[38;5;28mzip\u001B[39m(results, postcomputes)])\n",
      "File \u001B[1;32mD:\\Program\\anaconda3\\envs\\aaaaaaa\\Lib\\site-packages\\distributed\\client.py:2417\u001B[0m, in \u001B[0;36mClient._gather\u001B[1;34m(self, futures, errors, direct, local_worker)\u001B[0m\n\u001B[0;32m   2415\u001B[0m     exception \u001B[38;5;241m=\u001B[39m st\u001B[38;5;241m.\u001B[39mexception\n\u001B[0;32m   2416\u001B[0m     traceback \u001B[38;5;241m=\u001B[39m st\u001B[38;5;241m.\u001B[39mtraceback\n\u001B[1;32m-> 2417\u001B[0m     \u001B[38;5;28;01mraise\u001B[39;00m exception\u001B[38;5;241m.\u001B[39mwith_traceback(traceback)\n\u001B[0;32m   2418\u001B[0m \u001B[38;5;28;01mif\u001B[39;00m errors \u001B[38;5;241m==\u001B[39m \u001B[38;5;124m\"\u001B[39m\u001B[38;5;124mskip\u001B[39m\u001B[38;5;124m\"\u001B[39m:\n\u001B[0;32m   2419\u001B[0m     bad_keys\u001B[38;5;241m.\u001B[39madd(key)\n",
      "\u001B[1;31mKilledWorker\u001B[0m: Attempted to run task ('repartitiontofewer-d422ce38a6909393af9662d7e446404f', 0) on 4 different workers, but all those workers died while running it. The last worker that attempt to run the task was tcp://127.0.0.1:57496. Inspecting worker logs is often a good next step to diagnose what went wrong. For more information see https://distributed.dask.org/en/stable/killed.html."
     ]
    }
   ],
   "source": [
    "start = datetime.now()\n",
    "half_2019 = ddf2[ddf2['date'].dt.year == 2019]\n",
    "half_2019.compute()"
   ],
   "metadata": {
    "collapsed": false,
    "ExecuteTime": {
     "end_time": "2024-10-15T18:18:44.675898200Z",
     "start_time": "2024-10-15T18:15:32.837869100Z"
    }
   },
   "id": "5da0f904e573b9de",
   "execution_count": 23
  },
  {
   "cell_type": "code",
   "outputs": [],
   "source": [
    "print(f'end: {datetime.now() - start}')"
   ],
   "metadata": {
    "collapsed": false,
    "ExecuteTime": {
     "start_time": "2024-10-15T18:18:44.661399700Z"
    }
   },
   "id": "80d79c630b046009",
   "execution_count": null
  },
  {
   "cell_type": "markdown",
   "source": [
    "# Zadanie 6  \n",
    "Podziel tablicę `darr` z przykładów na inne liczby chunków (eksperymentuj) i wykonaj te same obliczenie (średnia). Dla każdej liczby chunków wypisz czas obliczeń (wykonaj to samo obliczenie minimum 10 razy, aby nieco uwiarygodnić wyniki i uśrednij) i porównaj wyniki. Napisz wniosek o wynikach swoich eksperymentów i automatycznego podziału na chunki. Czy udało Ci się osiągnąć lepszą wydajność niż przy domyślnych ustawieniach?"
   ],
   "metadata": {
    "collapsed": false
   },
   "id": "ee8f6e47be48b733"
  },
  {
   "cell_type": "code",
   "execution_count": 29,
   "id": "initial_id",
   "metadata": {
    "collapsed": true,
    "ExecuteTime": {
     "end_time": "2024-10-15T18:37:45.205893900Z",
     "start_time": "2024-10-15T18:33:12.427001500Z"
    }
   },
   "outputs": [
    {
     "name": "stdout",
     "output_type": "stream",
     "text": [
      "mean time for chunk (10000, 200000): 0:00:04.611820\n",
      "mean time for chunk (15000, 300000): 0:00:03.946801\n",
      "mean time for chunk (100000, 200000): 0:00:06.649932\n",
      "mean time for chunk (5000, 100000): 0:00:02.828701\n",
      "mean time for chunk (20000, 20000): 0:00:07.666836\n",
      "mean time for chunk (5000, 5000): 0:00:01.571550\n"
     ]
    }
   ],
   "source": [
    "import dask.array as da\n",
    "chunks = [\n",
    "    (10_000,200_000),\n",
    "    (15_000,300_000),\n",
    "    (100_000,200_000),\n",
    "    (5_000,100_000),\n",
    "    (20_000,20_000),\n",
    "    (5_000, 5_000)\n",
    "]\n",
    "\n",
    "for chunk in chunks:\n",
    "    times = []\n",
    "    darr = da.random.normal(5, 0.2, size=(20_000, 20_000), chunks=chunk)\n",
    "    for i in range(10):\n",
    "        start = datetime.now()\n",
    "        darr.mean(axis=0).compute()\n",
    "        times.append(datetime.now() - start)\n",
    "    print(f'mean time for chunk {chunk}: {np.mean(times)}')"
   ]
  },
  {
   "cell_type": "code",
   "outputs": [],
   "source": [
    "default_chunks = da.random.normal(5, 0.2, size=(20_000, 20_000))\n",
    "times = []"
   ],
   "metadata": {
    "collapsed": false,
    "ExecuteTime": {
     "end_time": "2024-10-15T18:37:45.217385500Z",
     "start_time": "2024-10-15T18:37:45.204386700Z"
    }
   },
   "id": "2a258e47454f4a09",
   "execution_count": 30
  },
  {
   "cell_type": "code",
   "outputs": [
    {
     "name": "stdout",
     "output_type": "stream",
     "text": [
      "mean time for default chunk: 0:00:01.413450\n"
     ]
    }
   ],
   "source": [
    "for i in range(10):\n",
    "    start = datetime.now()\n",
    "    default_chunks.mean(axis=0).compute()\n",
    "    times.append(datetime.now() - start)\n",
    "print(f'mean time for default chunk: {np.mean(times)}')"
   ],
   "metadata": {
    "collapsed": false,
    "ExecuteTime": {
     "end_time": "2024-10-15T18:37:59.363884800Z",
     "start_time": "2024-10-15T18:37:45.211885400Z"
    }
   },
   "id": "b5487c9af585cebf",
   "execution_count": 31
  },
  {
   "cell_type": "markdown",
   "source": [
    "as the chunks were bigger the time needed to calculate grow as well \n",
    "best score was the smallest chunks but still not lower than default"
   ],
   "metadata": {
    "collapsed": false
   },
   "id": "57732840be4ca344"
  },
  {
   "cell_type": "code",
   "outputs": [],
   "source": [],
   "metadata": {
    "collapsed": false
   },
   "id": "2b78a25e09d1d772"
  }
 ],
 "metadata": {
  "kernelspec": {
   "display_name": "Python 3",
   "language": "python",
   "name": "python3"
  },
  "language_info": {
   "codemirror_mode": {
    "name": "ipython",
    "version": 2
   },
   "file_extension": ".py",
   "mimetype": "text/x-python",
   "name": "python",
   "nbconvert_exporter": "python",
   "pygments_lexer": "ipython2",
   "version": "2.7.6"
  }
 },
 "nbformat": 4,
 "nbformat_minor": 5
}
