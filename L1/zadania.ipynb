{
 "cells": [
  {
   "cell_type": "markdown",
   "source": [
    "**Zadanie 1**  \n",
    "1. Wczytaj pliki danych i scal je w jedną ramkę DataFrame.\n",
    "2. Wykonaj analizę typów danych podobnie jak w przykładach.\n",
    "3. Zmierz wielkość pamięci RAM ramki z domyślnymi typami danych."
   ],
   "metadata": {
    "collapsed": false
   },
   "id": "b75ed5696151d18e"
  },
  {
   "cell_type": "code",
   "outputs": [
    {
     "data": {
      "text/plain": "              sid  sid_profile      post_id  profile_id                 date  \\\n0        28370919      3496776  BXdjjUlgcgq  2237947779  2017-08-06 20:06:57   \n1        13623950      3496776  BeyPed5hKj9  2237947779  2018-02-04 19:35:20   \n2        28370905      3496776  Bunhd1DFVAG  2237947779  2019-03-05 08:03:11   \n3        28370907      3496776  Bppi85gliQK  2237947779  2018-11-01 20:17:41   \n4        32170690      3496776  BuDfIyslzfw  2237947779  2019-02-19 08:10:11   \n...           ...          ...          ...         ...                  ...   \n1147353  43194861      4492285  Bw6NjgYH9VF  3198207653  2019-05-01 08:17:33   \n1147354  43194863      4492285  Bwossrynm05  3198207653  2019-04-24 13:03:22   \n1147355  43194867      4492285  Bvx0jgoHk8h  3198207653  2019-04-03 05:33:47   \n1147356  43194869      4492285  BtkHy1fnH2n  3198207653  2019-02-07 03:49:45   \n1147357  43194885      4492288  BeLk-e5DyvV  6034280986  2018-01-20 19:12:49   \n\n         post_type                                        description  likes  \\\n0                2  Wreckloose! Deevalley bike park laps on the @i...     80   \n1                1  The dirty south was prime today. Top day with ...     86   \n2                1  Tech Tuesday. Been flat out on the tools. Got ...    168   \n3                1  On the tools, my favourite wheel builds @stans...    102   \n4                1  Solid effort on the bar turn.\\nFully turned.\\n...    145   \n...            ...                                                ...    ...   \n1147353          1                          Beijing has nice days too    151   \n1147354          1                                            Breaded    149   \n1147355          1              A taste of Tokyo in Beijing 🍱 #waimai     74   \n1147356          1           When it’s -23 degrees, eat ice cream ☃️🍦    111   \n1147357          1                      Love me a good propaganda map     23   \n\n         comments            username  \\\n0               0           andylund_   \n1               2           andylund_   \n2               3           andylund_   \n3               2           andylund_   \n4               2           andylund_   \n...           ...                 ...   \n1147353         3          zarazhangg   \n1147354         2          zarazhangg   \n1147355         1          zarazhangg   \n1147356         6          zarazhangg   \n1147357         0  matthewgoodman1952   \n\n                                                       bio  following  \\\n0        Professional Bicycle technician, Intense Racin...        520   \n1        Professional Bicycle technician, Intense Racin...        520   \n2        Professional Bicycle technician, Intense Racin...        520   \n3        Professional Bicycle technician, Intense Racin...        520   \n4        Professional Bicycle technician, Intense Racin...        520   \n...                                                    ...        ...   \n1147353  Harvard grad from China working in tech 🇨🇳🇸🇬🇯🇵...       1801   \n1147354  Harvard grad from China working in tech 🇨🇳🇸🇬🇯🇵...       1801   \n1147355  Harvard grad from China working in tech 🇨🇳🇸🇬🇯🇵...       1801   \n1147356  Harvard grad from China working in tech 🇨🇳🇸🇬🇯🇵...       1801   \n1147357  I'm taking History1952: Mapping History this s...         86   \n\n         followers  num_posts  is_business_account lang               category  \n0             1204        494                False   en     travel_&_adventure  \n1             1204        494                False   en   diaries_&_daily_life  \n2             1204        494                False   en   science_&_technology  \n3             1204        494                False   en   diaries_&_daily_life  \n4             1204        494                False   en   diaries_&_daily_life  \n...            ...        ...                  ...  ...                    ...  \n1147353       1428        249                False   en   diaries_&_daily_life  \n1147354       1428        249                False   en          food_&_dining  \n1147355       1428        249                False   en     travel_&_adventure  \n1147356       1428        249                False   en          food_&_dining  \n1147357         99         67                False   en  news_&_social_concern  \n\n[6884148 rows x 17 columns]",
      "text/html": "<div>\n<style scoped>\n    .dataframe tbody tr th:only-of-type {\n        vertical-align: middle;\n    }\n\n    .dataframe tbody tr th {\n        vertical-align: top;\n    }\n\n    .dataframe thead th {\n        text-align: right;\n    }\n</style>\n<table border=\"1\" class=\"dataframe\">\n  <thead>\n    <tr style=\"text-align: right;\">\n      <th></th>\n      <th>sid</th>\n      <th>sid_profile</th>\n      <th>post_id</th>\n      <th>profile_id</th>\n      <th>date</th>\n      <th>post_type</th>\n      <th>description</th>\n      <th>likes</th>\n      <th>comments</th>\n      <th>username</th>\n      <th>bio</th>\n      <th>following</th>\n      <th>followers</th>\n      <th>num_posts</th>\n      <th>is_business_account</th>\n      <th>lang</th>\n      <th>category</th>\n    </tr>\n  </thead>\n  <tbody>\n    <tr>\n      <th>0</th>\n      <td>28370919</td>\n      <td>3496776</td>\n      <td>BXdjjUlgcgq</td>\n      <td>2237947779</td>\n      <td>2017-08-06 20:06:57</td>\n      <td>2</td>\n      <td>Wreckloose! Deevalley bike park laps on the @i...</td>\n      <td>80</td>\n      <td>0</td>\n      <td>andylund_</td>\n      <td>Professional Bicycle technician, Intense Racin...</td>\n      <td>520</td>\n      <td>1204</td>\n      <td>494</td>\n      <td>False</td>\n      <td>en</td>\n      <td>travel_&amp;_adventure</td>\n    </tr>\n    <tr>\n      <th>1</th>\n      <td>13623950</td>\n      <td>3496776</td>\n      <td>BeyPed5hKj9</td>\n      <td>2237947779</td>\n      <td>2018-02-04 19:35:20</td>\n      <td>1</td>\n      <td>The dirty south was prime today. Top day with ...</td>\n      <td>86</td>\n      <td>2</td>\n      <td>andylund_</td>\n      <td>Professional Bicycle technician, Intense Racin...</td>\n      <td>520</td>\n      <td>1204</td>\n      <td>494</td>\n      <td>False</td>\n      <td>en</td>\n      <td>diaries_&amp;_daily_life</td>\n    </tr>\n    <tr>\n      <th>2</th>\n      <td>28370905</td>\n      <td>3496776</td>\n      <td>Bunhd1DFVAG</td>\n      <td>2237947779</td>\n      <td>2019-03-05 08:03:11</td>\n      <td>1</td>\n      <td>Tech Tuesday. Been flat out on the tools. Got ...</td>\n      <td>168</td>\n      <td>3</td>\n      <td>andylund_</td>\n      <td>Professional Bicycle technician, Intense Racin...</td>\n      <td>520</td>\n      <td>1204</td>\n      <td>494</td>\n      <td>False</td>\n      <td>en</td>\n      <td>science_&amp;_technology</td>\n    </tr>\n    <tr>\n      <th>3</th>\n      <td>28370907</td>\n      <td>3496776</td>\n      <td>Bppi85gliQK</td>\n      <td>2237947779</td>\n      <td>2018-11-01 20:17:41</td>\n      <td>1</td>\n      <td>On the tools, my favourite wheel builds @stans...</td>\n      <td>102</td>\n      <td>2</td>\n      <td>andylund_</td>\n      <td>Professional Bicycle technician, Intense Racin...</td>\n      <td>520</td>\n      <td>1204</td>\n      <td>494</td>\n      <td>False</td>\n      <td>en</td>\n      <td>diaries_&amp;_daily_life</td>\n    </tr>\n    <tr>\n      <th>4</th>\n      <td>32170690</td>\n      <td>3496776</td>\n      <td>BuDfIyslzfw</td>\n      <td>2237947779</td>\n      <td>2019-02-19 08:10:11</td>\n      <td>1</td>\n      <td>Solid effort on the bar turn.\\nFully turned.\\n...</td>\n      <td>145</td>\n      <td>2</td>\n      <td>andylund_</td>\n      <td>Professional Bicycle technician, Intense Racin...</td>\n      <td>520</td>\n      <td>1204</td>\n      <td>494</td>\n      <td>False</td>\n      <td>en</td>\n      <td>diaries_&amp;_daily_life</td>\n    </tr>\n    <tr>\n      <th>...</th>\n      <td>...</td>\n      <td>...</td>\n      <td>...</td>\n      <td>...</td>\n      <td>...</td>\n      <td>...</td>\n      <td>...</td>\n      <td>...</td>\n      <td>...</td>\n      <td>...</td>\n      <td>...</td>\n      <td>...</td>\n      <td>...</td>\n      <td>...</td>\n      <td>...</td>\n      <td>...</td>\n      <td>...</td>\n    </tr>\n    <tr>\n      <th>1147353</th>\n      <td>43194861</td>\n      <td>4492285</td>\n      <td>Bw6NjgYH9VF</td>\n      <td>3198207653</td>\n      <td>2019-05-01 08:17:33</td>\n      <td>1</td>\n      <td>Beijing has nice days too</td>\n      <td>151</td>\n      <td>3</td>\n      <td>zarazhangg</td>\n      <td>Harvard grad from China working in tech 🇨🇳🇸🇬🇯🇵...</td>\n      <td>1801</td>\n      <td>1428</td>\n      <td>249</td>\n      <td>False</td>\n      <td>en</td>\n      <td>diaries_&amp;_daily_life</td>\n    </tr>\n    <tr>\n      <th>1147354</th>\n      <td>43194863</td>\n      <td>4492285</td>\n      <td>Bwossrynm05</td>\n      <td>3198207653</td>\n      <td>2019-04-24 13:03:22</td>\n      <td>1</td>\n      <td>Breaded</td>\n      <td>149</td>\n      <td>2</td>\n      <td>zarazhangg</td>\n      <td>Harvard grad from China working in tech 🇨🇳🇸🇬🇯🇵...</td>\n      <td>1801</td>\n      <td>1428</td>\n      <td>249</td>\n      <td>False</td>\n      <td>en</td>\n      <td>food_&amp;_dining</td>\n    </tr>\n    <tr>\n      <th>1147355</th>\n      <td>43194867</td>\n      <td>4492285</td>\n      <td>Bvx0jgoHk8h</td>\n      <td>3198207653</td>\n      <td>2019-04-03 05:33:47</td>\n      <td>1</td>\n      <td>A taste of Tokyo in Beijing 🍱 #waimai</td>\n      <td>74</td>\n      <td>1</td>\n      <td>zarazhangg</td>\n      <td>Harvard grad from China working in tech 🇨🇳🇸🇬🇯🇵...</td>\n      <td>1801</td>\n      <td>1428</td>\n      <td>249</td>\n      <td>False</td>\n      <td>en</td>\n      <td>travel_&amp;_adventure</td>\n    </tr>\n    <tr>\n      <th>1147356</th>\n      <td>43194869</td>\n      <td>4492285</td>\n      <td>BtkHy1fnH2n</td>\n      <td>3198207653</td>\n      <td>2019-02-07 03:49:45</td>\n      <td>1</td>\n      <td>When it’s -23 degrees, eat ice cream ☃️🍦</td>\n      <td>111</td>\n      <td>6</td>\n      <td>zarazhangg</td>\n      <td>Harvard grad from China working in tech 🇨🇳🇸🇬🇯🇵...</td>\n      <td>1801</td>\n      <td>1428</td>\n      <td>249</td>\n      <td>False</td>\n      <td>en</td>\n      <td>food_&amp;_dining</td>\n    </tr>\n    <tr>\n      <th>1147357</th>\n      <td>43194885</td>\n      <td>4492288</td>\n      <td>BeLk-e5DyvV</td>\n      <td>6034280986</td>\n      <td>2018-01-20 19:12:49</td>\n      <td>1</td>\n      <td>Love me a good propaganda map</td>\n      <td>23</td>\n      <td>0</td>\n      <td>matthewgoodman1952</td>\n      <td>I'm taking History1952: Mapping History this s...</td>\n      <td>86</td>\n      <td>99</td>\n      <td>67</td>\n      <td>False</td>\n      <td>en</td>\n      <td>news_&amp;_social_concern</td>\n    </tr>\n  </tbody>\n</table>\n<p>6884148 rows × 17 columns</p>\n</div>"
     },
     "execution_count": 1,
     "metadata": {},
     "output_type": "execute_result"
    }
   ],
   "source": [
    "import os\n",
    "import time\n",
    "\n",
    "import pandas as pd\n",
    "\n",
    "files = [[f\"data\\\\{f}\"] for f in os.listdir(\"data\") if f.endswith(\".parquet\")]\n",
    "\n",
    "df = pd.DataFrame()\n",
    "for f in files:\n",
    "    path = os.path.join(\"..\", \"L1\", f[0])\n",
    "    df = pd.concat([df, pd.read_parquet(path, engine='fastparquet')])\n",
    "\n",
    "df"
   ],
   "metadata": {
    "collapsed": false,
    "ExecuteTime": {
     "end_time": "2024-10-12T19:30:37.780431Z",
     "start_time": "2024-10-12T19:30:11.242419400Z"
    }
   },
   "id": "4255cc7f3c6b0f71",
   "execution_count": 1
  },
  {
   "cell_type": "code",
   "outputs": [
    {
     "data": {
      "text/plain": "sid                     int64\nsid_profile             int64\npost_id                object\nprofile_id              int64\ndate                   object\npost_type               int64\ndescription            object\nlikes                   int64\ncomments                int64\nusername               object\nbio                    object\nfollowing               int64\nfollowers               int64\nnum_posts               int64\nis_business_account      bool\nlang                   object\ncategory               object\ndtype: object"
     },
     "execution_count": 2,
     "metadata": {},
     "output_type": "execute_result"
    }
   ],
   "source": [
    "df.dtypes"
   ],
   "metadata": {
    "collapsed": false,
    "ExecuteTime": {
     "end_time": "2024-10-12T19:30:37.783919200Z",
     "start_time": "2024-10-12T19:30:37.768920100Z"
    }
   },
   "id": "810dc259ca4db12e",
   "execution_count": 2
  },
  {
   "cell_type": "code",
   "outputs": [
    {
     "data": {
      "text/plain": "Index                    55073184\nsid                      55073184\nsid_profile              55073184\npost_id                 468070228\nprofile_id               55073184\ndate                    523195248\npost_type                55073184\ndescription            3664822457\nlikes                    55073184\ncomments                 55073184\nusername                479883093\nbio                    1863561713\nfollowing                55073184\nfollowers                55073184\nnum_posts                55073184\nis_business_account       6884148\nlang                    406164732\ncategory                508581645\ndtype: int64"
     },
     "execution_count": 3,
     "metadata": {},
     "output_type": "execute_result"
    }
   ],
   "source": [
    "df1_memory = df.memory_usage(deep=True)\n",
    "df1_memory"
   ],
   "metadata": {
    "collapsed": false,
    "ExecuteTime": {
     "end_time": "2024-10-12T19:30:46.484920200Z",
     "start_time": "2024-10-12T19:30:37.774918700Z"
    }
   },
   "id": "202a9ade68a7a28c",
   "execution_count": 3
  },
  {
   "cell_type": "code",
   "outputs": [
    {
     "data": {
      "text/plain": "8471895104"
     },
     "execution_count": 4,
     "metadata": {},
     "output_type": "execute_result"
    }
   ],
   "source": [
    "sum(df.memory_usage(deep=True))"
   ],
   "metadata": {
    "collapsed": false,
    "ExecuteTime": {
     "end_time": "2024-10-12T19:30:54.230418Z",
     "start_time": "2024-10-12T19:30:46.486420700Z"
    }
   },
   "id": "a58281598487af30",
   "execution_count": 4
  },
  {
   "cell_type": "markdown",
   "source": [
    "**Zadanie 2**  \n",
    "Dobierz bardziej optymalne typy danych i ponownie zmierz wielkość zajmowanej pamięci RAM.\n",
    "Porównaj obie wielkości na wykresie (wybierz pasujący typ wykresu)."
   ],
   "metadata": {
    "collapsed": false
   },
   "id": "ab5b60f479272410"
  },
  {
   "cell_type": "code",
   "outputs": [
    {
     "data": {
      "text/plain": "                 sid   sid_profile        profile_id     post_type  \\\ncount  6884148.00000 6884148.00000     6884148.00000 6884148.00000   \nmean  29558500.80795 3457955.52530  2547560155.32008       1.01382   \nstd   12816867.54420 1022692.84116  3229435999.72386       0.11679   \nmin       6025.00000      -1.00000           4.00000       1.00000   \n25%   17093229.50000 3314935.00000   209447488.00000       1.00000   \n50%   37450453.50000 3760938.00000  1099984196.00000       1.00000   \n75%   40279382.25000 4087801.00000  4069290253.00000       1.00000   \nmax   43330548.00000 4510785.00000 15666951479.00000       3.00000   \n\n              likes      comments     following       followers     num_posts  \ncount 6884148.00000 6884148.00000 6884148.00000   6884148.00000 6884148.00000  \nmean      384.63353       8.16274    1081.43728     19077.30757     857.96042  \nstd      6774.44149     140.75957    2615.01166    681331.31529    1987.41543  \nmin         0.00000       0.00000       0.00000         0.00000       0.00000  \n25%        20.00000       0.00000     306.00000       302.00000     111.00000  \n50%        46.00000       2.00000     657.00000       745.00000     330.00000  \n75%       123.00000       5.00000    1204.00000      1764.00000     886.00000  \nmax   3311246.00000  173988.00000 1190947.00000 285457645.00000  183730.00000  ",
      "text/html": "<div>\n<style scoped>\n    .dataframe tbody tr th:only-of-type {\n        vertical-align: middle;\n    }\n\n    .dataframe tbody tr th {\n        vertical-align: top;\n    }\n\n    .dataframe thead th {\n        text-align: right;\n    }\n</style>\n<table border=\"1\" class=\"dataframe\">\n  <thead>\n    <tr style=\"text-align: right;\">\n      <th></th>\n      <th>sid</th>\n      <th>sid_profile</th>\n      <th>profile_id</th>\n      <th>post_type</th>\n      <th>likes</th>\n      <th>comments</th>\n      <th>following</th>\n      <th>followers</th>\n      <th>num_posts</th>\n    </tr>\n  </thead>\n  <tbody>\n    <tr>\n      <th>count</th>\n      <td>6884148.00000</td>\n      <td>6884148.00000</td>\n      <td>6884148.00000</td>\n      <td>6884148.00000</td>\n      <td>6884148.00000</td>\n      <td>6884148.00000</td>\n      <td>6884148.00000</td>\n      <td>6884148.00000</td>\n      <td>6884148.00000</td>\n    </tr>\n    <tr>\n      <th>mean</th>\n      <td>29558500.80795</td>\n      <td>3457955.52530</td>\n      <td>2547560155.32008</td>\n      <td>1.01382</td>\n      <td>384.63353</td>\n      <td>8.16274</td>\n      <td>1081.43728</td>\n      <td>19077.30757</td>\n      <td>857.96042</td>\n    </tr>\n    <tr>\n      <th>std</th>\n      <td>12816867.54420</td>\n      <td>1022692.84116</td>\n      <td>3229435999.72386</td>\n      <td>0.11679</td>\n      <td>6774.44149</td>\n      <td>140.75957</td>\n      <td>2615.01166</td>\n      <td>681331.31529</td>\n      <td>1987.41543</td>\n    </tr>\n    <tr>\n      <th>min</th>\n      <td>6025.00000</td>\n      <td>-1.00000</td>\n      <td>4.00000</td>\n      <td>1.00000</td>\n      <td>0.00000</td>\n      <td>0.00000</td>\n      <td>0.00000</td>\n      <td>0.00000</td>\n      <td>0.00000</td>\n    </tr>\n    <tr>\n      <th>25%</th>\n      <td>17093229.50000</td>\n      <td>3314935.00000</td>\n      <td>209447488.00000</td>\n      <td>1.00000</td>\n      <td>20.00000</td>\n      <td>0.00000</td>\n      <td>306.00000</td>\n      <td>302.00000</td>\n      <td>111.00000</td>\n    </tr>\n    <tr>\n      <th>50%</th>\n      <td>37450453.50000</td>\n      <td>3760938.00000</td>\n      <td>1099984196.00000</td>\n      <td>1.00000</td>\n      <td>46.00000</td>\n      <td>2.00000</td>\n      <td>657.00000</td>\n      <td>745.00000</td>\n      <td>330.00000</td>\n    </tr>\n    <tr>\n      <th>75%</th>\n      <td>40279382.25000</td>\n      <td>4087801.00000</td>\n      <td>4069290253.00000</td>\n      <td>1.00000</td>\n      <td>123.00000</td>\n      <td>5.00000</td>\n      <td>1204.00000</td>\n      <td>1764.00000</td>\n      <td>886.00000</td>\n    </tr>\n    <tr>\n      <th>max</th>\n      <td>43330548.00000</td>\n      <td>4510785.00000</td>\n      <td>15666951479.00000</td>\n      <td>3.00000</td>\n      <td>3311246.00000</td>\n      <td>173988.00000</td>\n      <td>1190947.00000</td>\n      <td>285457645.00000</td>\n      <td>183730.00000</td>\n    </tr>\n  </tbody>\n</table>\n</div>"
     },
     "execution_count": 5,
     "metadata": {},
     "output_type": "execute_result"
    }
   ],
   "source": [
    "pd.options.display.float_format = '{:.5f}'.format\n",
    "desc = df.describe()\n",
    "desc"
   ],
   "metadata": {
    "collapsed": false,
    "ExecuteTime": {
     "end_time": "2024-10-12T19:30:56.238420100Z",
     "start_time": "2024-10-12T19:30:54.234920200Z"
    }
   },
   "id": "fb6dfdf15f71e026",
   "execution_count": 5
  },
  {
   "cell_type": "code",
   "outputs": [
    {
     "name": "stdout",
     "output_type": "stream",
     "text": [
      "127\n",
      "32767\n",
      "2147483647\n",
      "9223372036854775807\n"
     ]
    }
   ],
   "source": [
    "import numpy as np\n",
    "\n",
    "print(np.iinfo(np.int8).max)\n",
    "print(np.iinfo(np.int16).max)\n",
    "print(np.iinfo(np.int32).max)\n",
    "print(np.iinfo(np.int64).max)"
   ],
   "metadata": {
    "collapsed": false,
    "ExecuteTime": {
     "end_time": "2024-10-12T19:30:56.280418500Z",
     "start_time": "2024-10-12T19:30:56.239919100Z"
    }
   },
   "id": "a58484859a7fde5c",
   "execution_count": 6
  },
  {
   "cell_type": "code",
   "outputs": [],
   "source": [
    "df2 = df.copy()\n",
    "df2['category'] = df['category'].astype('category')\n",
    "df2['lang'] = df['lang'].astype('category')\n",
    "df2['post_type'] = df['post_type'].astype('category')\n",
    "df2['date'] = pd.to_datetime(df['date'])\n",
    "df2['sid'] = df['sid'].astype('int32')\n",
    "df2['sid_profile'] = df['sid_profile'].astype('int32')\n",
    "df2['likes'] = df['likes'].astype('int32')\n",
    "df2['comments'] = df['comments'].astype('int32')\n",
    "df2['following'] = df['following'].astype('int32')\n",
    "df2['followers'] = df['followers'].astype('int32')\n",
    "df2['num_posts'] = df['num_posts'].astype('int32')"
   ],
   "metadata": {
    "collapsed": false,
    "ExecuteTime": {
     "end_time": "2024-10-12T19:31:05.034918300Z",
     "start_time": "2024-10-12T19:30:56.251418800Z"
    }
   },
   "id": "293f00a3310a8a2c",
   "execution_count": 7
  },
  {
   "cell_type": "code",
   "outputs": [
    {
     "data": {
      "text/plain": "sid                             int32\nsid_profile                     int32\npost_id                        object\nprofile_id                      int64\ndate                   datetime64[ns]\npost_type                    category\ndescription                    object\nlikes                           int32\ncomments                        int32\nusername                       object\nbio                            object\nfollowing                       int32\nfollowers                       int32\nnum_posts                       int32\nis_business_account              bool\nlang                         category\ncategory                     category\ndtype: object"
     },
     "execution_count": 8,
     "metadata": {},
     "output_type": "execute_result"
    }
   ],
   "source": [
    "df2.dtypes"
   ],
   "metadata": {
    "collapsed": false,
    "ExecuteTime": {
     "end_time": "2024-10-12T19:31:05.057921800Z",
     "start_time": "2024-10-12T19:31:05.036921600Z"
    }
   },
   "id": "924f61a870c3fec6",
   "execution_count": 8
  },
  {
   "cell_type": "code",
   "outputs": [
    {
     "data": {
      "text/plain": "Index                    55073184\nsid                      27536592\nsid_profile              27536592\npost_id                 468070228\nprofile_id               55073184\ndate                     55073184\npost_type                 6884280\ndescription            3664822457\nlikes                    27536592\ncomments                 27536592\nusername                479883093\nbio                    1863561713\nfollowing                27536592\nfollowers                27536592\nnum_posts                27536592\nis_business_account       6884148\nlang                      6884315\ncategory                  6886077\ndtype: int64"
     },
     "execution_count": 9,
     "metadata": {},
     "output_type": "execute_result"
    }
   ],
   "source": [
    "df2_memory = df2.memory_usage(deep=True)\n",
    "df2_memory"
   ],
   "metadata": {
    "collapsed": false,
    "ExecuteTime": {
     "end_time": "2024-10-12T19:31:09.620922300Z",
     "start_time": "2024-10-12T19:31:05.046919200Z"
    }
   },
   "id": "74c9cc2d4b0e69ea",
   "execution_count": 9
  },
  {
   "cell_type": "code",
   "outputs": [
    {
     "data": {
      "text/plain": "6861852007"
     },
     "execution_count": 10,
     "metadata": {},
     "output_type": "execute_result"
    }
   ],
   "source": [
    "sum(df2.memory_usage(deep=True))"
   ],
   "metadata": {
    "collapsed": false,
    "ExecuteTime": {
     "end_time": "2024-10-12T19:31:14.161421500Z",
     "start_time": "2024-10-12T19:31:09.622919100Z"
    }
   },
   "id": "bbe2ae3a6d5007b3",
   "execution_count": 10
  },
  {
   "cell_type": "code",
   "outputs": [
    {
     "data": {
      "text/plain": "<Figure size 1000x600 with 1 Axes>",
      "image/png": "[encoded data removed]"
     },
     "metadata": {},
     "output_type": "display_data"
    }
   ],
   "source": [
    "import matplotlib.pyplot as plt\n",
    "\n",
    "# Set the figure size\n",
    "plt.figure(figsize=(10, 6))\n",
    "\n",
    "# Set the bar width\n",
    "bar_width = 0.35\n",
    "\n",
    "# Set the index for the x-axis\n",
    "index = range(len(df1_memory))\n",
    "\n",
    "# Plot the memory usage for the first DataFrame\n",
    "plt.bar(index, df1_memory, width=bar_width, label='DF1 Memory Usage', color='blue')\n",
    "\n",
    "# Plot the memory usage for the second DataFrame, offsetting the x position\n",
    "plt.bar([i + bar_width for i in index], df2_memory, width=bar_width, label='DF2 Memory Usage', color='orange')\n",
    "\n",
    "# Adding titles and labels\n",
    "plt.title('Memory Usage of Two DataFrames')\n",
    "plt.xlabel('DataFrame Columns')\n",
    "plt.ylabel('Memory Usage (bytes)')\n",
    "\n",
    "# Set the x-ticks to the center of the grouped bars\n",
    "plt.xticks([i + bar_width / 2 for i in index], df1_memory.index, rotation=90)\n",
    "\n",
    "# Show legend\n",
    "plt.legend()\n",
    "\n",
    "# Display the plot\n",
    "plt.show()"
   ],
   "metadata": {
    "collapsed": false,
    "ExecuteTime": {
     "end_time": "2024-10-12T19:31:15.041733500Z",
     "start_time": "2024-10-12T19:31:14.158419300Z"
    }
   },
   "id": "84fe388064440534",
   "execution_count": 11
  },
  {
   "cell_type": "markdown",
   "source": [
    "**Zadanie 3**  \n",
    "Wykonaj 3 wybrane operacje (grupowanie + agregacja, filtrowanie, itp.) na całej ramce i zmierz czas wykonania na danych oryginalnych i zoptymalizowanych.\n",
    "Wyświetl te czasy."
   ],
   "metadata": {
    "collapsed": false
   },
   "id": "de22a6c806cf1969"
  },
  {
   "cell_type": "code",
   "outputs": [
    {
     "name": "stdout",
     "output_type": "stream",
     "text": [
      "grouping\n",
      "stop: 0:00:03.336691\n",
      "stop: 0:00:02.773178\n"
     ]
    }
   ],
   "source": [
    "from datetime import datetime\n",
    "\n",
    "print(\"grouping\")\n",
    "start = datetime.now()\n",
    "df.groupby('username').count()\n",
    "print(f'stop: {datetime.now() - start}')\n",
    "start = datetime.now()\n",
    "df2.groupby('username').count()\n",
    "print(f'stop: {datetime.now() - start}')"
   ],
   "metadata": {
    "collapsed": false,
    "ExecuteTime": {
     "end_time": "2024-10-12T19:31:21.158025500Z",
     "start_time": "2024-10-12T19:31:15.040734700Z"
    }
   },
   "id": "12807911c63bd243",
   "execution_count": 12
  },
  {
   "cell_type": "code",
   "outputs": [
    {
     "name": "stdout",
     "output_type": "stream",
     "text": [
      "filtering\n",
      "stop: 0:00:01.399999\n",
      "stop: 0:00:01.156196\n"
     ]
    }
   ],
   "source": [
    "print(\"filtering\")\n",
    "start = datetime.now()\n",
    "df[df['post_type'] == 1]\n",
    "print(f'stop: {datetime.now() - start}')\n",
    "start = datetime.now()\n",
    "df2[df2['post_type'] == 1]\n",
    "print(f'stop: {datetime.now() - start}')"
   ],
   "metadata": {
    "collapsed": false,
    "ExecuteTime": {
     "end_time": "2024-10-12T19:31:23.721221200Z",
     "start_time": "2024-10-12T19:31:21.160594700Z"
    }
   },
   "id": "973270bce2913b9c",
   "execution_count": 13
  },
  {
   "cell_type": "code",
   "outputs": [
    {
     "name": "stdout",
     "output_type": "stream",
     "text": [
      "aggregation\n",
      "stop: 0:00:01.909499\n",
      "stop: 0:00:01.871333\n"
     ]
    }
   ],
   "source": [
    "print(\"aggregation\")\n",
    "start = datetime.now()\n",
    "df.groupby('username').agg({'post_type': 'count', 'likes': 'max'}).reset_index()\n",
    "print(f'stop: {datetime.now() - start}')\n",
    "start = datetime.now()\n",
    "df2.groupby('username').agg({'post_type': 'count', 'likes': 'max'}).reset_index()\n",
    "print(f'stop: {datetime.now() - start}')"
   ],
   "metadata": {
    "collapsed": false,
    "ExecuteTime": {
     "end_time": "2024-10-12T19:31:27.530053600Z",
     "start_time": "2024-10-12T19:31:23.726721900Z"
    }
   },
   "id": "55df6fe28f08131d",
   "execution_count": 14
  },
  {
   "cell_type": "markdown",
   "source": [
    "**Zadanie 4**  \n",
    "Zapisz ramkę jako plik csv, z nagłówkami kolumn, bez indeksu.\n",
    "Sprawdź jaka jest różnica w wielkości pliku csv i sumy wielkości plików w formacie parquet (w eksploratorze, nie trzeba tego robić z poziomu kodu)."
   ],
   "metadata": {
    "collapsed": false
   },
   "id": "ae099449f2bc0c6"
  },
  {
   "cell_type": "code",
   "outputs": [],
   "source": [
    "df.to_csv('df1.csv', index=False)"
   ],
   "metadata": {
    "collapsed": false,
    "ExecuteTime": {
     "end_time": "2024-10-12T19:32:25.994931700Z",
     "start_time": "2024-10-12T19:31:27.514547400Z"
    }
   },
   "id": "772b7c0c15a59d48",
   "execution_count": 15
  },
  {
   "cell_type": "code",
   "outputs": [],
   "source": [
    "df2.to_csv('df2.csv', index=False)"
   ],
   "metadata": {
    "collapsed": false,
    "ExecuteTime": {
     "end_time": "2024-10-12T19:33:32.644328500Z",
     "start_time": "2024-10-12T19:32:25.994931700Z"
    }
   },
   "id": "e7357eabfa27be37",
   "execution_count": 16
  },
  {
   "cell_type": "markdown",
   "source": [
    "parquet paczki: 0,99 GB\n",
    "ramka bez optymalizacji: 2,44 GB\n",
    "ramka z optymalizacją: 2,44 GB"
   ],
   "metadata": {
    "collapsed": false
   },
   "id": "f7e57ae739e342b"
  },
  {
   "cell_type": "markdown",
   "source": [
    "**Zadanie 5**  \n",
    "Zmierz czas wczytywania danych z pliku csv dla 3 przypadków:\n",
    "* cały plik na raz,\n",
    "* cały plik ze wskazaniem parametru `chunksize` (możesz poeksperymentować z wielkością tego parametru),\n",
    "* z użyciem multiprocessingu zaprezentowanego w przykładzie (wcześniej podziel plik na kilka mniejszych), wskazując ilość procesów jako `ilość_rdzeni - 2` oraz drugi przypadek `(ilosc_rdzeni - 2) * 2`."
   ],
   "metadata": {
    "collapsed": false
   },
   "id": "3ca9afdcc5dc4a12"
  },
  {
   "cell_type": "markdown",
   "source": [
    "#### cały plik na raz,"
   ],
   "metadata": {
    "collapsed": false
   },
   "id": "59d63bfec7d09e6"
  },
  {
   "cell_type": "code",
   "outputs": [
    {
     "name": "stdout",
     "output_type": "stream",
     "text": [
      "stop: 0:00:48.912225\n"
     ]
    },
    {
     "data": {
      "text/plain": "   28370919  3496776  BXdjjUlgcgq  2237947779  2017-08-06 20:06:57  2  \\\n0  13623950  3496776  BeyPed5hKj9  2237947779  2018-02-04 19:35:20  1   \n1  28370905  3496776  Bunhd1DFVAG  2237947779  2019-03-05 08:03:11  1   \n2  28370907  3496776  Bppi85gliQK  2237947779  2018-11-01 20:17:41  1   \n3  32170690  3496776  BuDfIyslzfw  2237947779  2019-02-19 08:10:11  1   \n4  14315358  3496776  BxJsMDpA2yH  2237947779  2019-05-07 08:33:51  1   \n\n  Wreckloose! Deevalley bike park laps on the @intensecycles recluse!\\n@alfjonescycles \\n@saddleback_ltd \\n#deevalleybikepark #northwalestrails #ridemoremtb #recluse #bikes #cycling #mtb #bikepark #gopro  \\\n0  The dirty south was prime today. Top day with ...                                                                                                                                                          \n1  Tech Tuesday. Been flat out on the tools. Got ...                                                                                                                                                          \n2  On the tools, my favourite wheel builds @stans...                                                                                                                                                          \n3  Solid effort on the bar turn.\\nFully turned.\\n...                                                                                                                                                          \n4  Annual springtime flora picture.\\nTurn bars in...                                                                                                                                                          \n\n    80  0  andylund_  \\\n0   86  2  andylund_   \n1  168  3  andylund_   \n2  102  2  andylund_   \n3  145  2  andylund_   \n4  124  2  andylund_   \n\n  Professional Bicycle technician, Intense Racing UK, Dee valley bicycle workshop, living the north wales dream. \\nClick here ⬇️⬇️⬇️  \\\n0  Professional Bicycle technician, Intense Racin...                                                                                   \n1  Professional Bicycle technician, Intense Racin...                                                                                   \n2  Professional Bicycle technician, Intense Racin...                                                                                   \n3  Professional Bicycle technician, Intense Racin...                                                                                   \n4  Professional Bicycle technician, Intense Racin...                                                                                   \n\n   520  1204  494  False  en    travel_&_adventure  \n0  520  1204  494  False  en  diaries_&_daily_life  \n1  520  1204  494  False  en  science_&_technology  \n2  520  1204  494  False  en  diaries_&_daily_life  \n3  520  1204  494  False  en  diaries_&_daily_life  \n4  520  1204  494  False  en        arts_&_culture  ",
      "text/html": "<div>\n<style scoped>\n    .dataframe tbody tr th:only-of-type {\n        vertical-align: middle;\n    }\n\n    .dataframe tbody tr th {\n        vertical-align: top;\n    }\n\n    .dataframe thead th {\n        text-align: right;\n    }\n</style>\n<table border=\"1\" class=\"dataframe\">\n  <thead>\n    <tr style=\"text-align: right;\">\n      <th></th>\n      <th>28370919</th>\n      <th>3496776</th>\n      <th>BXdjjUlgcgq</th>\n      <th>2237947779</th>\n      <th>2017-08-06 20:06:57</th>\n      <th>2</th>\n      <th>Wreckloose! Deevalley bike park laps on the @intensecycles recluse!\\n@alfjonescycles \\n@saddleback_ltd \\n#deevalleybikepark #northwalestrails #ridemoremtb #recluse #bikes #cycling #mtb #bikepark #gopro</th>\n      <th>80</th>\n      <th>0</th>\n      <th>andylund_</th>\n      <th>Professional Bicycle technician, Intense Racing UK, Dee valley bicycle workshop, living the north wales dream. \\nClick here ⬇️⬇️⬇️</th>\n      <th>520</th>\n      <th>1204</th>\n      <th>494</th>\n      <th>False</th>\n      <th>en</th>\n      <th>travel_&amp;_adventure</th>\n    </tr>\n  </thead>\n  <tbody>\n    <tr>\n      <th>0</th>\n      <td>13623950</td>\n      <td>3496776</td>\n      <td>BeyPed5hKj9</td>\n      <td>2237947779</td>\n      <td>2018-02-04 19:35:20</td>\n      <td>1</td>\n      <td>The dirty south was prime today. Top day with ...</td>\n      <td>86</td>\n      <td>2</td>\n      <td>andylund_</td>\n      <td>Professional Bicycle technician, Intense Racin...</td>\n      <td>520</td>\n      <td>1204</td>\n      <td>494</td>\n      <td>False</td>\n      <td>en</td>\n      <td>diaries_&amp;_daily_life</td>\n    </tr>\n    <tr>\n      <th>1</th>\n      <td>28370905</td>\n      <td>3496776</td>\n      <td>Bunhd1DFVAG</td>\n      <td>2237947779</td>\n      <td>2019-03-05 08:03:11</td>\n      <td>1</td>\n      <td>Tech Tuesday. Been flat out on the tools. Got ...</td>\n      <td>168</td>\n      <td>3</td>\n      <td>andylund_</td>\n      <td>Professional Bicycle technician, Intense Racin...</td>\n      <td>520</td>\n      <td>1204</td>\n      <td>494</td>\n      <td>False</td>\n      <td>en</td>\n      <td>science_&amp;_technology</td>\n    </tr>\n    <tr>\n      <th>2</th>\n      <td>28370907</td>\n      <td>3496776</td>\n      <td>Bppi85gliQK</td>\n      <td>2237947779</td>\n      <td>2018-11-01 20:17:41</td>\n      <td>1</td>\n      <td>On the tools, my favourite wheel builds @stans...</td>\n      <td>102</td>\n      <td>2</td>\n      <td>andylund_</td>\n      <td>Professional Bicycle technician, Intense Racin...</td>\n      <td>520</td>\n      <td>1204</td>\n      <td>494</td>\n      <td>False</td>\n      <td>en</td>\n      <td>diaries_&amp;_daily_life</td>\n    </tr>\n    <tr>\n      <th>3</th>\n      <td>32170690</td>\n      <td>3496776</td>\n      <td>BuDfIyslzfw</td>\n      <td>2237947779</td>\n      <td>2019-02-19 08:10:11</td>\n      <td>1</td>\n      <td>Solid effort on the bar turn.\\nFully turned.\\n...</td>\n      <td>145</td>\n      <td>2</td>\n      <td>andylund_</td>\n      <td>Professional Bicycle technician, Intense Racin...</td>\n      <td>520</td>\n      <td>1204</td>\n      <td>494</td>\n      <td>False</td>\n      <td>en</td>\n      <td>diaries_&amp;_daily_life</td>\n    </tr>\n    <tr>\n      <th>4</th>\n      <td>14315358</td>\n      <td>3496776</td>\n      <td>BxJsMDpA2yH</td>\n      <td>2237947779</td>\n      <td>2019-05-07 08:33:51</td>\n      <td>1</td>\n      <td>Annual springtime flora picture.\\nTurn bars in...</td>\n      <td>124</td>\n      <td>2</td>\n      <td>andylund_</td>\n      <td>Professional Bicycle technician, Intense Racin...</td>\n      <td>520</td>\n      <td>1204</td>\n      <td>494</td>\n      <td>False</td>\n      <td>en</td>\n      <td>arts_&amp;_culture</td>\n    </tr>\n  </tbody>\n</table>\n</div>"
     },
     "execution_count": 17,
     "metadata": {},
     "output_type": "execute_result"
    }
   ],
   "source": [
    "start = datetime.now()\n",
    "df = pd.read_csv('df2.csv', header=1)\n",
    "print(f'stop: {datetime.now() - start}')\n",
    "df.head()"
   ],
   "metadata": {
    "collapsed": false,
    "ExecuteTime": {
     "end_time": "2024-10-12T19:34:21.660052700Z",
     "start_time": "2024-10-12T19:33:32.643829Z"
    }
   },
   "id": "f0a37195f9d7f7eb",
   "execution_count": 17
  },
  {
   "cell_type": "markdown",
   "source": [
    "#### cały plik ze wskazaniem parametru `chunksize` (możesz poeksperymentować z wielkością tego parametru),"
   ],
   "metadata": {
    "collapsed": false
   },
   "id": "37767a6ab60948a6"
  },
  {
   "cell_type": "code",
   "outputs": [
    {
     "name": "stdout",
     "output_type": "stream",
     "text": [
      "stop: 0:00:00.014002\n"
     ]
    }
   ],
   "source": [
    "start = datetime.now()\n",
    "chunks = pd.read_csv('df2.csv', header=1, chunksize=8_000_000)\n",
    "print(f'stop: {datetime.now() - start}')"
   ],
   "metadata": {
    "collapsed": false,
    "ExecuteTime": {
     "end_time": "2024-10-12T19:34:21.697057900Z",
     "start_time": "2024-10-12T19:34:21.652050600Z"
    }
   },
   "id": "d44c3ecf3076b6e",
   "execution_count": 18
  },
  {
   "cell_type": "code",
   "outputs": [
    {
     "name": "stdout",
     "output_type": "stream",
     "text": [
      "stop: 0:00:00.009500\n"
     ]
    }
   ],
   "source": [
    "start = datetime.now()\n",
    "chunks = pd.read_csv('df2.csv', header=1, chunksize=4_000_000)\n",
    "print(f'stop: {datetime.now() - start}')"
   ],
   "metadata": {
    "collapsed": false,
    "ExecuteTime": {
     "end_time": "2024-10-12T19:34:21.699050800Z",
     "start_time": "2024-10-12T19:34:21.673051100Z"
    }
   },
   "id": "c9bc8358995374d0",
   "execution_count": 19
  },
  {
   "cell_type": "code",
   "outputs": [
    {
     "name": "stdout",
     "output_type": "stream",
     "text": [
      "stop: 0:00:00.005872\n"
     ]
    }
   ],
   "source": [
    "start = datetime.now()\n",
    "chunks = pd.read_csv('df2.csv', header=1, chunksize=1_000_000)\n",
    "print(f'stop: {datetime.now() - start}')"
   ],
   "metadata": {
    "collapsed": false,
    "ExecuteTime": {
     "end_time": "2024-10-12T19:34:21.820550100Z",
     "start_time": "2024-10-12T19:34:21.691550700Z"
    }
   },
   "id": "a7614c1df2242e22",
   "execution_count": 20
  },
  {
   "cell_type": "markdown",
   "source": [
    "multiprocesing w oddzielnym pliku"
   ],
   "metadata": {
    "collapsed": false
   },
   "id": "83915de63150be66"
  },
  {
   "cell_type": "code",
   "outputs": [],
   "source": [],
   "metadata": {
    "collapsed": false
   },
   "id": "553ea23300c0dd43"
  }
 ],
 "metadata": {
  "kernelspec": {
   "display_name": "Python 3",
   "language": "python",
   "name": "python3"
  },
  "language_info": {
   "codemirror_mode": {
    "name": "ipython",
    "version": 2
   },
   "file_extension": ".py",
   "mimetype": "text/x-python",
   "name": "python",
   "nbconvert_exporter": "python",
   "pygments_lexer": "ipython2",
   "version": "2.7.6"
  }
 },
 "nbformat": 4,
 "nbformat_minor": 5
}
