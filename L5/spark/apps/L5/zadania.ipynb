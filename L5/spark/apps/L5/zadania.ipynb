{
 "cells": [
  {
   "cell_type": "code",
   "execution_count": 3,
   "id": "1016646f-0616-4f67-b618-e255805cd196",
   "metadata": {},
   "outputs": [],
   "source": [
    "import os\n",
    "os.environ['SPARK_NAME'] = \"/opt/spark\"\n",
    "# os.environ['PYSPARK_DRIVER_PYTHON'] = 'jupyter'\n",
    "os.environ['PYSPARK_DRIVER_PYTHON_OPTS'] = 'lab'\n",
    "# os.environ['PYSPARK_PYTHON'] = 'python'\n",
    "os.environ['PYSPARK_DRIVER_PYTHON'] = '/opt/spark/work-dir/myenv/bin/python3'\n",
    "os.environ['PYSPARK_PYTHON'] = '/opt/spark/work-dir/myenv/bin/python3'"
   ]
  },
  {
   "cell_type": "code",
   "execution_count": 4,
   "id": "294ca824-4f85-4657-8cc4-40ba3ee18da8",
   "metadata": {},
   "outputs": [
    {
     "name": "stderr",
     "output_type": "stream",
     "text": [
      "Setting default log level to \"WARN\".\n",
      "To adjust logging level use sc.setLogLevel(newLevel). For SparkR, use setLogLevel(newLevel).\n",
      "24/11/13 22:10:06 WARN NativeCodeLoader: Unable to load native-hadoop library for your platform... using builtin-java classes where applicable\n",
      "24/11/13 22:10:07 WARN Utils: Service 'SparkUI' could not bind on port 4040. Attempting port 4041.\n"
     ]
    },
    {
     "data": {
      "text/html": [
       "\n",
       "        <div>\n",
       "            <p><b>SparkContext</b></p>\n",
       "\n",
       "            <p><a href=\"http://1716a3d154c5:4041\">Spark UI</a></p>\n",
       "\n",
       "            <dl>\n",
       "              <dt>Version</dt>\n",
       "                <dd><code>v3.5.3</code></dd>\n",
       "              <dt>Master</dt>\n",
       "                <dd><code>local[2]</code></dd>\n",
       "              <dt>AppName</dt>\n",
       "                <dd><code>Create-DataFrame</code></dd>\n",
       "            </dl>\n",
       "        </div>\n",
       "        "
      ],
      "text/plain": [
       "<SparkContext master=local[2] appName=Create-DataFrame>"
      ]
     },
     "execution_count": 4,
     "metadata": {},
     "output_type": "execute_result"
    }
   ],
   "source": [
    "from pyspark.sql import SparkSession\n",
    "\n",
    "spark = SparkSession\\\n",
    "        .builder\\\n",
    "        .master(\"local[2]\")\\\n",
    "        .appName(\"Create-DataFrame\")\\\n",
    "        .config(\"spark.memory.offHeap.enabled\",\"true\")\\\n",
    "        .config(\"spark.memory.offHeap.size\",\"4g\")\\\n",
    "        .getOrCreate()\n",
    "spark.sparkContext"
   ]
  },
  {
   "cell_type": "code",
   "execution_count": 5,
   "id": "14165a75-50da-4421-b96a-fe596cf78346",
   "metadata": {},
   "outputs": [],
   "source": [
    "sc = spark.sparkContext\n",
    "pan_tadeusz_file = sc.textFile(\"pan-tadeusz.txt\")\n",
    "print(type(pan_tadeusz_file))"
   ]
  },
  {
   "cell_type": "markdown",
   "id": "8a622cce598aa3e8",
   "metadata": {
    "collapsed": false,
    "jupyter": {
     "outputs_hidden": false
    }
   },
   "source": [
    "**Zadanie 1**  \n",
    "\n",
    "Wykorzystując plik z treścią Pana Tadeusza zaprezentowany w przykładach policz ile jest linii, w których zawiera się słowo `Tadeusz`. Wykorzystaj akcje i transformacje RDD."
   ]
  },
  {
   "cell_type": "code",
   "execution_count": 6,
   "id": "500454411003c247",
   "metadata": {
    "collapsed": false,
    "jupyter": {
     "outputs_hidden": false
    }
   },
   "outputs": [
    {
     "name": "stderr",
     "output_type": "stream",
     "text": [
      "[Stage 0:>                                                          (0 + 2) / 2]"
     ]
    },
    {
     "name": "stdout",
     "output_type": "stream",
     "text": [
      "Liczba linii zawierających 'Tadeusz': 182\n"
     ]
    },
    {
     "name": "stderr",
     "output_type": "stream",
     "text": [
      "                                                                                "
     ]
    }
   ],
   "source": [
    "# Filtruj linie, które zawierają słowo 'Tadeusz'\n",
    "tadeusz_lines = pan_tadeusz_file.filter(lambda line: 'Tadeusz' in line)\n",
    "# Policz, ile jest takich linii\n",
    "tadeusz_count = tadeusz_lines.count()\n",
    "print(f\"Liczba linii zawierających 'Tadeusz': {tadeusz_count}\")"
   ]
  },
  {
   "cell_type": "markdown",
   "id": "697df24d4f251294",
   "metadata": {
    "collapsed": false,
    "jupyter": {
     "outputs_hidden": false
    }
   },
   "source": [
    "**Zadanie 2**  \n",
    "Wykorzystując metodę `top()` dla obiektu RDD wyświetl 3 najdłuższe linie wczytane z pliku z książką Pan Tadeusz."
   ]
  },
  {
   "cell_type": "code",
   "execution_count": 7,
   "id": "15e2e57b210ac94e",
   "metadata": {
    "collapsed": false,
    "jupyter": {
     "outputs_hidden": false
    }
   },
   "outputs": [
    {
     "name": "stdout",
     "output_type": "stream",
     "text": [
      "3 najdłuższe linie:\n",
      "O niebezpieczeństwach wynikających z nieporządnego obozowania — Odsiecz niespodziana — Smutne położenie szlachty — Odwiedziny kwestarskie są wróżbą ratunku — Major Płut zbytnią zalotnością ściąga na siebie burzę — Wystrzał z krócicy, hasło boju — Czyny Kropiciela, czyny i niebezpieczeństwa Maćka — Konewka zasadzką ocala Soplicowo — Posiłki jezdne, atak na piechotę — Czyny Tadeusza — Pojedynek dowódców przerwany zdradą — Wojski stanowczym manewrem przechyla szalę boju — Czyny krwawe Gerwazego — Podkomorzy zwycięzca wspaniałomyślny.\n",
      "Plany myśliwskie Telimeny — Ogrodniczka wybiera się na wielki świat i słucha nauk opiekunki — Strzelcy wracają — Wielkie zadziwienie Tadeusza — Spotkanie się powtórne w Świątyni dumania i zgoda ułatwiona za pośrednictwem mrówek — U stołu wytacza się rzecz o łowach — Powieść Wojskiego o Rejtanie i księciu Denassów, przerwana — Zagajenie układów między stronami, także przerwane — Zjawisko z kluczem — Kłótnia — Hrabia z Gerwazym odbywają radę wojenną.\n",
      "Zjawisko w papilotach budzi Tadeusza — Za późne postrzeżenie omyłki — Karczma — Emisariusz — Zręczne użycie tabakiery zwraca dyskusję na właściwą drogę — Matecznik — Niedźwiedź — Niebezpieczeństwo Tadeusza i Hrabiego — Trzy strzały — Spór Sagalasówki z Sanguszkówką rozstrzygniony na stronę jednorurki horeszkowskiej — Bigos — Wojskiego powieść o pojedynku Doweyki z Domeyką przerwana szczuciem kota — Koniec powieści o Doweyce i Domeyce.\n"
     ]
    }
   ],
   "source": [
    "# Użyj top() do wyświetlenia trzech najdłuższych linii\n",
    "top_longest_lines = pan_tadeusz_file.top(3, key=lambda line: len(line))\n",
    "print(\"3 najdłuższe linie:\")\n",
    "for line in top_longest_lines:\n",
    "    print(line)"
   ]
  },
  {
   "cell_type": "markdown",
   "id": "2e3ee6b19dfbf450",
   "metadata": {
    "collapsed": false,
    "jupyter": {
     "outputs_hidden": false
    }
   },
   "source": [
    "**Zadanie 3**  \n",
    "Wykorzystując listę stopwords z adresu https://github.com/bieli/stopwords/blob/master/polish.stopwords.txt wykorzystaj akcje i transformacje RDD i wygeneruj listę unikalnych słów z pliku z treścią Pana Tadeusza (sprawdź transformację countByValue()) pomijając powyższe słowa stop oraz wszelkie znaki przestankowe. Wynik zapisz do słownika, a następnie do pliku json o nazwie pan_tadeusz_bag_of_words.json.\n",
    "Które słowo występuje w tym tekście najczęściej? Wyświetl je z wyników wygenerowanych powyżej."
   ]
  },
  {
   "cell_type": "code",
   "execution_count": 11,
   "id": "c70a8180-411b-4772-8a65-f5587013f3f7",
   "metadata": {
    "collapsed": false,
    "jupyter": {
     "outputs_hidden": false
    }
   },
   "outputs": [],
   "source": [
    "import re\n",
    "import json\n",
    "import requests\n",
    "\n",
    "stopwords_url = \"https://raw.githubusercontent.com/bieli/stopwords/master/polish.stopwords.txt\"\n",
    "stopwords = set(requests.get(stopwords_url).text.splitlines())\n",
    "# stopwords"
   ]
  },
  {
   "cell_type": "code",
   "execution_count": 14,
   "id": "a62cfbae-619b-4d0a-9179-6183f680d4ab",
   "metadata": {
    "collapsed": false,
    "jupyter": {
     "outputs_hidden": false
    }
   },
   "outputs": [
    {
     "data": {
      "text/plain": [
       "['adam',\n",
       " 'mickiewicz',\n",
       " 'tadeusz',\n",
       " 'ostatni',\n",
       " 'zajazd',\n",
       " 'litwie',\n",
       " 'isbn',\n",
       " 'księga',\n",
       " 'pierwsza',\n",
       " 'gospodarstwo']"
      ]
     },
     "execution_count": 14,
     "metadata": {},
     "output_type": "execute_result"
    }
   ],
   "source": [
    "def clean_line(line):\n",
    "    return re.sub(r'[^a-zA-ZąćęłńóśźżĄĆĘŁŃÓŚŹŻ ]', '', line.lower()).split()\n",
    "\n",
    "# Przekształcenia na RDD\n",
    "words_rdd = (\n",
    "    pan_tadeusz_file\n",
    "    .flatMap(clean_line)\n",
    "    .filter(lambda word: word not in stopwords and word)\n",
    ")\n",
    "words_rdd.take(10)"
   ]
  },
  {
   "cell_type": "code",
   "execution_count": 17,
   "id": "14af4af9-8eb2-4bc7-95e5-c801df3e8513",
   "metadata": {
    "collapsed": false,
    "jupyter": {
     "outputs_hidden": false
    }
   },
   "outputs": [],
   "source": [
    "word_counts = words_rdd.countByValue()\n",
    "# word_counts"
   ]
  },
  {
   "cell_type": "code",
   "execution_count": 19,
   "id": "a5499146-9121-452b-90ac-bf134216b998",
   "metadata": {
    "collapsed": false,
    "jupyter": {
     "outputs_hidden": false
    }
   },
   "outputs": [],
   "source": [
    "bag_of_words = dict(word_counts)\n",
    "# bag_of_words"
   ]
  },
  {
   "cell_type": "code",
   "execution_count": 20,
   "id": "6fed1442-6400-4878-a99a-03bd7a0ef9a4",
   "metadata": {
    "collapsed": false,
    "jupyter": {
     "outputs_hidden": false
    }
   },
   "outputs": [
    {
     "name": "stdout",
     "output_type": "stream",
     "text": [
      "Najczęściej występujące słowo: 'rzekł' - 155 razy\n"
     ]
    }
   ],
   "source": [
    "with open(\"pan_tadeusz_bag_of_words.json\", \"w\", encoding=\"utf-8\") as f:\n",
    "    json.dump(bag_of_words, f, ensure_ascii=False, indent=4)\n",
    "\n",
    "most_common_word = max(bag_of_words, key=bag_of_words.get)\n",
    "print(f\"Najczęściej występujące słowo: '{most_common_word}' - {bag_of_words[most_common_word]} razy\")"
   ]
  },
  {
   "cell_type": "code",
   "execution_count": null,
   "id": "ea738304-ccc8-499d-b159-af3c7712e3af",
   "metadata": {},
   "outputs": [],
   "source": []
  }
 ],
 "metadata": {
  "kernelspec": {
   "display_name": "Python 3 (ipykernel)",
   "language": "python",
   "name": "python3"
  },
  "language_info": {
   "codemirror_mode": {
    "name": "ipython",
    "version": 3
   },
   "file_extension": ".py",
   "mimetype": "text/x-python",
   "name": "python",
   "nbconvert_exporter": "python",
   "pygments_lexer": "ipython3",
   "version": "3.10.12"
  }
 },
 "nbformat": 4,
 "nbformat_minor": 5
}
